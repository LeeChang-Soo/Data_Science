{
 "cells": [
  {
   "cell_type": "markdown",
   "metadata": {
    "school_cell_uuid": "4506fe55da464ad6a8ca75bd3f338089"
   },
   "source": [
    "# Docker for Mac, Docker for Windows "
   ]
  },
  {
   "cell_type": "markdown",
   "metadata": {
    "school_cell_uuid": "ba4e0526417c4dbdb6725dab9815d70e"
   },
   "source": [
    "도커를 사용하면 데이터 분석에 필요한 각종 프로그램 설치나 환경 설정을 일일이 직접 할 필요 없이 한 번에 갖출 수 있다. 도커는 리눅스에서만 사용 가능한 가상화 컨테이너이다. 따라서 윈도우나 맥 OS를 사용하는 경우에는 오라클 버추얼박스(VirtualBox) 등의 저수준 가상화 소프트웨어로 리눅스 운영체제를 가진 가상 컴퓨터를 만들어야지만 도커를 쓸 수 있다.\n",
    "\n",
    "도커를 설치하는 방법은 크게 2가지가 있다. 하나는 자신의 운영체제에 맞는 Community Edition을 설치하는 방법과 Docker Toolbox를 설치하는 방법이다. 공식 도큐먼트에서는 Mac 과 windows를 위한 Community Edition 사용을 강력히 권하고 있다. 하지만 Windows의 경우에는 Pro edition만 설치가 가능하고, Home edition에서는 설치가 불가능 하다. 따라서, 자신의 컴퓨터가 Windows10 이하 이거나, Windows10-Home edition인 경우에는 뒷 부분의 Docker Toolbox를 설치하도록 한다. \n",
    "\n",
    "Docker Toolbox과 비교되는 Docker for Mac, Windows의 가장 중요한 차이점은 \n",
    "\n",
    "- Docker Toolbox는 VirtualBox를 사용하지만, Docker for Mac에서는 Mac OS에 맞게 경량화된 **HyperKit** 이라는 가상 머신을 사용하고, Docker for Windows에서는 **Hyper-V**를 사용한다는 점이다. 각 OS에 더 적합한 가상머신을 사용 함으로써, 서비스를 더 빠르고 가볍게 만들었다. "
   ]
  },
  {
   "cell_type": "markdown",
   "metadata": {
    "school_cell_uuid": "90207a8910e542c0b654e55b9d069670"
   },
   "source": [
    "<img src=\"https://datascienceschool.net/upfiles/06a728033d8c426b82a26fe329df25e0.png\" style=\"width: 100%;\"/>"
   ]
  },
  {
   "cell_type": "markdown",
   "metadata": {
    "school_cell_uuid": "4a5e0fc502c54257a97e13ee7af2361d",
    "sidetitle": true
   },
   "source": [
    "그림 2.2.4 : Docker Toolbox와 Docker for Mac의 환경"
   ]
  },
  {
   "cell_type": "markdown",
   "metadata": {
    "school_cell_uuid": "a35155efec364741a7ca1bc6edb5b84e"
   },
   "source": [
    "## Docker for Mac 설치 "
   ]
  },
  {
   "cell_type": "markdown",
   "metadata": {
    "school_cell_uuid": "411d83044d4f488b8525d4b58a5b86ef"
   },
   "source": [
    "### 설치 전 확인\n",
    "\n",
    "- 하드웨어 조건 : 2010년 이후에 출시된 Mac, EPT, Unrestricted Mode를 포함해, MMU(Memory Management unit, 메모리 관리 장치)가상화를 지원하는 Intel 하드웨어가 있어야한다. 본인의 컴퓨터가 이를 만족하는지 확인하는 방법은, `sysctl kern.hv_support`를 Terminal에 입력했을 때, 아래와 같이 나오는지 확인 하는 것이다. \n",
    "```\n",
    "$ sysctl kern.hv_support\n",
    "... kern.hv_support: 1\n",
    "```\n",
    "\n",
    "- El Capitan 10.11 이상의 Mac OS 버전 \n",
    "\n",
    "- 4GB 이상의 RAM \n",
    "\n",
    "- 4.3.30 이하 버전의 VirtualBox는 절대 설치되어 있으면 안된다. 그 이상 버전의 VirtualBox는 상관 없다. \n",
    "\n",
    "### 설치\n",
    " -  https://store.docker.com/editions/community/docker-ce-desktop-mac\n",
    "\n",
    " 위 링크로 가서 `Docker.dmg` 파일을 다운로드 하고, 실행한다. "
   ]
  },
  {
   "cell_type": "markdown",
   "metadata": {
    "school_cell_uuid": "f7ac1872d4ac4d2e96f433a461c22686"
   },
   "source": [
    "<img src=\"https://datascienceschool.net/upfiles/c8bab50663cd4798bc1ef582ec485d6f.png\" style=\"width: 50%;\"/>"
   ]
  },
  {
   "cell_type": "markdown",
   "metadata": {
    "school_cell_uuid": "4a5e0fc502c54257a97e13ee7af2361d",
    "sidetitle": true
   },
   "source": [
    "그림 2.2.5 : Docker.dmg 파일 실행 화면 "
   ]
  },
  {
   "cell_type": "markdown",
   "metadata": {
    "school_cell_uuid": "f7ac1872d4ac4d2e96f433a461c22686"
   },
   "source": [
    "<img src=\"https://datascienceschool.net/upfiles/73989d15cefa4753a5277c4f2c8ca525.png\" style=\"width: 50%;\"/>\n",
    "<img src=\"https://datascienceschool.net/upfiles/176d51b4c0ed4ae78df1b052d6a4043f.png\" style=\"width: 50%;\"/>"
   ]
  },
  {
   "cell_type": "markdown",
   "metadata": {
    "school_cell_uuid": "4a5e0fc502c54257a97e13ee7af2361d",
    "sidetitle": true
   },
   "source": [
    "그림 2.2.6 : Docker on Mac 설치 확인 "
   ]
  },
  {
   "cell_type": "markdown",
   "metadata": {
    "school_cell_uuid": "44d8b1a2030045dd883f6d67711ee69e"
   },
   "source": [
    "## Docker for Windows 설치 "
   ]
  },
  {
   "cell_type": "markdown",
   "metadata": {
    "school_cell_uuid": "af05c3cb3fc64c3fa68d2de2d52b8222"
   },
   "source": [
    "### 설치 전 확인\n",
    "\n",
    "- Microsoft Hyper-V가 enable 되어 있어야한다. 만약 안되어 있다면, 설치 중에 enable하라는 창이 뜹니다.\n",
    "\n",
    "- Hyper-V와 별도로 BIOS와 CPU SLAT-capable이 enable되어 있어야 한다. 기본적으로 enable되어 있지만, 확인 해보는 것을 추천한다. [작업 관리자 → 성능]에 들어가 그림 `2.2.7`에서 보이는 바와 같이 `사용`으로 설정되어 있어야한다. \n",
    "\n",
    "- Windows10 pro 이상이어야 한다. \n",
    "\n",
    "### 설치\n",
    " -  https://store.docker.com/editions/community/docker-ce-desktop-windows\n",
    "\n",
    " 위 링크로 가서 `Docker for Windows Installer.exe` 파일을 다운로드 하고, 실행한다. "
   ]
  },
  {
   "cell_type": "markdown",
   "metadata": {
    "school_cell_uuid": "30e5a2bc24744ccaa091df88d0a61d12"
   },
   "source": [
    "<img src=\"https://datascienceschool.net/upfiles/e68d33fc17b745788eada1e1cea7501d.png\" style=\"width: 100%;\"/>"
   ]
  },
  {
   "cell_type": "markdown",
   "metadata": {
    "school_cell_uuid": "4a5e0fc502c54257a97e13ee7af2361d",
    "sidetitle": true
   },
   "source": [
    "그림 2.2.7 : 가상화 사용 여부 확인"
   ]
  },
  {
   "cell_type": "markdown",
   "metadata": {
    "school_cell_uuid": "7554101f1882452d9b0d35ab89ba420e"
   },
   "source": [
    "<img src=\"https://datascienceschool.net/upfiles/7753e440aa624d328cf18f203e547215.png\" style=\"width: 50%;\"/>"
   ]
  },
  {
   "cell_type": "markdown",
   "metadata": {
    "school_cell_uuid": "1e353783be6b4a009e07ff54a9a26a4e"
   },
   "source": [
    "<img src=\"https://datascienceschool.net/upfiles/7c398dea134d47e0b010f548be5ab439.png\" style=\"width: 50%;\"/>"
   ]
  },
  {
   "cell_type": "markdown",
   "metadata": {
    "school_cell_uuid": "e19d50f78681422f85453d5d80c05b3c"
   },
   "source": [
    "<img src=\"https://datascienceschool.net/upfiles/30c4146d54bc4f0585a184fb824b7a37.png\" style=\"width: 50%;\"/>"
   ]
  },
  {
   "cell_type": "markdown",
   "metadata": {
    "school_cell_uuid": "4a5e0fc502c54257a97e13ee7af2361d",
    "sidetitle": true
   },
   "source": [
    "그림 2.2.8 : Docker for Windows 설치과정"
   ]
  }
 ],
 "metadata": {
  "celltoolbar": "Edit Metadata",
  "kernelspec": {
   "display_name": "Python 3",
   "language": "python",
   "name": "python3"
  },
  "language_info": {
   "codemirror_mode": {
    "name": "ipython",
    "version": 3
   },
   "file_extension": ".py",
   "mimetype": "text/x-python",
   "name": "python",
   "nbconvert_exporter": "python",
   "pygments_lexer": "ipython3",
   "version": "3.6.4"
  },
  "latex_envs": {
   "LaTeX_envs_menu_present": true,
   "autoclose": false,
   "autocomplete": true,
   "bibliofile": "biblio.bib",
   "cite_by": "apalike",
   "current_citInitial": 1,
   "eqLabelWithNumbers": true,
   "eqNumInitial": 1,
   "hotkeys": {
    "equation": "Ctrl-E",
    "itemize": "Ctrl-I"
   },
   "labels_anchors": false,
   "latex_user_defs": false,
   "report_style_numbering": false,
   "user_envs_cfg": false
  }
 },
 "nbformat": 4,
 "nbformat_minor": 1
}