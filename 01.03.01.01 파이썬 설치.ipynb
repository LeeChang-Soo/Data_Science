{
 "cells": [
  {
   "cell_type": "markdown",
   "metadata": {
    "school_cell_uuid": "bedc91abb99c4cb6bc5f2338d12836a2"
   },
   "source": [
    "# 파이썬 설치"
   ]
  },
  {
   "cell_type": "markdown",
   "metadata": {
    "school_cell_uuid": "a8aca10ec77941eeb6b1b34d1883e2b9"
   },
   "source": [
    "여기에서는 도커를 사용하지 않고 사용자의 컴퓨터에 직접 파이썬을 설치하여 사용하는 방법을 살펴본다. "
   ]
  },
  {
   "cell_type": "markdown",
   "metadata": {
    "school_cell_uuid": "dcefb57675bd44adb9956e0718b075b5"
   },
   "source": [
    "## 파이썬의 종류"
   ]
  },
  {
   "cell_type": "markdown",
   "metadata": {
    "school_cell_uuid": "526efa2cc77f4146beb5b187bbae62b3"
   },
   "source": [
    "파이썬을 설치한다는 것은 파이썬 언어를 해석할 수 있는 인터프리터(interpreter)라는 프로그램을 설치한다는 뜻이다. 인터프리터란 소스 코드(source code)를 읽고 해석하여 수행하는 프로그램이다. \n",
    "\n",
    "최초의 파이썬 언어 인터프리터는 C 언어로 만들어졌다. C로 만든 파이썬은 CPython(씨 파이썬이라고 읽는다.)이라고 한다. CPython은 C 혹은 C++ 언어로 된 바이너리 라이브러리를 직접 호출할 수 있기 때문에 수많은 C/C++ 라이브러리를 파이썬에서 쉽게 사용할 수 있는 장점이 있다. 수치 계산이나 데이터 분석용으로 파이썬을 사용할 때는 대부분 CPython을 사용한다.\n",
    "\n",
    "그 외에 자바(Java)로 구현된 jython, 닷넷(.NET)으로 구현된 IronPython, 자바스크립트로 구현된 Skulpt 등의 파이썬도 있다. 이처럼 각 언어로 구현된 파이썬은 자바 라이브러리나 닷넷 컴포넌트를 파이썬에서 직접 호출하여 사용해야 할 때나 웹 브라우저에서 직접 파이썬을 실행해야 할 때 쓰인다. PyPy와 Pyston은 최근 활발히 개발되고 있는 파이썬으로 JIT(Just-In-Time) 컴파일러를 내장하여 반복되는 코드를 빠르게 실행할 수 있도록 한다."
   ]
  },
  {
   "cell_type": "markdown",
   "metadata": {
    "bootstrap": {
     "panel": {
      "class": "panel-danger",
      "heading": ""
     }
    },
    "collapsed": true,
    "school_cell_uuid": "6c573cc355bf47eea17ef43b906d5e77"
   },
   "source": [
    "* 파이썬의 종류\n",
    "    * CPython: C 구현\n",
    "    * jython: 자바 구현\n",
    "    * IronPython: 닷넷 구현\n",
    "    * Skulpt: 자바스크립트 구현\n",
    "    * PyPy, Pyston: JIT 구현"
   ]
  },
  {
   "cell_type": "markdown",
   "metadata": {
    "school_cell_uuid": "574813f26a9f4a62a41c89dea0bdc42a"
   },
   "source": [
    "## 파이썬의 버전"
   ]
  },
  {
   "cell_type": "markdown",
   "metadata": {
    "school_cell_uuid": "930452622c804b7c9484cd5338e07af6"
   },
   "source": [
    "파이썬은 다른 언어와 달리 두 버전이 동시에 활발하게 사용되고 있다. 그 이유는 버전 2에서 3으로 변경되면서 문법이 호환되지 않기 때문이다. 기존에 버전 2를 사용하던 사용자는 버전 3으로 코드를 변경해야 하는 어려움이 있고, 일부 패키지는 아예 버전 3을 지원하지 않아서 이러한 패키지를 사용하는 사람은 불가피하게 버전 2를 계속 사용할 수밖에 없다."
   ]
  },
  {
   "cell_type": "markdown",
   "metadata": {
    "bootstrap": {
     "panel": {
      "class": "panel-danger",
      "heading": ""
     }
    },
    "collapsed": true,
    "school_cell_uuid": "2ba41bc0177c48308e7bbb1491aa2471"
   },
   "source": [
    "* 버전 표기법\n",
    "     * major.minor.micro\n",
    "* 메이저 버전\n",
    "     * 버전 2\n",
    "         * 2018년 9월 기준 최신 버전 2.7.15\n",
    "     * 버전 3\n",
    "         * 2018년 9월 기준 최신 버전 3.7.0\n",
    "* 버전간 차이의 예\n",
    "    * 문자열 저장\n",
    "        * 버전 2는 문자열을 바이트열 형태로 저장, 버전 3는 유니코드 포인트로 변환하여 저장\n",
    "    * 문법 차이\n",
    "        * ``print`` 명령, 나누기 연산자 등"
   ]
  },
  {
   "cell_type": "markdown",
   "metadata": {
    "school_cell_uuid": "7a6ffd4f12fc44f5a070304d05badcae"
   },
   "source": [
    "## 파이썬 설치"
   ]
  },
  {
   "cell_type": "markdown",
   "metadata": {
    "school_cell_uuid": "01b1819a23e34719b068f91acf74da53"
   },
   "source": [
    "파이썬의 종류와 버전에 대해 알아보았으니 이제 파이썬을 설치해보기로 하자. 만약 리눅스나 맥 운영체제를 사용하고 있다면 대부분 파이썬이 설치되어 있을 것이다. 윈도우를 사용하고 있다면 파이썬 공식 웹사이트에서 파이썬 인터프리터를 내려받아 설치할 수 있다."
   ]
  },
  {
   "cell_type": "markdown",
   "metadata": {
    "bootstrap": {
     "panel": {
      "class": "panel-danger",
      "heading": ""
     }
    },
    "school_cell_uuid": "e5cd149012ae44448d07e6198dcddf65"
   },
   "source": [
    "[공식 웹사이트를 통한 설치]\n",
    "\n",
    "* https://www.python.org\n",
    "* 파이썬을 사용할 수 있는 최소의 설치\n",
    "* 기본적으로 인터프리터(interpreter)와 표준 패키지만 설치\n",
    "* 권장하지 않는다."
   ]
  },
  {
   "cell_type": "markdown",
   "metadata": {
    "school_cell_uuid": "ef01c49e8c394f288a9e0c604fb74166"
   },
   "source": [
    "하지만 리눅스나 맥에 기본적으로 설치된 파이썬이나 공식 웹사이트에서 내려받아서 설치하면 파이썬 패키지 관리가 어렵고 여러 가지 다양한 추가 도구를 별도로 설치해야 해서 권장하지 않는다. 대신, 다음에 설명하는 배포판을 이용하기를 권장한다."
   ]
  },
  {
   "cell_type": "markdown",
   "metadata": {
    "school_cell_uuid": "71d00ef1ac2f4663bcf50a699db6b350"
   },
   "source": [
    "## 파이썬 배포판"
   ]
  },
  {
   "cell_type": "markdown",
   "metadata": {
    "school_cell_uuid": "4462ea7e3b814074a881dfe2ab38538e"
   },
   "source": [
    "파이썬은 기본 파이썬 인터프리터 이외에도 다양한 패키지와 개발 도구를 함께 제공하는 배포판(distribution)으로 설치하는 것이 좋다. 여러 가지 배포판이 있으므로 사용하고자 하는 운영체제, 32/64비트 지원 여부, 무료/상용 여부를 잘 고려하여 선택해야 한다."
   ]
  },
  {
   "cell_type": "markdown",
   "metadata": {
    "bootstrap": {
     "panel": {
      "class": "panel-danger",
      "heading": ""
     }
    },
    "collapsed": true,
    "school_cell_uuid": "9969ca2fb56f4099baa668d10f695e76"
   },
   "source": [
    "* 배포판의 특징: \n",
    "  * 인터프리터 및 패키지(라이브러리), 패키지 관리 시스템, 콘솔(console), 강화된 인터프리터(enhanced interpreter) 등을 포함\n",
    "\n",
    "* 배포판의 종류\n",
    "    * ActiveState \n",
    "    * pythonxy\n",
    "    * winpython\n",
    "    * Conceptive \n",
    "    * Enthought Canopy\n",
    "    * PyIMSL Studio\n",
    "    * eGenix PyRun\n",
    "    * Anaconda"
   ]
  },
  {
   "cell_type": "markdown",
   "metadata": {
    "school_cell_uuid": "c9dd95d9bdd14cd5ac3ce8e2f7a6d82a"
   },
   "source": [
    "##  아나콘다 배포판"
   ]
  },
  {
   "cell_type": "markdown",
   "metadata": {
    "school_cell_uuid": "4f5ac78fbcfc4d07a3b7ec847cc8a066"
   },
   "source": [
    "현재 가장 널리 사용되는 파이썬 배포판은 컨티눔(Continuum)사가 제작한 '아나콘다(Anaconda)'이다. 아나콘다는 가장 늦게 발표되었음에도 완성도가 뛰어나서 사실상 표준(de facto standard) 파이썬 배포판이 되었다.\n",
    "\n",
    "아나콘다 배포판은 모든 패키지가 컴파일이 필요 없는 바이너리(binary) 형태로 제공된다. 따라서 설치 속도가 빠르고 패키지 의존성을 관리해주므로 관리가 편리하다."
   ]
  },
  {
   "cell_type": "markdown",
   "metadata": {
    "bootstrap": {
     "panel": {
      "class": "panel-danger",
      "heading": ""
     }
    },
    "collapsed": true,
    "school_cell_uuid": "fc7de8411741456cb1c181c1f777871f"
   },
   "source": [
    "* 아나콘다 (Anaconda) 배포판\n",
    "    * 가장 후발 주자 (2012년 설립)\n",
    "    * 2018년 현재 사실상의 표준(de facto standard)\n",
    "    * 모든 플랫폼(윈도우/리눅스/맥 32비트/64비트)에 대해 완벽한 패키지 제공"
   ]
  },
  {
   "cell_type": "markdown",
   "metadata": {
    "school_cell_uuid": "d1c41e1b62b5476298ece7ccfa035a97"
   },
   "source": [
    "아나콘다 배포판을 설치하는 방법은 아주 쉽다. https://www.anaconda.com/download/ 웹사이트에서 원하는 운영체제와 버전을 선택하여 내려받은 뒤, 원클릭으로 설치할 수 있다. 설치 파일은 자신이 사용하는 운영체제에 맞는 것을 선택하여 내려받는다. 아나콘다는 가상 환경(virtual environment)를 지원하므로 버전 2와 버전 3 중 어느 것을 선택해도 상관없다. 즉, 버전 2를 일단 설치한 후에도 가상 환경을 사용하여 버전 3을 추가로 설치할 수 있다. 아나콘다의 가상 환경 설정 기능에 대해서는 아나콘다 사용자 가이드 문서를 참조한다.\n",
    "* https://conda.io/docs/user-guide/tasks/manage-environments.html\n",
    "\n",
    "일단 설치 파일을 내려받았다면 간단하게 설치할 수 있다. 윈도우에서는 내려받은 파일을 더블 클릭하면 설치가 쉽게 이루어진다."
   ]
  },
  {
   "cell_type": "markdown",
   "metadata": {
    "bootstrap": {
     "panel": {
      "class": "panel-danger",
      "heading": ""
     }
    },
    "collapsed": true,
    "school_cell_uuid": "bc323ffc2f18495e927286c776b32491"
   },
   "source": [
    "* 아니콘다 배포판 설치\n",
    "\n",
    "    * https://www.anaconda.com/download/ 에서 다운로드\n",
    "    * 원클릭 설치"
   ]
  },
  {
   "cell_type": "markdown",
   "metadata": {
    "school_cell_uuid": "937d68f1af9f4c4d8b8af0d463ccf44f"
   },
   "source": [
    "아나콘다의 설치 위치는 사용자가 지정할 수 있다. 보통은 C:/사용자홈디렉터리/anaconda2 디렉터리 또는 C:/사용자홈디렉터리/anaconda3 디렉터리에 설치되지만 설치 시에 변경할 수 있다.\n",
    "\n",
    "아나콘다 배포판 설치가 완료되면 윈도우 운영체제에서는 그림처럼 Anaconda2(버전 2의 경우) 또는 Anaconda3(버전 3의 경우)이라는 아이콘 그룹이 생기고, 그 아래에 다음과 같은 메뉴가 만들어진다(계속 업그레이드가 이루어지므로 설치 메뉴가 책과 다를 수 있다).\n",
    "\n",
    "* Anaconda Navigator \n",
    "* Anaconda Prompt\n",
    "* Jupyter Notebook\n",
    "* Spyder"
   ]
  },
  {
   "cell_type": "markdown",
   "metadata": {
    "school_cell_uuid": "fb9697c5e8bb489496ff869c97c0d5d9"
   },
   "source": [
    "<img src=\"https://datascienceschool.net/upfiles/fe12aaa948a34cc3852e83ed72ae10a2.png\" style=\"width: 40%;\">"
   ]
  },
  {
   "cell_type": "markdown",
   "metadata": {
    "school_cell_uuid": "ece3cb923645448fbc48cd5c4a0adaa4",
    "sidetitle": true
   },
   "source": [
    "그림 3.1.1 : 아나콘다 프로그램 그룹"
   ]
  },
  {
   "cell_type": "markdown",
   "metadata": {
    "school_cell_uuid": "c98644a3af294041937f08528720d1fb"
   },
   "source": [
    "## 파이썬 동작 확인"
   ]
  },
  {
   "cell_type": "markdown",
   "metadata": {
    "school_cell_uuid": "9ed882c016b640a08b87d9025c6e0e39"
   },
   "source": [
    "패키지 설치를 확인하였으면 메뉴에서 Anaconda Prompt 를 선택하여 파이썬 콘솔 창을 띄운다. 이 콘솔 창에 `python` 을 입력하여 기본 파이썬 인터프리터를 실행한다. 정상적으로 실행된다면 파이썬 버전 번호를 포함한 환경 메시세지가 나오고 `>>>` 형태의 프롬프트가 나온다. 메시지 내용은 사용하는 컴퓨터나 파이썬 버전, 다운로드를 받은 시점에 따라 달라질 수 있다. 파이썬 인터프리터를 종료하려면 `exit()` 명령을 실행한다."
   ]
  },
  {
   "cell_type": "markdown",
   "metadata": {
    "school_cell_uuid": "f50ad6740b8a4be4948e45c38dafd80c"
   },
   "source": [
    "```\n",
    "dockeruser@2677b557058b:~$ python\n",
    "Python 3.6.6 |Anaconda custom (64-bit)| (default, Jun 28 2018, 17:14:51)\n",
    "[GCC 7.2.0] on linux\n",
    "Type \"help\", \"copyright\", \"credits\" or \"license\" for more information.\n",
    ">>>\n",
    ">>> exit()\n",
    "dockeruser@2677b557058b:~$\n",
    "```"
   ]
  },
  {
   "cell_type": "markdown",
   "metadata": {
    "school_cell_uuid": "bd85616ef63f49c6af61cc8b8e742a4b"
   },
   "source": [
    "## IPython 콘솔 동작 확인"
   ]
  },
  {
   "cell_type": "markdown",
   "metadata": {
    "school_cell_uuid": "d21be89e83934a36b7829218687390c2"
   },
   "source": [
    "이번에는 콘솔 창에 다음과 같이 입력하여 기본 파이썬 인터프리터보다 기능이 강화된 파이썬 인터프리터인 IPython(아이 파이썬이라고 읽는다)을 실행한다. 실행 결과는 프롬프트가 아까와 달리 `In [1]`과 같은 형태로 나타난다. IPython을 종료하려면 `exit`라고만 입력하면 된다. 즉, 함수 호출을 위한 괄호는 필요없다."
   ]
  },
  {
   "cell_type": "markdown",
   "metadata": {
    "school_cell_uuid": "ae85131ab09b4375aa7924f22b82e468"
   },
   "source": [
    "```\n",
    "dockeruser@2677b557058b:~$ ipython\n",
    "Python 3.6.6 |Anaconda custom (64-bit)| (default, Jun 28 2018, 17:14:51)\n",
    "Type 'copyright', 'credits' or 'license' for more information\n",
    "IPython 6.5.0 -- An enhanced Interactive Python. Type '?' for help.\n",
    "\n",
    "In [1]:\n",
    "\n",
    "In [1]: exit\n",
    "```"
   ]
  },
  {
   "cell_type": "markdown",
   "metadata": {
    "school_cell_uuid": "789adef27e3a4feea8cd542dabcca0e1"
   },
   "source": [
    "## 주피터 노트북  동작 확인"
   ]
  },
  {
   "cell_type": "markdown",
   "metadata": {
    "school_cell_uuid": "09070e1d5558493ca17af474f62d0cc8"
   },
   "source": [
    "주피터 노트북(Jupyter Notebook)은 웹 브라우저를 사용하여 문서와 코드를 동시에 지원하는 개발 도구이다. 웹서버의 형태로 구현되어 있다. 주피터 노트북을 실행하려면 윈도우에서 다음과 같은 메뉴를 선택한다.\n",
    "\n",
    "* 모든 프로그램 → Anaconda3 → Jupyter Notebook\n",
    "\n",
    "\n",
    "또는 콘솔에서 다음과 같이 입력해도 된다.\n",
    "\n",
    "```\n",
    "$ jupyter notebook\n",
    "```"
   ]
  },
  {
   "cell_type": "markdown",
   "metadata": {
    "school_cell_uuid": "a03f1e6d0ed64448ab2af9e128f5b7f8"
   },
   "source": [
    "주피터 노트북을 실행하면 웹서버 프로세스가 돌아가는 콘솔 창이 실행되고 동시에 http://localhost:8888/tree 주소로 웹 브라우저가 가동된다. 만약 자동으로 실행되지 않는다면 웹 브라우저를 가동하고 http://localhost:8888/tree 주소를 입력한다.\n",
    "\n",
    "웹서버 프로세스가 돌아가는 콘솔 창을 닫으면 주피터 노트북 웹서버가 중지되므로 주피터 노트북 사용이 끝날 때까지 이 콘솔을 닫으면 안 된다."
   ]
  },
  {
   "cell_type": "markdown",
   "metadata": {
    "school_cell_uuid": "76600a3e70d54f9a83e0e4c96e62d8a9"
   },
   "source": [
    "<img src=\"https://datascienceschool.net/upfiles/aae2661b77c2465b8eb168e734a65285.png\" style=\"width:100%;\">"
   ]
  },
  {
   "cell_type": "markdown",
   "metadata": {
    "school_cell_uuid": "eccd6ce2350e4cc587ed219d513fe504",
    "sidetitle": true
   },
   "source": [
    "그림 3.1.2 : 주피터 노트북 콘솔과 웹 브라우저"
   ]
  }
 ],
 "metadata": {
  "celltoolbar": "Edit Metadata",
  "kernelspec": {
   "display_name": "Python 3",
   "language": "python",
   "name": "python3"
  },
  "language_info": {
   "codemirror_mode": {
    "name": "ipython",
    "version": 3
   },
   "file_extension": ".py",
   "mimetype": "text/x-python",
   "name": "python",
   "nbconvert_exporter": "python",
   "pygments_lexer": "ipython3",
   "version": "3.6.4"
  }
 },
 "nbformat": 4,
 "nbformat_minor": 1
}