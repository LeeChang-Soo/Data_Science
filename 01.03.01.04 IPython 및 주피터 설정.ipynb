{
 "cells": [
  {
   "cell_type": "markdown",
   "metadata": {
    "school_cell_uuid": "48df48a2acb1428785d44fe72113b3d0"
   },
   "source": [
    "# IPython 및 주피터 설정"
   ]
  },
  {
   "cell_type": "markdown",
   "metadata": {
    "school_cell_uuid": "02853f9eb9344d12946f798346e9fbf7"
   },
   "source": [
    "## IPython 및 주피터 설정 디렉토리"
   ]
  },
  {
   "cell_type": "markdown",
   "metadata": {
    "school_cell_uuid": "0574155d440b43bc98fe735a0c2f0269"
   },
   "source": [
    "IPython, 주피터 노트북이 설치되면 사용자 홈 디렉터리 아래에 `.ipython` 이라는 디렉터리가 생기는데, 이곳이 설정 디렉터리이다. 주피터라는 이름으로 바뀌기 전에는 ipython이라는 이름을 공통으로 사용하였으므로 이름이 바뀐 현재에도 설정 디렉터리 이름을 ipython으로 사용하고 있다.\n",
    "`datascienceschool/rpython` 도커 이미지는 사용자 홈 디렉터리가 `/home/dockeruser/`이고 IPython과 주피터 설정 디렉터리는 `/home/dockeruser/.ipython/`이다."
   ]
  },
  {
   "cell_type": "markdown",
   "metadata": {
    "school_cell_uuid": "62b98cc7b7c24d749cf657b858210fe2"
   },
   "source": [
    "### .ipython 디렉토리가 보이지 않을 때 \n",
    "\n",
    "* 윈도우에서는 탐색기에서 [보기 → 옵션 → \"폴더 및 검색 옵션 변경\"]을 눌러 폴더 옵션 창을 띄운 뒤 \"보기\" 탭에서 \"숨긴 파일, 폴더 및 드라이브 표시\"에 체크한다. \n",
    "* 맥 OS에서는 Finder에서 홈 디렉터리로 이동한 뒤 키보드에서 <kbd>shift</kbd> + <kbd>command</kbd> + <kbd>.</kbd> 키를 누른다."
   ]
  },
  {
   "cell_type": "markdown",
   "metadata": {
    "school_cell_uuid": "d5032f7b57a6481a95c98ec54ee9d338"
   },
   "source": [
    "## 프로필 작성"
   ]
  },
  {
   "cell_type": "markdown",
   "metadata": {
    "school_cell_uuid": "22a436ddfd4f4405a07b08a215366519"
   },
   "source": [
    "모든 IPython 또는 주피터 관련 설정은 프로필(profile)에 따라서 다르게 할 수 있다. 프로필은 `.ipython` 설정 디렉터리 아래에 디렉터리 형태로 저장되는데 기본으로 만들어지는 프로필 디렉터리는 `profile_default`이다. 만약 기본 프로필 디렉터리가 없다면 터미널에서 다음 명령으로 만들 수 있다.\n",
    "\n",
    "```\n",
    "$ ipython profile create\n",
    "```\n",
    "\n",
    "필자가 제공하는 `datascienceschool/rpython` 도커 이미지에는 사용자 홈 디렉터리가 `/home/dockeruser`이므로 프로필 디렉터리는 `/home/dockeruser/.ipython/profile_default/`이다."
   ]
  },
  {
   "cell_type": "markdown",
   "metadata": {
    "school_cell_uuid": "8af19efc3df6435a839fec1c0459c155"
   },
   "source": [
    "## 설정 파일"
   ]
  },
  {
   "cell_type": "markdown",
   "metadata": {
    "school_cell_uuid": "d878795ada684db2b9a0026c6f2c453c"
   },
   "source": [
    "설정은 다음 파일을 이용하며 설정 내용은 모든 IPython과 주피터 노트북에 공통으로 적용된다.\n",
    "\n",
    "* 스타트업 파일\n",
    "* `ipython_config.py` 파일"
   ]
  },
  {
   "cell_type": "markdown",
   "metadata": {
    "school_cell_uuid": "d0d2cee68326462e80c825ad88d877c1"
   },
   "source": [
    "## 스타트업 파일"
   ]
  },
  {
   "cell_type": "markdown",
   "metadata": {
    "school_cell_uuid": "c1aeb5892a34421ea3dfa8cd61383728"
   },
   "source": [
    "스타트업(startup) 파일은 IPython과 주피터 노트북을 이용한 콘솔이 시작되기 전에 실행되는 파일이다. 스타트업 파일은 따로 정해진 이름이 있는 것이 아니라 프로필 디렉터리 아래의 startup 폴더 아래의 .py 확장자를 가진 모든 파이썬 스크립트가 스타트업 파일이며 파일 이름의 알파벳 순서로 실행된다.\n",
    "\n",
    "datascienceschool/rpython 도커 이미지에서 프로필 디렉터리와 스타트업 파일은 다음과 같다. \n",
    "\n",
    "* 프로필 디렉터리: `/home/dockeruser/.ipython/profile_default/`\n",
    "* 스타트업 파일: `/home/dockeruser/.ipython/profile_default/startup/00.py`\n"
   ]
  },
  {
   "cell_type": "markdown",
   "metadata": {
    "school_cell_uuid": "f829638e4bf44ea1b45f2c09f20a6912"
   },
   "source": [
    "`datascienceschool/rpython` 도커 이미지에는 파이썬 사용을 쉽게 하기 위해 자주 사용하는 패키지를 미리 `00.py`라는 이름의 스타트업 파일에서 다음과 같이 임포트(import)하고 있다. 따라서 IPython과 주피터 QtConsole, 주피터 노트북을 사용할 때 이 패키지들은 별도의 `import` 명령 없이 바로 사용할 수 있다.\n",
    "\n",
    "```\n",
    "import warnings\n",
    "warnings.simplefilter('ignore')\n",
    "\n",
    "import matplotlib as mpl\n",
    "mpl.use('Agg')\n",
    "import matplotlib.pylab as plt\n",
    "from mpl_toolkits.mplot3d import Axes3D\n",
    "\n",
    "import seaborn as sns\n",
    "sns.set()\n",
    "sns.set_style(\"whitegrid\")\n",
    "sns.set_color_codes()\n",
    "\n",
    "import numpy as np\n",
    "import scipy as sp\n",
    "import pandas as pd\n",
    "import statsmodels.api as sm\n",
    "import sklearn as sk\n",
    "```"
   ]
  },
  {
   "cell_type": "markdown",
   "metadata": {
    "school_cell_uuid": "bc12a658131d4e379b548016eead8183"
   },
   "source": [
    "이 책의 모든 코드는 위와 같은 임포트가 미리 되어 있다고 가정하므로 스타트업 파일을 만들어 놓기를 권장한다. 이 파일은 웹상의 다음 링크에서 다운로드 받을 수 있다.\n",
    "\n",
    "* https://raw.githubusercontent.com/datascienceschool/docker_rpython/master/rpython/00.py\n",
    "\n",
    "단, 00.py 스타트업 파일이 정상적으로 실행되려면 임포트하고자 하는 패키지가 미리 설치되어 있어야 한다."
   ]
  },
  {
   "cell_type": "markdown",
   "metadata": {
    "school_cell_uuid": "f37155aa6cee4a84b6c384d58c7f2fad"
   },
   "source": [
    "## `ipython_config.py` 설정 파일"
   ]
  },
  {
   "cell_type": "markdown",
   "metadata": {
    "school_cell_uuid": "c47052c8a75242c395ffad0014dd7286"
   },
   "source": [
    "일부 파이썬 명령은 하나의 스크립트 안에서만 실행되므로 스타트업 파일에 적어 놓아도 실제 IPython 콘솔에는 적용되지 않는다. 예를 들어 `mpl.rc` 계열의 임포트 명령은 하나의 스크립트 안에서만 영향을 미친다.\n",
    "\n",
    "이럴 때는 `ipython_config.py` 설정 파일 안에서 `InteractiveShellApp.exec_lines` 설정 항목을 다음처럼 지정하면 된다. `InteractiveShellApp.exec_lines` 설정 항목은 실행할 명령어 문자열로 이루어진 목록이다.\n",
    "\n",
    "다음은 `datascienceschool/rpython` 도커 이미지에 설정한 ipython_config.py 설정 파일의 예다. 도커 이미지에서는 `/home/dockeruser/.ipython/profile_default/ipython_config.py` 위치에 저장되어 있다."
   ]
  },
  {
   "cell_type": "markdown",
   "metadata": {
    "school_cell_uuid": "5eb7f9b952004a37a6b3760d4c9489f4"
   },
   "source": [
    "```\n",
    "c = get_config()\n",
    "\n",
    "c.InteractiveShellApp.exec_lines = [\n",
    "    \"mpl.rc('font', family='nanumgothic')\",  # font name\n",
    "    \"mpl.rc('axes', unicode_minus=False)\", # for unicode\n",
    "    \"mpl.rc('figure', figsize=(8, 5))\",  # figure size (unit: inch)\n",
    "    \"mpl.rc('figure', dpi=300)\",  # figure resolution\n",
    "]\n",
    "```"
   ]
  },
  {
   "cell_type": "markdown",
   "metadata": {
    "school_cell_uuid": "f1f740cb44784779b4c7a3ac7263d5f1"
   },
   "source": [
    "이 파일은 다음 링크에서 내려받을 수 있다.\n",
    "\n",
    "* https://github.com/datascienceschool/docker_rpython/blob/master/rpython/ipython_config.py\n"
   ]
  },
  {
   "cell_type": "markdown",
   "metadata": {
    "school_cell_uuid": "1293752f80854f1c8391792a627d2937"
   },
   "source": [
    "위에서 적용한 내용은 모두 IPython, 주피터 노트북과 같은 상호작용 콘솔에서만 적용되는 것이고, 파이썬 인터프리터를 직접 실행하여 파이썬 스크립트를 가동하는 배치(batch) 실행에는 적용되지 않는다.\n",
    "\n",
    "이제부터 나오는 모든 파이썬 예제 코드는 스타트업 파일과 ipython_config.py 설정 파일이 앞에서 작성한 대로 설정되어 있다는 가정하에 작성한다. 따라서 각자 사용하는 파이썬 환경을 미리 설정 파일에 적용해 두기 바란다."
   ]
  }
 ],
 "metadata": {
  "anaconda-cloud": {},
  "celltoolbar": "Edit Metadata",
  "kernelspec": {
   "display_name": "Python 3",
   "language": "python",
   "name": "python3"
  },
  "language_info": {
   "codemirror_mode": {
    "name": "ipython",
    "version": 3
   },
   "file_extension": ".py",
   "mimetype": "text/x-python",
   "name": "python",
   "nbconvert_exporter": "python",
   "pygments_lexer": "ipython3",
   "version": "3.6.4"
  }
 },
 "nbformat": 4,
 "nbformat_minor": 1
}