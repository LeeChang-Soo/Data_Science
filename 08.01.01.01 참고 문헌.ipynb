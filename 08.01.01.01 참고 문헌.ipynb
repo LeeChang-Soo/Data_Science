{
 "cells": [
  {
   "cell_type": "markdown",
   "metadata": {
    "school_cell_uuid": "cc6f4c0c06df4940b627c9015936d6b7"
   },
   "source": [
    "# 참고 문헌"
   ]
  },
  {
   "cell_type": "markdown",
   "metadata": {
    "school_cell_uuid": "55437db16f7047349ec1e6a4075abf2e"
   },
   "source": [
    "## 선형대수"
   ]
  },
  {
   "cell_type": "markdown",
   "metadata": {
    "school_cell_uuid": "cda720aa285b4145a1ce9696058e80be"
   },
   "source": [
    "* 필립 클라인, \"코딩 더 매트릭스\", 루비페이퍼\n",
    "    * http://www.kyobobook.co.kr/product/detailViewKor.laf?barcode=9791195149292"
   ]
  },
  {
   "cell_type": "markdown",
   "metadata": {
    "school_cell_uuid": "65c804e008b24a47bad71b05c819a50c"
   },
   "source": [
    "## 텍스트 데이터 처리"
   ]
  },
  {
   "cell_type": "markdown",
   "metadata": {
    "school_cell_uuid": "8c0770a33972462883282a87160d9511"
   },
   "source": [
    "* Dipanjan Sarkar, \"Text Analytics with Python (A practical Real-World Approach to Gaining Actionable Insights from your Data)\"\n",
    "    * https://www.apress.com/la/book/9781484223871\n",
    "    \n",
    "\n",
    "* Jacob Perkins, \"Python Text Processing with NLTK 2.0 Cookbook\"\n",
    "    * https://www.amazon.com/Python-Text-Processing-NLTK-Cookbook/dp/1849513600\n"
   ]
  },
  {
   "cell_type": "markdown",
   "metadata": {
    "school_cell_uuid": "697f4667e525459e8c1b0372a082db59"
   },
   "source": [
    "## 이미지 데이터 처리 "
   ]
  },
  {
   "cell_type": "markdown",
   "metadata": {
    "school_cell_uuid": "305e8143639c4cae820d05ee3e822ca5"
   },
   "source": [
    "* Jan Erik Solem, \"Programming Computer Vision with Python\"\n",
    "    * http://shop.oreilly.com/product/0636920022923.do\n",
    "\n",
    "* Saurabh Kapur, \"Computer Vision with Python 3\"\n",
    "    * https://www.packtpub.com/application-development/computer-vision-python-3"
   ]
  },
  {
   "cell_type": "markdown",
   "metadata": {
    "school_cell_uuid": "384d92d91529415594c7d9351e4bfae8"
   },
   "source": [
    "## 지리정보 데이터 전처리 "
   ]
  },
  {
   "cell_type": "markdown",
   "metadata": {
    "school_cell_uuid": "2dce0e132ee04c5b8d8308246827964c"
   },
   "source": [
    "* Joel Lawhead, \"Learning Geospatial Analysis with Python\"\n",
    "    * https://www.packtpub.com/application-development/learning-geospatial-analysis-python-second-edition"
   ]
  },
  {
   "cell_type": "markdown",
   "metadata": {
    "school_cell_uuid": "b56db486b72647c1a73ef36b4e858856"
   },
   "source": [
    "## 회귀분석"
   ]
  },
  {
   "cell_type": "markdown",
   "metadata": {
    "school_cell_uuid": "f085d93be1094052846a3b0b604323cc"
   },
   "source": [
    "* Greene, \"Econometric Analysis\"\n",
    "    *  https://www.amazon.com/Econometric-Analysis-7th-William-Greene/dp/0131395386\n",
    "* Davidson and MacKinnon, \"Econometric Theory and Methods\" \n",
    "    * https://www.amazon.com/Econometric-Theory-Methods-Russell-Davidson/dp/0195123727/\n",
    "* Sheather, \"A Modern Approach to Regression with R\"\n",
    "    * http://www.stat.tamu.edu/~sheather/book/"
   ]
  },
  {
   "cell_type": "markdown",
   "metadata": {
    "school_cell_uuid": "b56db486b72647c1a73ef36b4e858856"
   },
   "source": [
    "## 머신러닝"
   ]
  },
  {
   "cell_type": "markdown",
   "metadata": {
    "school_cell_uuid": "354cc1ba9b144f1c9534e3240424cb47"
   },
   "source": [
    "* Barber, \"Bayesian Reasoning and Machine Learning\"\n",
    "    * http://web4.cs.ucl.ac.uk/staff/D.Barber/textbook/181115.pdf\n",
    "* Bishop, \"Pattern Recognition and Machine Learning\"\n",
    "     * http://research.microsoft.com/en-us/um/people/cmbishop/prml/index.htm\n",
    "* Cichosz, \"Data Mining Algorithmss: Explained Using R\"\n",
    "    * https://www.wiley.com/legacy/wileychi/cichosz/\n",
    "* Hastie, et al., \"The Elements of Statistical Learning: Data Mining, Inference, and Prediction\"\n",
    "    * http://statweb.stanford.edu/~tibs/ElemStatLearn/printings/ESLII_print10.pdf\n",
    "* MacKay, \"Information Theory, Inference, and Learning Algorithms\"\n",
    "    * http://www.inference.phy.cam.ac.uk/itprnn/book.pdf\n",
    "* Murphy, \"Machine learning: a probabilistic perspective\"\n",
    "    * https://www.amazon.com/Machine-Learning-Probabilistic-Perspective-Computation/dp/0262018020"
   ]
  },
  {
   "cell_type": "markdown",
   "metadata": {
    "school_cell_uuid": "33f1954932ac4c8f931e9285d4a34796"
   },
   "source": [
    "## 딥러닝"
   ]
  },
  {
   "cell_type": "markdown",
   "metadata": {
    "school_cell_uuid": "b282a5d549a54176a603e489b112371f"
   },
   "source": [
    "* Goodfellow et al., \"Deep Learning\"\n",
    "    * http://www.deeplearningbook.org\n",
    "* Michael Nielsen, \"Neural Networks and Deep Learning\"\n",
    "    * http://neuralnetworksanddeeplearning.com/\n"
   ]
  },
  {
   "cell_type": "markdown",
   "metadata": {
    "school_cell_uuid": "c8f2119ce8844a188964ac741df64fba"
   },
   "source": [
    "## 시계열 분석"
   ]
  },
  {
   "cell_type": "markdown",
   "metadata": {
    "school_cell_uuid": "3f8e9792e82242b2b3f155dedcfd87f3"
   },
   "source": [
    "* Cryer et al. \"Time Series Analysis: With Applications in R\"\n",
    "    * https://www.amazon.com/Time-Analysis-Applications-Springer-Statistics/dp/0387759581\n",
    "* Helmut Lütkepohl, \"New Introduction to Multiple Time Series Analysis\"\n",
    "    * https://www.amazon.com/New-Introduction-Multiple-Time-Analysis/dp/3540262393\n",
    "* Petris et al, \"Dynamic Linear Models with R\"\n",
    "    * https://www.amazon.com/Dynamic-Linear-Models-Giovanni-Petris/dp/0387772375"
   ]
  },
  {
   "cell_type": "markdown",
   "metadata": {
    "school_cell_uuid": "620d240e296d4a36b9875f4ff9a302c9"
   },
   "source": [
    "## Scikit-Learn"
   ]
  },
  {
   "cell_type": "markdown",
   "metadata": {
    "school_cell_uuid": "47661144e8344ba4a2ce33ec4d8af3c7"
   },
   "source": [
    "* Raúl Garreta, Guillermo Moncecchi, \"Learning scikit-learn: Machine Learning in Python\"\n",
    "    * https://www.packtpub.com/big-data-and-business-intelligence/learning-scikit-learn-machine-learning-python\n",
    "    * https://github.com/gmonce/scikit-learn-book\n",
    "    * http://www.amazon.com/Learning-scikit-learn-Machine-Python/dp/1783281936\n",
    "\n",
    "\n",
    "* Willi Richert, Luis Pedro Coelho, \"Building Machine Learning Systems with Python\"\n",
    "    * https://www.packtpub.com/big-data-and-business-intelligence/building-machine-learning-systems-python\n",
    "    * https://github.com/luispedro/BuildingMachineLearningSystemsWithPython\n",
    "    * http://www.amazon.com/Building-Machine-Learning-Systems-Python/dp/1782161406"
   ]
  }
 ],
 "metadata": {
  "kernelspec": {
   "display_name": "Python 3",
   "language": "python",
   "name": "python3"
  },
  "language_info": {
   "codemirror_mode": {
    "name": "ipython",
    "version": 3
   },
   "file_extension": ".py",
   "mimetype": "text/x-python",
   "name": "python",
   "nbconvert_exporter": "python",
   "pygments_lexer": "ipython3",
   "version": "3.6.6"
  },
  "latex_envs": {
   "LaTeX_envs_menu_present": true,
   "autoclose": false,
   "autocomplete": true,
   "bibliofile": "biblio.bib",
   "cite_by": "apalike",
   "current_citInitial": 1,
   "eqLabelWithNumbers": true,
   "eqNumInitial": 1,
   "hotkeys": {
    "equation": "Ctrl-E",
    "itemize": "Ctrl-I"
   },
   "labels_anchors": false,
   "latex_user_defs": false,
   "report_style_numbering": false,
   "user_envs_cfg": false
  },
  "toc": {
   "base_numbering": 1,
   "nav_menu": {},
   "number_sections": true,
   "sideBar": true,
   "skip_h1_title": false,
   "title_cell": "Table of Contents",
   "title_sidebar": "Contents",
   "toc_cell": false,
   "toc_position": {},
   "toc_section_display": true,
   "toc_window_display": false
  }
 },
 "nbformat": 4,
 "nbformat_minor": 1
}