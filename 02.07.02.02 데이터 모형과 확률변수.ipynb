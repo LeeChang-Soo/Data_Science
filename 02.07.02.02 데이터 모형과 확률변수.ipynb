{
 "cells": [
  {
   "cell_type": "markdown",
   "metadata": {
    "school_cell_uuid": "9873e1d90bb646a88d4428d9aa99dfdf"
   },
   "source": [
    "# 데이터 모형과 확률변수"
   ]
  },
  {
   "cell_type": "markdown",
   "metadata": {
    "school_cell_uuid": "e365b43f14df4b218eb5a5d5ee62d2e6"
   },
   "source": [
    "## 데이터 모형"
   ]
  },
  {
   "cell_type": "markdown",
   "metadata": {
    "school_cell_uuid": "927d104e8cc84f998da62026affa54cf"
   },
   "source": [
    "확률적 데이터는 어떤 실험(experiment) 행위에 의해 얻어지는 경우가 많다. 예를 들어 \n",
    "\n",
    "* 주사위를 던지는 실험 \n",
    "* 자동차 엔진의 출력을 측정하는 실험\n",
    "* 혈압을 측정하는 실험\n",
    "\n",
    "등을 같은 조건에서 여러번 반복하여 확률적 데이터를 얻을 수 있다. \n",
    "이 확률적 데이터들에는 데이터를 생성하게 한 주사위, 자동차 엔진, 사람 등의 데이터 생성기(data generator)가 명확하게 존재한다.\n",
    "\n",
    "이러한 상황을 더 확장하면 데이터가 숫자로만 주어지고 그 데이터가 어떤 과정을 통해 얻어졌는지 전혀 알지 못한다고 해도 앞에서 예로 든 주사위, 자동차 엔진처럼 이 데이터를 생성한 무언가가 존재한다고 가정할 수 있다. **데이터 모형(data model)**은 해당 **데이터를 만들어내는 가상의 데이터 생성기**를 말한다.\n",
    "\n",
    "데이터 모형이 갖추어야 할 조건은 다음과 같다.\n",
    "\n",
    "* 해당 데이터와 분포(distribution) 특성이 같은 데이터를 만들 수 있어야 한다.\n",
    "* 데이터의 생성과정이 수학적으로 기술될 수 있고 알고리즘에 의해 구현될 수 있어야 한다.\n",
    "\n",
    "두 데이터 표본집합의 분포 특성이 완전히 같으면 같은 데이터라고 할 수 있을 것이다. 즉, 두 데이터 표본집합은 같은 데이터 생성기로부터 나온 것이다. 만약 어떤 수학적인 방법으로 우리가 가진 데이터와 완전히 같은 분포 특성을 가지는 데이터를 만들 수 있다면 그 데이터의 생성기를 확보한 것이나 마찬가지다. "
   ]
  },
  {
   "cell_type": "markdown",
   "metadata": {
    "school_cell_uuid": "29664b53a8b146eaad8c9d9b54a6115f"
   },
   "source": [
    "## 확률변수"
   ]
  },
  {
   "cell_type": "markdown",
   "metadata": {
    "school_cell_uuid": "fe708440cc364e409504b674d5db0f4c"
   },
   "source": [
    "확률변수는 수학적으로는 확률이 정의된 표본공간의 모든 표본을 실수인 숫자로 바꾸는 함수로 정의한다.\n",
    "\n",
    "$$ \\omega \\in \\Omega \\;\\;\\; \\xrightarrow{확률변수} \\;\\; x \\in \\mathbf{R} $$\n",
    "\n",
    "$X$와 같은 대문자 알파벳을 사용하여 확률변수를 표기하고 확률변수에 의해 할당된 실수는 $x$와 같이 소문자 알파벳으로 표시한다. 경우에 따라서는 소문자 알파벳으로 확률변수를 표기하는 경우도 있다.\n",
    "\n",
    "$$ X(\\omega) = x \\;\\; (x \\in \\mathbf{R}) $$"
   ]
  },
  {
   "cell_type": "markdown",
   "metadata": {
    "school_cell_uuid": "09926d730a0b4840a6b1fe2e1519ad8b"
   },
   "source": [
    "## 이산확률변수"
   ]
  },
  {
   "cell_type": "markdown",
   "metadata": {
    "school_cell_uuid": "2a486ad328624a798e70003b781e5720"
   },
   "source": [
    "예를 들어 주사위의 확률 문제에서 주사위에서 나올 수 있는 모든 면의 집합인 표본집합 $\\{⚀,⚁,⚂,⚃,⚄,⚅\\}$ 내의 모든 표본에 대해 다음과 같이 숫자를 할당하면 1부터 6까지 값을 가지는 확률변수가 된다. 이렇게 확률변수값이 연속적(continuous)이지 않고 떨어져(discrete) 있는 경우를 **이산확률변수(discrete random variable)**라고 한다.\n",
    "\n",
    "$$\n",
    "\\begin{eqnarray}\n",
    "X(⚀) &=& 1 \\\\\n",
    "X(⚁) &=& 2 \\\\\n",
    "X(⚂) &=& 3 \\\\\n",
    "X(⚃) &=& 4 \\\\\n",
    "X(⚄) &=& 5 \\\\\n",
    "X(⚅) &=& 6 \\\\\n",
    "\\end{eqnarray}\n",
    "$$\n",
    "\n",
    "주의할 점은 이산확률변수의 정의는 값의 이산성이지 가능한 경우가 유한하다는 점이 아니라는 점이다. 이산 확률변수도 연속 확률변수와 같이 가능한 값 자체는 무한대의 경우의 수가 있을 수 있다. 예를 들어 [기하 분포(geometric distribution)](https://en.wikipedia.org/wiki/Geometric_distribution)는 양의 정수값을 가지는 이산 분포이지만 무한대의 양의 정수도 0이 아닌 확률을 가질 수 있다."
   ]
  },
  {
   "cell_type": "markdown",
   "metadata": {
    "school_cell_uuid": "ba17dc143b4d4fb8bbaebdf824b09941"
   },
   "source": [
    "## 연속확률변수"
   ]
  },
  {
   "cell_type": "markdown",
   "metadata": {
    "school_cell_uuid": "9cf26a7da9bd4fb4bb3183b2e22abd75"
   },
   "source": [
    "주사위가 아닌 원반의 각도 문제처럼 연속적이고 무한대의 실수 표본값을 가지는 확률변수를 **연속확률변수(continuous random variable)**라고 한다. \n",
    "\n",
    "모든 표본이 실수인 숫자로 변한다면 모든 사건은 단순구간사건의 조합으로 표시된다. 즉, 확률이 어떻게 할당되었는가를 나타내는 정보인 확률분포를 수학적인 확률분포함수로 나타낼 수 있다는 뜻이다."
   ]
  },
  {
   "cell_type": "markdown",
   "metadata": {
    "school_cell_uuid": "061573d00ce944be9edcc3908d7bf3d9"
   },
   "source": [
    "## 확률변수와 데이터"
   ]
  },
  {
   "cell_type": "markdown",
   "metadata": {
    "school_cell_uuid": "683180d7d77646d79eb2ede3c9e4fa33"
   },
   "source": [
    "현실적으로는 확률변수를 실수인 데이터를 생성하는 주사위같은 데이터생성기로 생각하면 된다. 다만 확률변수는 확률분포함수라는 간결하고 정확한 수학적 도구를 이용하여 확률이 정의되어 있다는 점이 주사위와 다른 점이다."
   ]
  },
  {
   "cell_type": "markdown",
   "metadata": {
    "hidden": "input",
    "school_cell_uuid": "1e6686974a214e21a5cf30ba9cc05fa6"
   },
   "source": [
    "<img src=\"https://datascienceschool.net/upfiles/5c6f256eb4aa4e8c9459e779b88936a9.png\" style=\"width: 100%;\">"
   ]
  },
  {
   "cell_type": "markdown",
   "metadata": {
    "school_cell_uuid": "0cdd6f6144c54b62a2940e200fa4fecc",
    "sidetitle": true
   },
   "source": [
    "그림 7.2.3 : 확률변수"
   ]
  },
  {
   "cell_type": "markdown",
   "metadata": {
    "school_cell_uuid": "0c7dff68efd54e66b5d676f331528d89"
   },
   "source": [
    "데이터 모형에 따르면 우리가 가진 현실 세계의 데이터는 확률변수가 가진 확률분포에 따라 실수 표본공간에서 선택된 표본이다. 이렇게 확률분포함수에 따라 표본공산의 표본이 현실 세계의 데이터로 선택되는 것을 **실현**(realization) 혹은 **표본화(sampling)**라고 한다. 표본화는 다른 의미로도 사용되는데 많은 수의 데이터 집합에서 일부 데이터만 선택하는 과정도 표본화라고 한다. \n",
    "\n",
    "실현은 이상적이고(ideal), 추상적이며(abstract), 수학적인(mathematical) 세계에서 현실로 넘어가는 과정이다. 확률변수라는 데이터 모형에 따르면 현실의 표본 데이터는 이러한 수학적인 세계가 현실 세계에 투영된 그림자에 지나지 않는다. 따라서 히스토그램이나 기술통계 등 분포의 특성이 깨끗한 형태를 지니지 않지만 이는 실현 혹은 표본화 과정에서 생긴 잡음일 뿐이면 그 내면에는 원래의 수학적 특성을 내포하고 있다.\n",
    "\n",
    "따라서 확률변수와 실제 데이터는 다음과 같은 관계가 있다.\n",
    "\n",
    "* 확률변수로부터 데이터를 여러번 생성하는 경우 실제 데이터 값은 매번 달라질 수 있지만 확률 모형 자체는 변하지 않는다.\n",
    "* 확률변수의 확률분포함수는 우리가 직접 관찰할 수 없다. 다만 확률변수에서 만들어지는 실제 데이터 값을 이용하여 확률분포함수가 이러한 것일 거라고 추정할 뿐이다.\n",
    "* 확률변수에서 만들어 지는 실제 데이터의 값은 확률변수가 가진 특성을 반영하고 있다. 데이터의 갯수가 적을수록 확률변수가 가진 특징을 정확하게 표현하지 못하지만 데이터의 갯수가 증가하면 보다 정확하게 확률분포함수를 묘사할 수 있게 된다.\n"
   ]
  },
  {
   "cell_type": "markdown",
   "metadata": {
    "school_cell_uuid": "bfc3a7ef66de42acbb1cd9fad1fa7997"
   },
   "source": [
    "## 확률변수를 사용한 데이터 분석"
   ]
  },
  {
   "cell_type": "markdown",
   "metadata": {
    "school_cell_uuid": "92f4d942eca9487d9fbc2f264abbf534"
   },
   "source": [
    "확률변수를 사용하게 되면 데이터 분석은 다음과 같은 순서로 이루어진다.\n",
    "\n",
    "1. 데이터를 확보한다.\n",
    "2. 확보된 데이터를 어떤 확률변수의 표본으로 가정한다.\n",
    "3. 데이터의 특성으로부터 확률변수의 특성을 추정한다. \n",
    "4. 구해진 확률변수의 특성으로 해당 확률분포함수의 모양을 결정하고 모수를 추정한다.\n",
    "5. 구해진 확률변수으로부터 다음에 생성될 데이터나 데이터 특성을 예측한다."
   ]
  }
 ],
 "metadata": {
  "celltoolbar": "Edit Metadata",
  "kernelspec": {
   "display_name": "Python 3",
   "language": "python",
   "name": "python3"
  },
  "language_info": {
   "codemirror_mode": {
    "name": "ipython",
    "version": 3
   },
   "file_extension": ".py",
   "mimetype": "text/x-python",
   "name": "python",
   "nbconvert_exporter": "python",
   "pygments_lexer": "ipython3",
   "version": "3.6.6"
  },
  "toc": {
   "base_numbering": 1,
   "nav_menu": {},
   "number_sections": false,
   "sideBar": true,
   "skip_h1_title": false,
   "title_cell": "Table of Contents",
   "title_sidebar": "Contents",
   "toc_cell": false,
   "toc_position": {},
   "toc_section_display": true,
   "toc_window_display": false
  }
 },
 "nbformat": 4,
 "nbformat_minor": 1
}