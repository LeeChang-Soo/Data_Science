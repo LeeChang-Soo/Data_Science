{
 "cells": [
  {
   "cell_type": "markdown",
   "metadata": {
    "school_cell_uuid": "4506fe55da464ad6a8ca75bd3f338089"
   },
   "source": [
    "# 도커 툴박스"
   ]
  },
  {
   "cell_type": "markdown",
   "metadata": {
    "school_cell_uuid": "9c6f26e74a834c80b40a020dc6cef4ce"
   },
   "source": [
    "## 도커 툴박스 설치 준비"
   ]
  },
  {
   "cell_type": "markdown",
   "metadata": {
    "school_cell_uuid": "fc43db47f7cc4f6e977a41d071346aec"
   },
   "source": [
    "도커 툴박스는 윈도우나 맥 OS에서 버추얼박스와 부팅용 OS, 도커 서비스 등을 한꺼번에 설치하여 도커를 쉽게 사용할 수 있도록 해주는 도구이다. 도커 툴박스의 설치 방법은 다음과 같다. "
   ]
  },
  {
   "cell_type": "markdown",
   "metadata": {
    "school_cell_uuid": "ba4e0526417c4dbdb6725dab9815d70e"
   },
   "source": [
    "### 하드웨어 사양"
   ]
  },
  {
   "cell_type": "markdown",
   "metadata": {
    "school_cell_uuid": "2974312717454da7a2e2c63099448b85"
   },
   "source": [
    "도커 툴박스를 설치하고 이 책에서 제공하는 `datascienceschool/rpython` 이미지를 실행하려면 다음과 같은 하드웨어 사양이 필요하다.\n",
    "\n",
    "* 64 비트 윈도우 또는 OS X 운영체제\n",
    "* 4GB 이상의 메모리\n",
    "* 20GB 이상의 저장 공간 (홈 디렉토리가 있는 C 드라이브)"
   ]
  },
  {
   "cell_type": "markdown",
   "metadata": {
    "school_cell_uuid": "df4609ee6050407c9541437f4458fc51"
   },
   "source": [
    "### 하드웨어 가상화를 위한 BIOS 설정"
   ]
  },
  {
   "cell_type": "markdown",
   "metadata": {
    "school_cell_uuid": "604ac14a5f04421594d6c8bd053eb11a"
   },
   "source": [
    "도커 툴박스의 버추얼박스를 사용하려면 우선 컴퓨터 하드웨어가 가상화를 지원하도록 BIOS를 설정하여야 한다. 만약 뒤에 나오는 지시에 따라 도커 툴박스를 설치했는데 다음과 비슷한 메시지가 출력된다면 BIOS 설정이 제대로 되지 않은 것이다. "
   ]
  },
  {
   "cell_type": "markdown",
   "metadata": {
    "school_cell_uuid": "a4dbd41747a346adbe0becccdaea6633"
   },
   "source": [
    "<div class=\"well well-sm\">\n",
    "VT-x/AMD-V 하드웨어 가속 기능이 활성화되었지만, 현재 작동하지 않습니다. 64비트 게스트 운영 체제에서 64비트 CPU를 인식할 수 없어서 부팅할 수 없습니다. 컴퓨터 바이오스에서 VT-x/AMD-V를 활성화했는지 확인해 보십시오.\n",
    "</div>"
   ]
  },
  {
   "cell_type": "markdown",
   "metadata": {
    "school_cell_uuid": "3180c831faf64b3f8eca863439971afb"
   },
   "source": [
    "가상화 지원 설정이 되어 있는지, 미리 확인 해보는 방법은 [작업 관리자 → 성능]에 들어가, `그림 2.2.9`의 빨간 박스 안의 내용 처럼, ``가상화 : 사용``으로 설정 되어 있는지 확인하는 것이다. "
   ]
  },
  {
   "cell_type": "markdown",
   "metadata": {
    "school_cell_uuid": "64baba2ab77742e98a7bcf6a183c61b4"
   },
   "source": [
    "<img src=\"https://datascienceschool.net/upfiles/e68d33fc17b745788eada1e1cea7501d.png\" style=\"width: 100%;\"/>"
   ]
  },
  {
   "cell_type": "markdown",
   "metadata": {
    "school_cell_uuid": "4a5e0fc502c54257a97e13ee7af2361d",
    "sidetitle": true
   },
   "source": [
    "그림 2.2.9 : 가상화 사용 여부 확인"
   ]
  },
  {
   "cell_type": "markdown",
   "metadata": {
    "school_cell_uuid": "8c102587d6e7424b9da73127811a1289"
   },
   "source": [
    "만약 가상황 사용 설정이 안되어 있다면, 컴퓨터를 재부팅하여 BIOS 설정 화면으로 들어간 뒤, CPU 등의 항목에서 다음 항목들을 Enable 한다. BIOS에 따라 세부적인 항목 이름은 다를 수 있다.\n",
    "\n",
    "* Virtualization\n",
    "* Secure Virtualization\n",
    "* Vt-d"
   ]
  },
  {
   "cell_type": "markdown",
   "metadata": {
    "school_cell_uuid": "1da6af9fa53b42c7ac24576ddd843478"
   },
   "source": [
    "### 도커 툴박스 다운로드"
   ]
  },
  {
   "cell_type": "markdown",
   "metadata": {
    "school_cell_uuid": "b89ca576bc5c473f9ab545c3da2825eb"
   },
   "source": [
    "우선 인터넷에서 도커 툴박스를 내려받는다. 웹 사이트 주소는 다음과 같다.\n",
    "\n",
    "* windows : https://docs.docker.com/toolbox/toolbox_install_windows/\n",
    "\n",
    "자신의 운영체제에 맞게 다운로드 받는다."
   ]
  },
  {
   "cell_type": "markdown",
   "metadata": {
    "school_cell_uuid": "f7ac1872d4ac4d2e96f433a461c22686"
   },
   "source": [
    "<img src=\"https://datascienceschool.net/upfiles/dd6e7d1627af494aae6100db0a9e07f8.png\" style=\"width: 100%;\"/>"
   ]
  },
  {
   "cell_type": "markdown",
   "metadata": {
    "school_cell_uuid": "4a5e0fc502c54257a97e13ee7af2361d",
    "sidetitle": true
   },
   "source": [
    "그림 2.2.10 : 도커 툴박스 도큐먼트"
   ]
  },
  {
   "cell_type": "markdown",
   "metadata": {
    "school_cell_uuid": "1d87ea9676714143852873ce8660e18b"
   },
   "source": [
    "## Docker Toolbox 설치 - Window"
   ]
  },
  {
   "cell_type": "markdown",
   "metadata": {
    "school_cell_uuid": "8ddf063e1f7b47e9a6e2ee2d3f5da6a0"
   },
   "source": [
    "방금 내려받은 설치 파일을 실행하여 도커 툴박스를 설치한다. 설치 과정에서 나오는 설정에 대해서는 모두 기본 설정으로 진행해도 무방하다. 다만, 만약 호스트 컴퓨터에 git이 깔려있지 않다면 'Select Components' 단계에서 [Git for Windows] 항목을 체크하여 git을 설치하여야 한다."
   ]
  },
  {
   "cell_type": "markdown",
   "metadata": {
    "school_cell_uuid": "ce45768c5c024367b68b640dc9bf2970"
   },
   "source": [
    "<img src=\"https://datascienceschool.net/upfiles/8a8153054f224f3e92e6f536e17ebdd9.png\" style=\"width: 50%;\"/>"
   ]
  },
  {
   "cell_type": "markdown",
   "metadata": {
    "school_cell_uuid": "1fed780505374d81a63a2f5d8bd7c8a5"
   },
   "source": [
    "<img src=\"https://datascienceschool.net/upfiles/3ea1c07ace6f44c4837dbd7679cda091.png\" style=\"width: 50%;\"/>"
   ]
  },
  {
   "cell_type": "markdown",
   "metadata": {
    "school_cell_uuid": "6f3a41e93deb4e66b0ef6949e70e978d"
   },
   "source": [
    "<img src=\"https://datascienceschool.net/upfiles/d2be3d4e77fc4259adf61762958a4e14.png\" style=\"width: 50%;\"/>"
   ]
  },
  {
   "cell_type": "markdown",
   "metadata": {
    "school_cell_uuid": "aaaab7ca26964cef8c7b9d2ba1a9dbb9"
   },
   "source": [
    "<img src=\"https://datascienceschool.net/upfiles/938e0764e44240ed934b4cc4fb533907.png\" style=\"width: 50%;\"/>"
   ]
  },
  {
   "cell_type": "markdown",
   "metadata": {
    "school_cell_uuid": "fa16404d537e42edb596de2e2aed5a72"
   },
   "source": [
    "<img src=\"https://datascienceschool.net/upfiles/2c8bae8551a1487c817656c9be5695d7.png\" style=\"width: 50%;\"/>"
   ]
  },
  {
   "cell_type": "markdown",
   "metadata": {
    "school_cell_uuid": "97dc734eb84a443c9851333bbe3b11be"
   },
   "source": [
    "<img src=\"https://datascienceschool.net/upfiles/1cbdac2fdfb343bbad920e58f2e046b3.png\" style=\"width: 50%;\"/>"
   ]
  },
  {
   "cell_type": "markdown",
   "metadata": {
    "school_cell_uuid": "4a5e0fc502c54257a97e13ee7af2361d",
    "sidetitle": true
   },
   "source": [
    "그림 2.2.11 : 도커 툴박스 설치과정 - windows"
   ]
  },
  {
   "cell_type": "markdown",
   "metadata": {
    "school_cell_uuid": "fad72ee94ec0461daf4cfe15f26fccd8"
   },
   "source": [
    "### 도커 툴박스 설치 확인 - Mac"
   ]
  },
  {
   "cell_type": "markdown",
   "metadata": {
    "school_cell_uuid": "931d2afd4c4f45048a59b162ef1ac2d7"
   },
   "source": [
    "도커 툴박스 설치가 완료되면 윈도우의 [시작 메뉴 → 프로그램 → Docker]에 다음과 같은 두 개의 바로가기가 나타난다.\n",
    "\n",
    "* Docker Quickstart Terminal\n",
    "* Kitematic (Alpha)\n"
   ]
  },
  {
   "cell_type": "markdown",
   "metadata": {
    "school_cell_uuid": "96bd33f52c2a47b283c065e839112c2f"
   },
   "source": [
    "<img src=\"https://datascienceschool.net/upfiles/b847e276e3c14a7084bbe54997f5e85a.png\" style=\"width: 100%;\"/>"
   ]
  },
  {
   "cell_type": "markdown",
   "metadata": {
    "school_cell_uuid": "99c1be011adf47169c9956d72e3dbe3a",
    "sidetitle": true
   },
   "source": [
    "그림 2.2.12 : 도커 툴박스 설치가 완료되었을 때"
   ]
  },
  {
   "cell_type": "markdown",
   "metadata": {
    "school_cell_uuid": "201522bcdc234831818d712e33641ff2"
   },
   "source": [
    "여기에는 나타나지 않지만 Oracle VirtualBox도 설치된다."
   ]
  },
  {
   "cell_type": "markdown",
   "metadata": {
    "school_cell_uuid": "4fb0ba5b5b3346ae990bffec08b1b162"
   },
   "source": [
    "<img src=\"https://datascienceschool.net/upfiles/8c8616d9a20f418898bdb78a5f9eff35.png\" style=\"width: 50%;\"/>"
   ]
  },
  {
   "cell_type": "markdown",
   "metadata": {
    "school_cell_uuid": "92c245a8f6e54bb6a211e326cbdde21b",
    "sidetitle": true
   },
   "source": [
    "그림 2.2.13 : Oracle VM VirtualBox 설치 확인\n"
   ]
  },
  {
   "cell_type": "markdown",
   "metadata": {
    "school_cell_uuid": "f1d6400dbf7044bf9788a78f663c1327"
   },
   "source": [
    "### 가상머신 생성"
   ]
  },
  {
   "cell_type": "markdown",
   "metadata": {
    "school_cell_uuid": "6f12bf98fa1c46f7b817d41a4e4080a8"
   },
   "source": [
    "도커 툴박스는 설치했지만 아직 도커를 사용할 수 있는 단계는 아니다. 도커는 리눅스에서만 실행할 수 있는 컨테이너 서비스이므로 리눅스 운영체제가 깔려 있는 가상머신(가상 컴퓨터)이 필요한데, 아직 가상머신이 설치되지 않았기 때문이다.\n",
    "\n",
    "시작 메뉴에서 \"Docker Quickstart Terminal(이하 도커 터미널로 부른다)\"을 선택하여 실행하면 다음과 같이 가상머신을 자동으로 생성해 준다. 가상머신을 생성하는 작업은 최초 한 번만 실행되며 컴퓨터의 성능에 따라 몇 분 가량 걸릴 수 있다. 일단 가상머신이 생성된 다음에는 도커 터미널을 실행해도 기존의 가상머신을 가동하기만 하고 다시 생성하지는 않으므로 최초 생성 시보다는 빠르게 실행된다.\n",
    "\n",
    "가상머신이 생성되면 다음처럼 도커를 뜻하는 고래 모양의 그림과 함께 도커 터미널이 실행된다."
   ]
  },
  {
   "cell_type": "markdown",
   "metadata": {
    "school_cell_uuid": "5b86b04c3a964321b09128f30c958630"
   },
   "source": [
    "<img src=\"https://datascienceschool.net/upfiles/f52615b456eb49b79104ad66805ef2d9.png\" style=\"width: 100%;\"/>"
   ]
  },
  {
   "cell_type": "markdown",
   "metadata": {
    "school_cell_uuid": "a5c7b0d642e640238644ff26cf55ec4e",
    "sidetitle": true
   },
   "source": [
    "그림 2.2.14 :  도커 툴박스를 처음으로 실행한 화면\n"
   ]
  },
  {
   "cell_type": "markdown",
   "metadata": {
    "school_cell_uuid": "6aec10d59bcb4dba9697e898a5219ee0"
   },
   "source": [
    "이 화면에 나타난 IP 주소를 꼭 기억해 놓아야 한다. Oracle VirtualBox는 NAT(Network Address Translation)와 사설 IP 주소를 사용하여 호스트 컴퓨터(윈도우)와 게스트 가상 머신(리눅스)을 연결하는데, 도커 터미널을 실행할 때 나타나는 192.168.99.100이라는 사설 IP 주소가 게스트 가상 머신의 주소가 된다. 가상 머신을 두 대 이상 생성하지 않았다면 기본적으로 사설 IP 주소는 192.168.99.100이 된다.\n",
    "\n",
    "도커 터미널을 사용할 때는 이 주소를 환경변수로 저장해 놓았기 때문에 신경쓰지 않고 사용할 수 있지만, putty 등의 다른 방법으로 가상 머신을 연결하거나 가상 머신에서 작동하는 주피터 노트북(Jupyter Notebook)을 웹 브라우저에서 실행할 때는 이 사설 IP 주소를 사용해야 하므로 주의하자.\n"
   ]
  },
  {
   "cell_type": "markdown",
   "metadata": {
    "school_cell_uuid": "6b490ccef80844728469916e0fa6f865"
   },
   "source": [
    "### 도커 동작 확인"
   ]
  },
  {
   "cell_type": "markdown",
   "metadata": {
    "school_cell_uuid": "0b5579c085a7471a90f1973ae5cdcf9d"
   },
   "source": [
    "이 상태에서 도커가 정상적으로 동작하는지 확인하려면 `docker` 라는 명령어를 입력한다. 다음처럼 출력되면 정상적으로 설치된 것이다."
   ]
  },
  {
   "cell_type": "markdown",
   "metadata": {
    "school_cell_uuid": "535bec657abc450fa4437685859d544c"
   },
   "source": [
    "<img src=\"https://datascienceschool.net/upfiles/8cbb664b2b6743ad960e034a8c44d9a7.png\" style=\"width: 100%;\"/>"
   ]
  },
  {
   "cell_type": "markdown",
   "metadata": {
    "school_cell_uuid": "f03ba1e53b944eb093974897fa9c0401",
    "sidetitle": true
   },
   "source": [
    "그림 2.2.15 :  \"docker\" 명령어를 입력한 예"
   ]
  },
  {
   "cell_type": "markdown",
   "metadata": {
    "school_cell_uuid": "0df78353db8d4a65b3fdb1ec3beb883d"
   },
   "source": [
    "### Oracle VirtualBox 확인"
   ]
  },
  {
   "cell_type": "markdown",
   "metadata": {
    "school_cell_uuid": "328a5f7b5c1c4774a8293d38368f66bc"
   },
   "source": [
    "도커 터미널을 실행하면 가상머신이 생성되고 가동된다고 하였는데, Oracle VirtualBox에서 실제로 이를 확인할 수 있다.\n",
    "\n",
    "윈도우의 [시작 → 모든 프로그램 → Oracle VM VirtualBox → Oracle VM VirtualBox]를 실행하면 다음처럼 default라는 이름의 가상 머신이 동작하고 있음을 확인할 수 있다."
   ]
  },
  {
   "cell_type": "markdown",
   "metadata": {
    "school_cell_uuid": "c9118c458ba44d31910858d4a601d781"
   },
   "source": [
    "<img src=\"https://datascienceschool.net/upfiles/c431627b41d84db1aa42292caeca0495.png\" style=\"width: 100%;\"/>"
   ]
  },
  {
   "cell_type": "markdown",
   "metadata": {
    "school_cell_uuid": "75a4eb7b3ceb4f9a88db6f99a71b8757",
    "sidetitle": true
   },
   "source": [
    "그림 2.2.16 :  Oracle VirtualBox를 통한 가상 머신 확인\n"
   ]
  },
  {
   "cell_type": "markdown",
   "metadata": {
    "school_cell_uuid": "04524feddf8249cb8bbb60ee3ae5f22e"
   },
   "source": [
    "## 설치 문제 해결"
   ]
  },
  {
   "cell_type": "markdown",
   "metadata": {
    "school_cell_uuid": "b817d102126640529b03f79e7df6e45b"
   },
   "source": [
    "도커를 설치하고 도커 터미널을 실행한 다음, 오류 메시지가 나타나거나 docker 명령을 인식하지 못할 때는 다음과 같은 사항을 순서대로 조치해 본다.\n",
    "\n",
    "1. 도커 터미널 창을 닫고 다시 실행해 본다.\n",
    "2. 컴퓨터에 설치된 백신/멀웨어(Malware) 탐지 프로그램 혹은 방화벽을 끄고 도커 터미널을 다시 실행해 본다.\n",
    "3. Oracle VirtualBox에서 default 가상 머신을 \"모든 파일 완전 삭제\"한 후에 다시 도커 터미널을 실행해 본다.\n",
    "4. 도커 툴박스를 완전 삭제한 후 시스템을 재부팅하여 도커 터미널을 실행해 본다.\n"
   ]
  },
  {
   "cell_type": "markdown",
   "metadata": {
    "school_cell_uuid": "ed33eeef430e4a8a9b3b2f471f2f982f"
   },
   "source": [
    "# 도커 가상 머신 삭제와 재생성"
   ]
  },
  {
   "cell_type": "markdown",
   "metadata": {
    "school_cell_uuid": "d737ae69edd14239be665d551c15abfd"
   },
   "source": [
    "## 가상 머신 삭제"
   ]
  },
  {
   "cell_type": "markdown",
   "metadata": {
    "school_cell_uuid": "73d5df1cd8d54659b7033f3180ea4e03"
   },
   "source": [
    "도커 툴박스를 사용하다가 경우에 따라서는 도커 이미지를 지우는 것이 아니라 리눅스가 설치된 가상 머신 자체를 완전히 삭제해야 하는 경우가 있을 수 있다. 이 경우에는 ``docker-machine`` 이라는 도구를 사용한다.\n",
    "\n",
    "우선 도커 터미널을 시작해서 현재 설치되어 있는 가상 머신 목록을 확인한다."
   ]
  },
  {
   "cell_type": "markdown",
   "metadata": {
    "school_cell_uuid": "d87a8b7a0bf2429792172945296431ca"
   },
   "source": [
    "```\n",
    "$ docker-machine ls\n",
    "\n",
    "NAME      ACTIVE   DRIVER       STATE     URL                         SWARM   DOCKER    ERRORS\n",
    "default   *        virtualbox   Running   tcp://192.168.99.100:2376           v1.13.0\n",
    "```"
   ]
  },
  {
   "cell_type": "markdown",
   "metadata": {
    "school_cell_uuid": "70cc97fe03a14e80ab523719483e08ed"
   },
   "source": [
    "특별한 경우가 아니라면 `default`라는 이름의 가상 머신만 있을 것이다.\n",
    "\n",
    "이 가상 머신은 다음 명령으로 삭제할 수 있다. 이 명령을 사용하면 도커 이미지 및 도커 컨테이너에 저장된 모든 파일들이 함께 지워지므로 반드시 필요한 파일을 호스트에 복사한 뒤에 사용한다."
   ]
  },
  {
   "cell_type": "markdown",
   "metadata": {
    "school_cell_uuid": "bf729a94e99941379b5fdd5accec5461"
   },
   "source": [
    "```\n",
    "$ docker-machine rm default\n",
    "About to remove default\n",
    "Are you sure? (y/n): y\n",
    "Successfully removed default\n",
    "```"
   ]
  },
  {
   "cell_type": "markdown",
   "metadata": {
    "school_cell_uuid": "55340224030941aaa7935463fcdf0c68"
   },
   "source": [
    "만약 가상 머신의 이름이 `default`가 아니면 위 명령에서 이름을 해당하는 이름으로 바꾸면 된다."
   ]
  },
  {
   "cell_type": "markdown",
   "metadata": {
    "school_cell_uuid": "c090332e636a4954af050dfa95ff2cdb"
   },
   "source": [
    "## 가상 머신 재생성"
   ]
  },
  {
   "cell_type": "markdown",
   "metadata": {
    "school_cell_uuid": "2144e046806243ca8878baf17eadfdc6"
   },
   "source": [
    "가상 머신을 삭제한 이후에 도커 터미널을 끄고 다시 실행하면 리눅스가 깔린 가상 머신을 자동으로 다시 만들어 준다. 하지만 이렇게 자동을 만들어 주는 가상 머신은 사용할 수 있는 CPU의 수, 메모리 크기, 하드 디스크의 크기가 정해져 있다. 만약 가상 머신을 사용자가 원하는 사양으로 만들고 싶다면 도커 터미널을 통한 자동 생성을 사용하지 않고 `docker-machine` 도구를 사용하여 직접 만들어야 한다."
   ]
  },
  {
   "cell_type": "markdown",
   "metadata": {
    "school_cell_uuid": "9892fce2c5af4ade99aba719e066f6c1"
   },
   "source": [
    "먼저 현재 ``default``라는 이름의 가상 머신이 없다는 것을 ``docker-machine ls`` 명령으로 확인한다. 만약 가상 머신이 존재하면 앞서 말한 ``docker-machine rm`` 명령으로 삭제한다.\n",
    "\n",
    "```\n",
    "$ docker-machine ls\n",
    "NAME   ACTIVE   DRIVER   STATE   URL   SWARM   DOCKER   ERRORS\n",
    "```"
   ]
  },
  {
   "cell_type": "markdown",
   "metadata": {
    "school_cell_uuid": "1a3219408f744a048389116b433ac13f"
   },
   "source": [
    "다음 명령으로 가상 머신을 만든다. 이 때 호스트 컴퓨터의 사양 내에서 가상 머신의 사양을 원하는 대로 지정할 수 있다.\n",
    "\n",
    "```\n",
    "$ docker-machine create --driver virtualbox --virtualbox-cpu-count \"2\" --virtualbox-memory \"2048\" --virtualbox-disk-size \"50000\" default\n",
    "```"
   ]
  },
  {
   "cell_type": "markdown",
   "metadata": {
    "school_cell_uuid": "b202e0ae00be4d5c8b714d241f93a56d"
   },
   "source": [
    "위 명령에서 각 인수의 의미는 다음과 같다. 인수의 숫자를 바꾸면 가상 머신의 사양을 변경할 수 있다.\n",
    "\n",
    "* ``--driver virtualbox``: 버추얼박스 사용\n",
    "* ``--virtualbox-cpu-count \"2\"`` : CPU 코어의 수를 2 개로 지정\n",
    "* ``--virtualbox-memory \"2048\"``: 메모리 크기를 2 GB로 지정 \n",
    "* ``--virtualbox-disk-size \"50000\"``: 메모리 크기를 50 GB로 지정 "
   ]
  }
 ],
 "metadata": {
  "celltoolbar": "Edit Metadata",
  "kernelspec": {
   "display_name": "Python 3",
   "language": "python",
   "name": "python3"
  },
  "language_info": {
   "codemirror_mode": {
    "name": "ipython",
    "version": 3
   },
   "file_extension": ".py",
   "mimetype": "text/x-python",
   "name": "python",
   "nbconvert_exporter": "python",
   "pygments_lexer": "ipython3",
   "version": "3.6.4"
  },
  "latex_envs": {
   "LaTeX_envs_menu_present": true,
   "autoclose": false,
   "autocomplete": true,
   "bibliofile": "biblio.bib",
   "cite_by": "apalike",
   "current_citInitial": 1,
   "eqLabelWithNumbers": true,
   "eqNumInitial": 1,
   "hotkeys": {
    "equation": "Ctrl-E",
    "itemize": "Ctrl-I"
   },
   "labels_anchors": false,
   "latex_user_defs": false,
   "report_style_numbering": false,
   "user_envs_cfg": false
  }
 },
 "nbformat": 4,
 "nbformat_minor": 1
}