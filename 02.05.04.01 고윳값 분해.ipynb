{
 "cells": [
  {
   "cell_type": "markdown",
   "metadata": {
    "school_cell_uuid": "e58c0a8141f840dfa138ad0e25b71e5e"
   },
   "source": [
    "# 고윳값 분해"
   ]
  },
  {
   "cell_type": "markdown",
   "metadata": {
    "school_cell_uuid": "c2b96a0e953c48c1935f59b28f9d1938"
   },
   "source": [
    "고윳값 분해와 다음에 설명할 특이값 분해는 행렬의 내부 구조를 살펴보거나 행렬을 이용한 연산을 더 효율적으로 해야 할 때 유용하게 사용할 수 있다. 여기에서는 고윳값 분해의 정의를 살펴보고 이와 관련된 다양한 정리들을 보인다. 고윳값 분해와 관련된 대부분의 정의는 증명이 복잡하므로 여기에서는 증명을 생략한다. 하지만 정리 자체는 데이터 분석에서 많이 사용되기 때문에 반드시 외워야 한다."
   ]
  },
  {
   "cell_type": "markdown",
   "metadata": {
    "school_cell_uuid": "df7fef7e8f594473ae53a9714d6405d2"
   },
   "source": [
    "## 고윳값과 고유벡터"
   ]
  },
  {
   "cell_type": "markdown",
   "metadata": {
    "school_cell_uuid": "1028d2a499e54703b0ea9f21566b69d0"
   },
   "source": [
    "정방 행렬 $A$에 대해 다음 식을 만족하는 영벡터가 아닌 벡터 $v$, 실수 $\\lambda$를 찾을 수 있다고 가정하자.\n",
    "\n",
    "$$ Av = \\lambda v $$\n",
    "\n",
    "이 식은 다음처럼 쓸 수도 있다.\n",
    "\n",
    "$$ Av - \\lambda v = (A - \\lambda I) v = 0 $$\n",
    "\n",
    "위 식을 만족하는 실수 $\\lambda$를 **고윳값**(eigenvalue), 벡터 $v$ 를 **고유벡터**(eigenvector)라고 한다.\n",
    "\n",
    "\n",
    "즉 어떤 벡터를 행렬에 곱한 결과로 나타난 벡터가 원래의 벡터와 같은 방향을 향하고 있다면 이를 고유벡터라고 한다.\n",
    "다만 크기나 방향은 원래의 벡터와 달라질 수가 있는데 달라진 크기를 나타내는 비율을 고윳값이라고 부른다.\n",
    "\n",
    "고윳값과 고유벡터를 찾는 작업을 **고유분해(eigen-decomposition)** 또는 **고윳값 분해(eigenvalue decomposition)**라고 한다."
   ]
  },
  {
   "cell_type": "markdown",
   "metadata": {
    "school_cell_uuid": "0c1831371c604374944d1f119d8fd06b"
   },
   "source": [
    "예를 들어 행렬 $A$\n",
    "\n",
    "$$\n",
    "A=\n",
    "\\begin{bmatrix}\n",
    "1 & -2 \\\\\n",
    "2 & -3\n",
    "\\end{bmatrix}\n",
    "$$\n",
    "에 대해 다음 스칼라 값과 벡터는 각각 고윳값, 고유벡터가 된다."
   ]
  },
  {
   "cell_type": "markdown",
   "metadata": {
    "school_cell_uuid": "ec90af5ed738422b9cfb0840b8af91ba"
   },
   "source": [
    "$$\\lambda = -1$$\n",
    "\n",
    "$$\n",
    "v=\n",
    "\\begin{bmatrix}\n",
    "1  \\\\\n",
    "1\n",
    "\\end{bmatrix}\n",
    "$$\n",
    "\n",
    "$$\n",
    "Av = \n",
    "\\begin{bmatrix}\n",
    "1 & -2 \\\\\n",
    "2 & -3\n",
    "\\end{bmatrix}\n",
    "\\begin{bmatrix}\n",
    "1  \\\\\n",
    "1\n",
    "\\end{bmatrix}\n",
    "=\n",
    "\\begin{bmatrix}\n",
    "-1 \\\\\n",
    "-1\n",
    "\\end{bmatrix}\n",
    "=\n",
    "(-1)\n",
    "\\begin{bmatrix}\n",
    "1 \\\\\n",
    "1 \n",
    "\\end{bmatrix}\n",
    "=\n",
    "\\lambda v\n",
    "$$"
   ]
  },
  {
   "cell_type": "markdown",
   "metadata": {
    "school_cell_uuid": "15ade8decd444ebb93422430189c3b57"
   },
   "source": [
    "어떤 벡터 $v$가 고유벡터가 되면 이 벡터에 실수를 곱한 벡터 $cv$,즉 $v$와 방향이 같은 벡터는 모두 고유벡터가 된다. 예를 들어 행렬 $A$에 대해 다음 벡터는 모두 고유벡터이다.\n",
    "\n",
    "$$\n",
    "v=\n",
    "c\n",
    "\\begin{bmatrix}\n",
    "1  \\\\\n",
    "1\n",
    "\\end{bmatrix}\n",
    "$$\n",
    "\n",
    "$$\n",
    "Av = \n",
    "\\begin{bmatrix}\n",
    "1 & -2 \\\\\n",
    "2 & -3\n",
    "\\end{bmatrix}\n",
    "\\left(\n",
    "c\n",
    "\\begin{bmatrix}\n",
    "1  \\\\\n",
    "1\n",
    "\\end{bmatrix}\n",
    "\\right)\n",
    "=\n",
    "c\n",
    "\\begin{bmatrix}\n",
    "-1 \\\\\n",
    "-1\n",
    "\\end{bmatrix}\n",
    "=\n",
    "(-1)c\n",
    "\\begin{bmatrix}\n",
    "1 \\\\\n",
    "1 \n",
    "\\end{bmatrix}\n",
    "=\n",
    "\\lambda (cv)\n",
    "$$\n",
    "\n",
    "그래서 보통 고유벡터를 표시할 때는 길이가 1인 단위벡터가 되도록 다음처럼 정규화(normalization)를 한다.\n",
    "\n",
    "$$ \\dfrac{v}{\\|v\\|} $$\n",
    "\n",
    "따라서 위 행렬 $A$의 고유값-고유벡터는 보통 다음처럼 나타내는 경우가 많다.\n",
    "\n",
    "$$\\lambda = -1$$\n",
    "\n",
    "$$\n",
    "v=\n",
    "\\begin{bmatrix}\n",
    "\\dfrac{\\sqrt{2}}{2}  \\\\\n",
    "\\dfrac{\\sqrt{2}}{2} \n",
    "\\end{bmatrix}\n",
    "\\approx\n",
    "\\begin{bmatrix}\n",
    "0.7071 \\\\\n",
    "0.7071\n",
    "\\end{bmatrix}\n",
    "$$"
   ]
  },
  {
   "cell_type": "markdown",
   "metadata": {
    "bootstrap": {
     "panel": {
      "class": "panel-default"
     }
    },
    "school_cell_uuid": "d0e0cffb46fe47e395c44c2d8b984de6"
   },
   "source": [
    "#### 연습 문제 5.4.1\n",
    "\n",
    "다음 행렬 $B$가\n",
    "$$ \n",
    "B =\n",
    "\\begin{bmatrix}\n",
    "2 & 3 \\\\\n",
    "2 & 1\n",
    "\\end{bmatrix}\n",
    "$$\n",
    "\n",
    "다음과 같은 두 가지 고윳값-고유벡터를 가짐을 증명하라.\n",
    "\n",
    "$$ \n",
    "\\lambda_1 = 4, \\;\\;\n",
    "v_1 = \\begin{bmatrix}\n",
    "3 \\\\\n",
    "2\n",
    "\\end{bmatrix}\n",
    "$$\n",
    "\n",
    "$$ \n",
    "\\lambda_2 = -1, \\;\\;\n",
    "v_2 = \\begin{bmatrix}\n",
    "-1 \\\\\n",
    "1\n",
    "\\end{bmatrix}\n",
    "$$\n",
    "\n",
    "또는\n",
    "\n",
    "$$ \n",
    "\\lambda_1 = 4, \\;\\;\n",
    "v_1 = \n",
    "\\begin{bmatrix}\n",
    "\\dfrac{3}{\\sqrt{13}} \\\\\n",
    "\\dfrac{2}{\\sqrt{13}}\n",
    "\\end{bmatrix}\n",
    "\\approx\n",
    "\\begin{bmatrix}\n",
    "0.8321 \\\\\n",
    "0.5547\n",
    "\\end{bmatrix}\n",
    "$$\n",
    "\n",
    "$$ \n",
    "\\lambda_2 = -1, \\;\\;\n",
    "v_2 = \\begin{bmatrix}\n",
    "-\\dfrac{1}{\\sqrt{2}} \\\\\n",
    "\\dfrac{1}{\\sqrt{2}}\n",
    "\\end{bmatrix}\n",
    "\\approx \n",
    "\\begin{bmatrix}\n",
    "-0.7071 \\\\\n",
    "0.7071\n",
    "\\end{bmatrix}\n",
    "$$"
   ]
  },
  {
   "cell_type": "markdown",
   "metadata": {
    "school_cell_uuid": "bee67ca84ff945bb99178aa8712caf6b"
   },
   "source": [
    "## 특성방정식"
   ]
  },
  {
   "cell_type": "markdown",
   "metadata": {
    "school_cell_uuid": "922cdadad9a94e9ebf830f1b368c2d06"
   },
   "source": [
    "지금까지는 행렬에 대해 고윳값-고유벡터가 주어지면 정방 고윳값-고유벡터인지를 증명했다. 그러면 행렬만 주어졌을 때 고윳값-고유벡터은 어떻게 구할 수 있을까?\n",
    "\n",
    "행렬 $A$의 고유값은 $A - \\lambda I$의 행렬식이 0이 되도록 하는 **특성방정식(characteristic equation)**의 해를 구하면 된다.\n",
    "\n",
    "$$ \\det \\left( A - \\lambda I \\right) = 0$$\n"
   ]
  },
  {
   "cell_type": "markdown",
   "metadata": {
    "school_cell_uuid": "2032a1af4e204da380ee7f23b5dac23e"
   },
   "source": [
    "예를 들어 행렬 $A$\n",
    "\n",
    "$$\n",
    "A=\n",
    "\\begin{bmatrix}\n",
    "1 & -2 \\\\\n",
    "2 & -3\n",
    "\\end{bmatrix}\n",
    "$$\n",
    "\n",
    "에 대해서는 특성방정식이 다음과 같다.\n",
    "\n",
    "$$ \n",
    "\\begin{eqnarray}\n",
    "\\det \\left( A - \\lambda I \\right) \n",
    "&=&\n",
    "\\det \n",
    "\\left(\n",
    "\\begin{bmatrix}\n",
    "1 & -2 \\\\\n",
    "2 & -3\n",
    "\\end{bmatrix}\n",
    "-\n",
    "\\begin{bmatrix}\n",
    "\\lambda & 0 \\\\\n",
    "0 & \\lambda\n",
    "\\end{bmatrix}\n",
    "\\right) \n",
    "\\\\\n",
    "&=&\n",
    "\\det \n",
    "\\begin{bmatrix}\n",
    "1 - \\lambda & -2 \\\\\n",
    "2 & -3 -\\lambda\n",
    "\\end{bmatrix}\n",
    "\\\\\n",
    "&=& (1 - \\lambda)(-3 -\\lambda) + 4 \\\\\n",
    "&=& \\lambda^2 + 2\\lambda + 1 = 0\n",
    "\\end{eqnarray}\n",
    "$$\n",
    "\n",
    "인수분해를 하여 이차방정식인 특성방정식을 풀면\n",
    "\n",
    "$$\n",
    "\\lambda^2 + 2\\lambda + 1 = (\\lambda + 1)^2 = 0\n",
    "$$\n",
    "\n",
    "에서 고윳값은 -1이다. \n",
    "\n",
    "원래 이차방정식은 최대 2개의 해를 가질 수 있지만 이 경우에는 하나의 해만 존재하기 때문에 이러한 해를 **중복고윳값(repeated eigenvalue)**이라고 한다."
   ]
  },
  {
   "cell_type": "markdown",
   "metadata": {
    "school_cell_uuid": "a58b1422378b416fa9d6a376cc6f00ed"
   },
   "source": [
    "또다른 행렬 $B$\n",
    "\n",
    "$$\n",
    "B=\n",
    "\\begin{bmatrix}\n",
    "2 & 3 \\\\\n",
    "2 & 1\n",
    "\\end{bmatrix}\n",
    "$$\n",
    "\n",
    "에 대해서는 특성방정식이 다음과 같다.\n",
    "\n",
    "$$ \n",
    "\\begin{eqnarray}\n",
    "\\det \\left( B - \\lambda I \\right) \n",
    "&=&\n",
    "\\det \n",
    "\\left(\n",
    "\\begin{bmatrix}\n",
    "2 & 3 \\\\\n",
    "2 & 1\n",
    "\\end{bmatrix}\n",
    "-\n",
    "\\begin{bmatrix}\n",
    "\\lambda & 0 \\\\\n",
    "0 & \\lambda\n",
    "\\end{bmatrix}\n",
    "\\right) \n",
    "\\\\\n",
    "&=&\n",
    "\\det \n",
    "\\begin{bmatrix}\n",
    "2 - \\lambda & 3 \\\\\n",
    "2 & 1 -\\lambda\n",
    "\\end{bmatrix}\n",
    "\\\\\n",
    "&=& (2 - \\lambda)(1 -\\lambda) -6 \\\\\n",
    "&=& \\lambda^2 - 3\\lambda -4 = 0\n",
    "\\end{eqnarray}\n",
    "$$\n",
    "\n",
    "인수분해를 하여 이차방정식인 특성방정식을 풀면\n",
    "\n",
    "$$\n",
    "\\lambda^2 - 3\\lambda -4= (\\lambda -4)(\\lambda +1) = 0\n",
    "$$\n",
    "\n",
    "에서 고윳값은 4와 -1이다."
   ]
  },
  {
   "cell_type": "markdown",
   "metadata": {
    "school_cell_uuid": "3bae7febd105490795ac614d0894fb1d"
   },
   "source": [
    "2차 방정식의 해가 존재하지 않는 경우도 있기 때문에 고유값이 없는 행렬도 있을 수 있다.\n",
    "\n",
    "행렬\n",
    "$$ \n",
    "C =\n",
    "\\begin{bmatrix}\n",
    "0 & -1 \\\\\n",
    "1 & 0\n",
    "\\end{bmatrix}\n",
    "$$\n",
    "\n",
    "의 특성방정식은 다음과 같다.\n",
    "\n",
    "$$ \n",
    "\\begin{eqnarray}\n",
    "\\det \\left( C - \\lambda I \\right) \n",
    "&=&\n",
    "\\det \n",
    "\\left(\n",
    "\\begin{bmatrix}\n",
    "0 & -1 \\\\\n",
    "1 & 0\n",
    "\\end{bmatrix}\n",
    "-\n",
    "\\begin{bmatrix}\n",
    "\\lambda & 0 \\\\\n",
    "0 & \\lambda\n",
    "\\end{bmatrix}\n",
    "\\right) \n",
    "\\\\\n",
    "&=& \\lambda^2 +1 \\\\\n",
    "&=& 0\n",
    "\\end{eqnarray}\n",
    "$$\n",
    "\n",
    "이 특성방정식의 실수해는 존재하지 않음을 알 수 있다. 따라서 행렬 $C$는 실수인 고유값을 가지지 않는다.\n",
    "\n",
    "\n",
    "만약 고유값-고유벡터가 복소수(complex number)가 되어도 괜찮다면 행렬 $C$는 2개의 고윳값을 가진다고 할 수 있다.\n",
    "\n",
    "$$ \\lambda = i, \\;\\; \\lambda = -i $$"
   ]
  },
  {
   "cell_type": "markdown",
   "metadata": {
    "bootstrap": {
     "panel": {
      "class": "panel-default"
     }
    },
    "school_cell_uuid": "d0e0cffb46fe47e395c44c2d8b984de6"
   },
   "source": [
    "#### 연습 문제 5.4.2\n",
    "\n",
    "특성방정식을 이용하여 다음 행렬의 고윳값을 구하라.\n",
    "\n",
    "$$ \n",
    "\\begin{bmatrix}\n",
    "2 & 1 \\\\\n",
    "1 & 2\n",
    "\\end{bmatrix}\n",
    "$$"
   ]
  },
  {
   "cell_type": "markdown",
   "metadata": {
    "school_cell_uuid": "9536100141ed4740a4ea24f497c887c8"
   },
   "source": [
    "## 고윳값의 갯수"
   ]
  },
  {
   "cell_type": "markdown",
   "metadata": {
    "school_cell_uuid": "9c987a384f1e4cd8a9659d9a678b9c40"
   },
   "source": [
    "$N$차방정식이 항상 $N$개의 복소수 해를 가진다는 사실을 이용하면 $N$차원 정방행렬의 고윳값의 갯수는 다음과 같음을 알 수 있다.\n",
    "\n",
    "> 중복된 고유값을 하나로 생각하고 실수 고윳값만 고려한다면 $N$차원 정방행렬의 고윳값은 0개부터 $N$개까지 있을 수 있다.\n",
    "\n",
    "> **중복된 고윳값을 각각 별개로 생각하고 복소수인 고윳값도 고려한다면 $N$차원 정방행렬의 고윳값은 항상 $N$개이다.**"
   ]
  },
  {
   "cell_type": "markdown",
   "metadata": {
    "school_cell_uuid": "badc206f0f724ab8bce5ffa8f41f5460"
   },
   "source": [
    "## 고윳값과 대각합/행렬식"
   ]
  },
  {
   "cell_type": "markdown",
   "metadata": {
    "school_cell_uuid": "0a0cb5d9754f47f59da4c6d7943fd07a"
   },
   "source": [
    "앞의 예제에서 각행렬들의 대각합(trace)과 행렬식(determinant)이 고유값과 어떤 관계에 있는지 살펴보자.\n",
    "\n",
    "\n",
    "행렬 $A$에 대해서 대각합과 행렬식은 다음과 같다.\n",
    "\n",
    "$$\n",
    "\\text{tr}(A) = 1 + (-3) = -2\n",
    "$$\n",
    "\n",
    "$$\n",
    "\\text{det}(A) = 1 \\cdot (-3) - 2 \\cdot (-2) = 1\n",
    "$$\n",
    "\n",
    "그런데 고윳값이 $\\lambda_1=-1$, $\\lambda_2=-1$ (중복된 고윳값)이므로\n",
    "\n",
    "$$\n",
    "\\lambda_1 + \\lambda_2 = -2 = \\text{tr}(A)\n",
    "$$\n",
    "\n",
    "$$\n",
    "\\lambda_1 \\times \\lambda_2 = 1 = \\text{det}(A)\n",
    "$$\n",
    "\n",
    "가 성립한다."
   ]
  },
  {
   "cell_type": "markdown",
   "metadata": {
    "school_cell_uuid": "8386235195964bfba4cb96a2ef6b718f"
   },
   "source": [
    "행렬 $B$에 대해서도 고윳값이 $\\lambda_1=4$, $\\lambda_2=-1$이고\n",
    "\n",
    "$$\n",
    "\\lambda_1 + \\lambda_2 = 3 = \\text{tr}(B) = 2 + 1 = 3\n",
    "$$\n",
    "\n",
    "$$\n",
    "\\lambda_1 \\times \\lambda_2 = -4 = \\text{det}(B) = 2 \\cdot 1 - 2 \\cdot 3 = -4\n",
    "$$\n",
    "\n",
    "가 성립한다."
   ]
  },
  {
   "cell_type": "markdown",
   "metadata": {
    "school_cell_uuid": "01969b464f0b479ba7078334caf8a419"
   },
   "source": [
    "사실 이 관계는 모든 행렬에 대해 성립한다.\n",
    "\n",
    "어떤 행렬의 고윳값이 $\\lambda_1, \\lambda_2, \\cdots, \\lambda_N$이라고 하면 **모든 고윳값의 곱은 행렬식의 값**과 같고 **모든 고윳값의 합은 대각합(trace)의 값**과 같다.\n",
    "\n",
    "$$\n",
    "\\det(A)=\\prod_{i=1}^N \\lambda_i\n",
    "$$\n",
    "\n",
    "$$\n",
    "\\text{tr}(A) =\\sum_{i=1}^N \\lambda_i\n",
    "$$"
   ]
  },
  {
   "cell_type": "markdown",
   "metadata": {
    "school_cell_uuid": "ae0f99f07f6b49ab8b5deb31963031ed"
   },
   "source": [
    "## 고유벡터의 계산"
   ]
  },
  {
   "cell_type": "markdown",
   "metadata": {
    "school_cell_uuid": "f55c0e100b094bae9752d2ec7f2dce7a"
   },
   "source": [
    "고윳값을 알면 다음 연립 방정식을 풀어 고유벡터를 구할 수 있다.\n",
    "\n",
    "$$\n",
    "(A - \\lambda I)v = 0\n",
    "$$\n",
    "\n",
    "앞에서 예로 든 행렬 $A$에 대해서는\n",
    "\n",
    "$$\n",
    "\\begin{bmatrix}\n",
    "1+1 & -2 \\\\\n",
    "2 & -3+1\n",
    "\\end{bmatrix}\n",
    "\\begin{bmatrix}\n",
    "v_1 \\\\ v_2\n",
    "\\end{bmatrix}\n",
    "= 0\n",
    "$$\n",
    "\n",
    "$$\n",
    "\\begin{bmatrix}\n",
    "2 & -2 \\\\\n",
    "2 & -2\n",
    "\\end{bmatrix}\n",
    "\\begin{bmatrix}\n",
    "v_1 \\\\ v_2\n",
    "\\end{bmatrix}\n",
    "= 0\n",
    "$$\n",
    "\n",
    "이므로 \n",
    "\n",
    "$$2v_1 - 2v_2 = 0$$\n",
    "\n",
    "즉,\n",
    "\n",
    "$$v_1 = v_2$$\n",
    "\n",
    "를 만족하는 모든 벡터가 고유벡터임을 알 수 있다."
   ]
  },
  {
   "cell_type": "markdown",
   "metadata": {
    "bootstrap": {
     "panel": {
      "class": "panel-default"
     }
    },
    "school_cell_uuid": "d0e0cffb46fe47e395c44c2d8b984de6"
   },
   "source": [
    "#### 연습 문제 5.4.3\n",
    "\n",
    "특성방정식을 이용하여 다음 행렬의 고윳값과 고유벡터를 구하라.\n",
    "\n",
    "$$\n",
    "\\begin{bmatrix}\n",
    "2 & 3 \\\\\n",
    "2 & 1\n",
    "\\end{bmatrix},\n",
    "\\;\\;\n",
    "\\begin{bmatrix}\n",
    "1 & 1 \\\\\n",
    "0 & 1\n",
    "\\end{bmatrix}\n",
    "$$"
   ]
  },
  {
   "cell_type": "markdown",
   "metadata": {
    "school_cell_uuid": "9ca8942b9cbc47bf8f3b67a9d2be940b"
   },
   "source": [
    "## NumPy를 사용한 고유분해"
   ]
  },
  {
   "cell_type": "markdown",
   "metadata": {
    "school_cell_uuid": "b1c7a32eae864ef39d985d3cdbf3899c"
   },
   "source": [
    "numpy.linalg 서브패키지에서는 고윳값과 고유벡터를 구할 수 있는 `eig` 명령을 제공한다.\n",
    "고윳값은 벡터의 형태로, 고유벡터는 고유벡터 행렬의 형태로 묶여서 나오고 고유벡터는 크기가 1인 단위벡터로 정규화가 되어있다.\n",
    "\n",
    "`eig` 명령의 결과로 나오는 고유벡터 행렬은 행이 아니라 **열을 고유벡터로 가진다**는 점에 주의한다. 수치계산의 오류로 인해 중복되는 고윳값이 미세하게 다른 값으로 계산될 수도 있다."
   ]
  },
  {
   "cell_type": "code",
   "execution_count": 1,
   "metadata": {
    "school_cell_uuid": "ea91e3254fa140adb5a1084bf052a0ff"
   },
   "outputs": [],
   "source": [
    "A = np.array([[1, -2], [2, -3]])\n",
    "w1, V1 = np.linalg.eig(A)"
   ]
  },
  {
   "cell_type": "code",
   "execution_count": 2,
   "metadata": {
    "school_cell_uuid": "bc79234fc63d4ef5a39b7a1a92c78b7b"
   },
   "outputs": [
    {
     "data": {
      "text/plain": [
       "array([-0.99999998, -1.00000002])"
      ]
     },
     "execution_count": 2,
     "metadata": {},
     "output_type": "execute_result"
    }
   ],
   "source": [
    "w1"
   ]
  },
  {
   "cell_type": "code",
   "execution_count": 3,
   "metadata": {
    "school_cell_uuid": "0a79fbeda1744b7786b04967c74b46aa"
   },
   "outputs": [
    {
     "data": {
      "text/plain": [
       "array([[0.70710678, 0.70710678],\n",
       "       [0.70710678, 0.70710678]])"
      ]
     },
     "execution_count": 3,
     "metadata": {},
     "output_type": "execute_result"
    }
   ],
   "source": [
    "V1"
   ]
  },
  {
   "cell_type": "code",
   "execution_count": 4,
   "metadata": {
    "school_cell_uuid": "ea91e3254fa140adb5a1084bf052a0ff"
   },
   "outputs": [],
   "source": [
    "B = np.array([[2, 3], [2, 1]])\n",
    "w2, V2 = np.linalg.eig(B)"
   ]
  },
  {
   "cell_type": "code",
   "execution_count": 5,
   "metadata": {
    "school_cell_uuid": "bc79234fc63d4ef5a39b7a1a92c78b7b"
   },
   "outputs": [
    {
     "data": {
      "text/plain": [
       "array([ 4., -1.])"
      ]
     },
     "execution_count": 5,
     "metadata": {},
     "output_type": "execute_result"
    }
   ],
   "source": [
    "w2"
   ]
  },
  {
   "cell_type": "code",
   "execution_count": 6,
   "metadata": {
    "school_cell_uuid": "0a79fbeda1744b7786b04967c74b46aa"
   },
   "outputs": [
    {
     "data": {
      "text/plain": [
       "array([[ 0.83205029, -0.70710678],\n",
       "       [ 0.5547002 ,  0.70710678]])"
      ]
     },
     "execution_count": 6,
     "metadata": {},
     "output_type": "execute_result"
    }
   ],
   "source": [
    "V2"
   ]
  },
  {
   "cell_type": "markdown",
   "metadata": {
    "school_cell_uuid": "4bb4c3cd060a40f084c07dee4500b9da"
   },
   "source": [
    "실수인 고윳값이 존재하지 않는 행렬에 대해서는 복소수인 고윳값과 고유벡터를 계산한다.\n",
    "\n",
    "$$ \n",
    "C =\n",
    "\\begin{bmatrix}\n",
    "0 & -1 \\\\\n",
    "1 & 0\n",
    "\\end{bmatrix}\n",
    "$$"
   ]
  },
  {
   "cell_type": "code",
   "execution_count": 7,
   "metadata": {
    "school_cell_uuid": "38037e2204714c758d1fc6f761600a77"
   },
   "outputs": [],
   "source": [
    "C = np.array([[0, -1], [1, 0]])\n",
    "W3, V3 = np.linalg.eig(C)"
   ]
  },
  {
   "cell_type": "code",
   "execution_count": 8,
   "metadata": {
    "school_cell_uuid": "6c989ecf302e4b69a2d27cc9a7459b67"
   },
   "outputs": [
    {
     "data": {
      "text/plain": [
       "array([0.+1.j, 0.-1.j])"
      ]
     },
     "execution_count": 8,
     "metadata": {},
     "output_type": "execute_result"
    }
   ],
   "source": [
    "W3"
   ]
  },
  {
   "cell_type": "code",
   "execution_count": 9,
   "metadata": {
    "school_cell_uuid": "1252eb164607433f9a7a477d540ecbc1"
   },
   "outputs": [
    {
     "data": {
      "text/plain": [
       "array([[0.70710678+0.j        , 0.70710678-0.j        ],\n",
       "       [0.        -0.70710678j, 0.        +0.70710678j]])"
      ]
     },
     "execution_count": 9,
     "metadata": {},
     "output_type": "execute_result"
    }
   ],
   "source": [
    "V3"
   ]
  },
  {
   "cell_type": "markdown",
   "metadata": {
    "bootstrap": {
     "panel": {
      "class": "panel-default"
     }
    },
    "school_cell_uuid": "d0e0cffb46fe47e395c44c2d8b984de6"
   },
   "source": [
    "#### 연습 문제 5.4.4\n",
    "\n",
    "지금까지 연습 문제에 나온 행렬들에 대해 NumPy를 사용하여 고유분해를 하라."
   ]
  },
  {
   "cell_type": "markdown",
   "metadata": {
    "school_cell_uuid": "3c2034a0f86f42918dfee2781c894155"
   },
   "source": [
    "<img src=\"https://datascienceschool.net/upfiles/b46c85a01e4543be8d0297e4ad1ab8d4.png\" width=\"100%\">"
   ]
  },
  {
   "cell_type": "markdown",
   "metadata": {
    "school_cell_uuid": "4d1daea2d2ef42c7b2c7c9dfd01aadf7",
    "sidetitle": true
   },
   "source": [
    "그림 5.4.1 : 정방행렬에 대한 고윳값-고유벡터의 성질"
   ]
  },
  {
   "cell_type": "markdown",
   "metadata": {
    "school_cell_uuid": "3b5bf142ad0541e1bafd09a90512ba61"
   },
   "source": [
    "## 대각화"
   ]
  },
  {
   "cell_type": "markdown",
   "metadata": {
    "school_cell_uuid": "4928879adef54c6a8c2e0f854791277a"
   },
   "source": [
    "$N$ 차원의 정방 행렬 $A$가 $N$개의 복소수 고윳값과 이에 대응하는 고유벡터를 가진다는 성질을 이용하면 다음처럼 행렬을 분해할 수 있다.  \n",
    "\n",
    "행렬 $A$의 고윳값과 이에 대응하는 단위벡터인 고유벡터를 각각 \n",
    "\n",
    "$$ \\lambda_1, \\lambda_2, \\cdots, \\lambda_N \\;\\;\\; v_1, v_2, \\cdots, v_N $$\n",
    "\n",
    "이라고 하자. \n",
    "\n",
    "이 고윳값과 고유벡터를 묶어서 다음과 같이 고유벡터행렬, 고윳값행렬을 정의할 수 있다. \n",
    "\n",
    "**고유벡터행렬** $V$은 고유벡터를 열벡터로 옆으로 쌓아서 만든 행렬이다.\n",
    "\n",
    "$$\n",
    "V = \\left[ v_1 \\cdots v_N \\right], \\;\\;\\; V \\in \\mathbf{R}^{N \\times N}\n",
    "$$\n",
    "\n",
    "\n",
    "**고윳값행렬** $\\Lambda$은 고윳값을 대각성분으로 가지는 대각행렬이다.\n",
    "\n",
    "$$\n",
    "\\Lambda =\n",
    "\\begin{bmatrix}\n",
    "\\lambda_{1} & 0 & \\cdots & 0 \\\\\n",
    "0 & \\lambda_{2} & \\cdots & 0 \\\\\n",
    "\\vdots & \\vdots & \\ddots & \\vdots \\\\\n",
    "0 & 0 & \\cdots & \\lambda_{N} \\\\\n",
    "\\end{bmatrix}\n",
    ", \\;\\;\\; \\Lambda \\in \\mathbf{R}^{N \\times N}\n",
    "$$\n",
    "\n",
    "위와 같이 고유벡터행렬과 고윳값행렬을 정의하면 **행렬과 고유벡터행렬의 곱은 고유벡터행렬과 고윳값행렬의 곱과 같다**.\n",
    "\n",
    "$$ \n",
    "\\begin{eqnarray}\n",
    "AV \n",
    "&=& A \\left[ v_1 \\cdots v_N \\right] \\\\\n",
    "&=& \\left[ A v_1 \\cdots A v_N \\right] \\\\\n",
    "&=& \\left[ \\lambda_1 v_1 \\cdots \\lambda_N v_N \\right] \\\\\n",
    "&=& \\left[ v_1 \\cdots v_N \\right] \n",
    "\\begin{bmatrix}\n",
    "\\lambda_{1} & 0 & \\cdots & 0 \\\\\n",
    "0 & \\lambda_{2} & \\cdots & 0 \\\\\n",
    "\\vdots & \\vdots & \\ddots & \\vdots \\\\\n",
    "0 & 0 & \\cdots & \\lambda_{N} \\\\\n",
    "\\end{bmatrix}\n",
    "\\\\\n",
    "&=& V\\Lambda\n",
    "\\end{eqnarray}\n",
    "$$\n",
    "\n",
    "$$ AV = V\\Lambda $$\n",
    "\n",
    "만약 **고유벡터행렬 $V$의 역행렬이 존재한다면** 행렬을 다음처럼 고유벡터행렬과 고윳값행렬의 곱으로 표현할 수 있다. 이를 행렬의 **대각화(diagonalization)**라고 한다. \n",
    "\n",
    "$$ A = V \\Lambda V^{-1} $$"
   ]
  },
  {
   "cell_type": "markdown",
   "metadata": {
    "school_cell_uuid": "1f5958a599c447d99377b61f416da2e4"
   },
   "source": [
    "위에서 예로 든 행렬 $B$를 대각화하면 다음과 같다.\n",
    "\n",
    "$$\n",
    "V = \n",
    "\\begin{bmatrix}\n",
    "\\dfrac{3}{\\sqrt{13}} & -\\dfrac{1}{\\sqrt{2}} \\\\\n",
    "\\dfrac{2}{\\sqrt{13}} &  \\dfrac{1}{\\sqrt{2}}\n",
    "\\end{bmatrix}\n",
    "$$\n",
    "\n",
    "$$\n",
    "\\Lambda = \n",
    "\\begin{bmatrix}\n",
    "4 & 0 \\\\\n",
    "0 & -1\n",
    "\\end{bmatrix}\n",
    "$$\n",
    "\n",
    "$$\n",
    "V^{-1} = \n",
    "\\dfrac{1}{5}\n",
    "\\begin{bmatrix}\n",
    "\\sqrt{13} & \\sqrt{13} \\\\\n",
    "-2\\sqrt{2} & 3\\sqrt{2}\n",
    "\\end{bmatrix}\n",
    "$$\n",
    "\n",
    "$$\n",
    "B=\n",
    "\\begin{bmatrix}\n",
    "2 & 3 \\\\\n",
    "2 & 1\n",
    "\\end{bmatrix}\n",
    "= \n",
    "V\\Lambda V^{-1} \n",
    "= \\dfrac{1}{5}\n",
    "\\begin{bmatrix}\n",
    "\\dfrac{3}{\\sqrt{13}} & -\\dfrac{1}{\\sqrt{2}} \\\\\n",
    "\\dfrac{2}{\\sqrt{13}} &  \\dfrac{1}{\\sqrt{2}}\n",
    "\\end{bmatrix}\n",
    "\\begin{bmatrix}\n",
    "4 & 0 \\\\\n",
    "0 & -1\n",
    "\\end{bmatrix}\n",
    "\\begin{bmatrix}\n",
    "\\sqrt{13} & \\sqrt{13} \\\\\n",
    "-2\\sqrt{2} & 3\\sqrt{2}\n",
    "\\end{bmatrix}\n",
    "$$"
   ]
  },
  {
   "cell_type": "markdown",
   "metadata": {
    "school_cell_uuid": "60902c2299d949108652ea335bc847e0"
   },
   "source": [
    "NumPy을 이용하여 위 식을 계산하면 좌변과 우변이 같음을 확인할 수 있다."
   ]
  },
  {
   "cell_type": "code",
   "execution_count": 10,
   "metadata": {
    "school_cell_uuid": "5ca1d04adba740679de6736184435331"
   },
   "outputs": [
    {
     "data": {
      "text/plain": [
       "array([[ 0.83205029, -0.70710678],\n",
       "       [ 0.5547002 ,  0.70710678]])"
      ]
     },
     "execution_count": 10,
     "metadata": {},
     "output_type": "execute_result"
    }
   ],
   "source": [
    "V2"
   ]
  },
  {
   "cell_type": "code",
   "execution_count": 11,
   "metadata": {
    "school_cell_uuid": "b8176560047d4078938d3c8bb370c661"
   },
   "outputs": [
    {
     "data": {
      "text/plain": [
       "array([[ 0.72111026,  0.72111026],\n",
       "       [-0.56568542,  0.84852814]])"
      ]
     },
     "execution_count": 11,
     "metadata": {},
     "output_type": "execute_result"
    }
   ],
   "source": [
    "V2_inv = np.linalg.inv(V2)\n",
    "V2_inv"
   ]
  },
  {
   "cell_type": "code",
   "execution_count": 12,
   "metadata": {
    "school_cell_uuid": "7546824d035b4dc69401c912247cac97"
   },
   "outputs": [
    {
     "data": {
      "text/plain": [
       "array([[2., 3.],\n",
       "       [2., 1.]])"
      ]
     },
     "execution_count": 12,
     "metadata": {},
     "output_type": "execute_result"
    }
   ],
   "source": [
    "V2.dot(np.diag(w2)).dot(V2_inv)"
   ]
  },
  {
   "cell_type": "markdown",
   "metadata": {
    "bootstrap": {
     "panel": {
      "class": "panel-default"
     }
    },
    "school_cell_uuid": "d0e0cffb46fe47e395c44c2d8b984de6"
   },
   "source": [
    "#### 연습 문제 5.4.5\n",
    "\n",
    "다음 행렬을 고윳값과 고유벡터로 대각화하라.\n",
    "\n",
    "$$ \n",
    "\\begin{bmatrix}\n",
    "2 & 3 \\\\\n",
    "2 & 1\n",
    "\\end{bmatrix}\n",
    "$$"
   ]
  },
  {
   "cell_type": "markdown",
   "metadata": {
    "bootstrap": {
     "panel": {
      "class": "panel-default"
     }
    },
    "school_cell_uuid": "d0e0cffb46fe47e395c44c2d8b984de6"
   },
   "source": [
    "#### 연습 문제 5.4.6\n",
    "\n",
    "다음 행렬은 고윳값과 고유벡터로 대각화 가능한가?\n",
    "\n",
    "$$ \n",
    "\\begin{bmatrix}\n",
    "1 & 1 \\\\\n",
    "0 & 1\n",
    "\\end{bmatrix}\n",
    "$$"
   ]
  },
  {
   "cell_type": "markdown",
   "metadata": {
    "school_cell_uuid": "7d522509d2bf455cb976b736199d8972"
   },
   "source": [
    "## 대각화가능"
   ]
  },
  {
   "cell_type": "markdown",
   "metadata": {
    "school_cell_uuid": "8b32f1a82b1e46f3b4a42b15976dc1b1"
   },
   "source": [
    "> **행렬이 대각화가능하려면 고유벡터가 선형독립이어야한다.**\n",
    "\n",
    "행렬을 대각화할 수 있으면 **대각화가능(diagonalizable) 행렬**이라고 한다. 앞서 이야기했듯이 고유벡터인 열벡터로 이루어진 행렬에 역행렬이 존재하면 대각화가능이라고 했다. 그런데 앞절에서 정방행렬의 역행렬이 존재할 조건은 정방행렬의 열벡터 즉, 고유벡터들이 선형독립인 경우이다. 따라서 행렬이 대각화가능하려면 고유벡터가 선형독립이어야한다."
   ]
  },
  {
   "cell_type": "markdown",
   "metadata": {
    "school_cell_uuid": "afbfb7de7da64c9fa470ea0a04bc3a40"
   },
   "source": [
    "## 고윳값과 역행렬"
   ]
  },
  {
   "cell_type": "markdown",
   "metadata": {
    "school_cell_uuid": "829842337995410297b8d8a753bb2060"
   },
   "source": [
    "> **대각화가능한 행렬에 0인 고유값이 없으면 항상 역행렬이 존재한다.** \n",
    "\n",
    "이는 다음과 같이 증명할 수 있다.\n",
    "행렬 $A$가 대각화가능하면 다음처럼 표현할 수 있다.\n",
    "\n",
    "$$ A = V\\Lambda V^{-1} $$\n",
    "\n",
    "이 행렬의 역행렬은 다음처럼 계산한다.\n",
    "\n",
    "$$ A^{-1} = (V\\Lambda V^{-1})^{-1} = V \\Lambda^{-1} V^{-1} $$\n",
    "\n",
    "대각행렬의 역행렬은 각 대각성분의 역수로 이루어진 대각행렬이므로 0인 고유값이 없으면 항상 역행렬이 존재한다."
   ]
  },
  {
   "cell_type": "markdown",
   "metadata": {
    "bootstrap": {
     "panel": {
      "class": "panel-default"
     }
    },
    "school_cell_uuid": "d0e0cffb46fe47e395c44c2d8b984de6"
   },
   "source": [
    "#### 연습 문제 5.4.7\n",
    "\n",
    "다음 행렬\n",
    "\n",
    "$$ \n",
    "\\begin{bmatrix}\n",
    "2 & 3 \\\\\n",
    "2 & 1\n",
    "\\end{bmatrix}\n",
    "$$\n",
    "\n",
    "의 고윳값과 고유벡터는 다음과 같다. 이 정보를 이용하여 역행렬을 계산하라.\n",
    "\n",
    "$$ \n",
    "\\lambda_1 = 4, \\;\\;\n",
    "v_1 = \n",
    "\\begin{bmatrix}\n",
    "\\dfrac{3}{\\sqrt{13}} \\\\\n",
    "\\dfrac{2}{\\sqrt{13}}\n",
    "\\end{bmatrix}\n",
    "$$\n",
    "\n",
    "$$ \n",
    "\\lambda_2 = -1, \\;\\;\n",
    "v_2 = \\begin{bmatrix}\n",
    "-\\dfrac{1}{\\sqrt{2}} \\\\\n",
    "\\dfrac{1}{\\sqrt{2}}\n",
    "\\end{bmatrix}\n",
    "$$"
   ]
  },
  {
   "cell_type": "markdown",
   "metadata": {
    "school_cell_uuid": "b37b21172d17401bae344f7371c25306"
   },
   "source": [
    "## 대칭행렬의 고유분해"
   ]
  },
  {
   "cell_type": "markdown",
   "metadata": {
    "school_cell_uuid": "db41d81a59f74e8ab1d80bfd07126766"
   },
   "source": [
    "**행렬 $A$가 실수인 대칭행렬**이면 \n",
    "\n",
    "> **고유값이 실수이고 고유벡터는 직교(orthogonal)한다.**\n",
    "\n",
    "우리는 실수로 이루어진 행렬만을 다룰 것이므로 앞으로는 따로 언급하지 않더라도 항상 행렬의 원소가 실수라고 가정한다. 이 때 증명은 다음과 같다."
   ]
  },
  {
   "cell_type": "markdown",
   "metadata": {
    "school_cell_uuid": "7a39a3de42e4483dab9868f0b9c0136a"
   },
   "source": [
    "행렬 $A$의 고유값과 고유벡터의 관계\n",
    "\n",
    "$$\n",
    "Av = \\lambda v\n",
    "$$\n",
    "\n",
    "의 양변에 고유벡터의 켤레 복소수(complex conjugate) $v^{\\ast}$를 곱하면,\n",
    "\n",
    "$$\n",
    "(v^{\\ast})^T Av = \\lambda (v^{\\ast})^T v\n",
    "$$\n",
    "\n",
    "이 되고 원래의 식을 켤레 복소수로 만든 후 \n",
    "\n",
    "$$\n",
    "(Av)^{\\ast} = (\\lambda v)^{\\ast}\n",
    "$$\n",
    "\n",
    "$$\n",
    "Av^{\\ast} = \\lambda^{\\ast} v^{\\ast}\n",
    "$$\n",
    "\n",
    "$v^T$를 곱하면\n",
    "\n",
    "$$\n",
    "v^T A v^{\\ast} = \\lambda^{\\ast} v^T v^{\\ast}\n",
    "$$\n",
    "\n",
    "가 된다.\n",
    "\n",
    "$$\n",
    "(v^{\\ast})^T Av = v^T A v^{\\ast}, \\;\\;\\;\n",
    "(v^{\\ast})^T v = v^T v^{\\ast}\n",
    "$$\n",
    "\n",
    "에서 \n",
    "\n",
    "$$\n",
    "\\lambda^{\\ast} = \\lambda\n",
    "$$\n",
    "\n",
    "이다. 즉, 고유값은 실수이다."
   ]
  },
  {
   "cell_type": "markdown",
   "metadata": {
    "school_cell_uuid": "5ea631b43bcd4615b3b37764136e5fad"
   },
   "source": [
    "고유벡터가 직교한다는 것은 다음과 같이 증명한다. 두 고윳값 $\\lambda_i$, $\\lambda_j$에 대응하는 고유벡터 $u_i$, $u_j$를 생각하자.\n",
    "\n",
    "$$\n",
    "\\begin{eqnarray}\n",
    "\\lambda_i u_i^T u_j \n",
    "&=& (u_i^T A) u_j \\\\\n",
    "&=& u_i^T (A u_j )\\\\\n",
    "&=& u_i^T (\\lambda_j u_j) \\\\\n",
    "&=& \\lambda_j u_i^T u_j \\\\\n",
    "(\\lambda_i - \\lambda_j) u_i^T u_j &=& 0\n",
    "\\end{eqnarray}\n",
    "$$\n",
    "\n",
    "만약 고윳값이 서로 다르면($\\lambda_i \\neq \\lambda_j$) 두 고유벡터는 직교한다. 만약 고윳값이 같다면 $u_i$와 $u_j$는 고윳값이 같은 두 고유벡터이고 이 두 벡터의 선형조합 $c_1u_i + c_2u_j$도 $\\lambda_i$의 고유벡터가 되므로 직교하는 고유벡터 두개를 선택할 수 있다."
   ]
  },
  {
   "cell_type": "markdown",
   "metadata": {
    "school_cell_uuid": "066f7f4d337e498ead6e6ce505c22988"
   },
   "source": [
    "고유벡터가 크기 1이 되도록 정규화된 상태라면 고유벡터 행렬 $V$는 정규직교(orthonormal) 행렬이므로 **전치행렬이 역행렬**이다. 따라서 대칭행렬은 항상 대각화가능하다.\n",
    "\n",
    "$$ V^T V = V V^T = I$$\n",
    "\n",
    "$$ V^{-1} = V^T $$\n",
    "\n",
    "따라서 위 정리는 다음처럼 쓸 수 있다.\n",
    "\n",
    "> **대칭행렬은 항상 대각화가능**하다."
   ]
  },
  {
   "cell_type": "markdown",
   "metadata": {
    "school_cell_uuid": "077df5c999be4e5f94bdbb56e9f67648"
   },
   "source": [
    "## 대칭행렬을 랭크-1 행렬의 합으로 분해"
   ]
  },
  {
   "cell_type": "markdown",
   "metadata": {
    "school_cell_uuid": "50a5a7ab603a4d9ab54a2c09167f4dc2"
   },
   "source": [
    "$N$차원 대칭행렬 $A$는 다음처럼 $N$개의 랭크-1 행렬 $A_i = v_i v_i^T$ 의 합으로 표시할 수 있다.\n",
    "\n",
    "$$ \n",
    "\\begin{eqnarray}\n",
    "A \n",
    "&=& V\\Lambda V^T \\\\\n",
    "&=& \n",
    "\\begin{bmatrix}\n",
    "v_1 & v_2 & \\cdots & v_N\n",
    "\\end{bmatrix}\n",
    "\\begin{bmatrix}\n",
    "\\lambda_{1} & 0 & \\cdots & 0 \\\\\n",
    "0 & \\lambda_{2} & \\cdots & 0 \\\\\n",
    "\\vdots & \\vdots & \\ddots & \\vdots \\\\\n",
    "0 & 0 & \\cdots & \\lambda_{N} \\\\\n",
    "\\end{bmatrix}\n",
    "\\begin{bmatrix}\n",
    "v_1^T \\\\ v_2^T \\\\ \\vdots \\\\ v_N^T\n",
    "\\end{bmatrix} \\\\\n",
    "&=&\n",
    "\\begin{bmatrix}\n",
    "\\lambda_{1}v_1 & \\lambda_{2}v_2 & \\cdots & \\lambda_{N}v_N\n",
    "\\end{bmatrix}\n",
    "\\begin{bmatrix}\n",
    "v_1^T \\\\ v_2^T \\\\ \\vdots \\\\ v_N^T\n",
    "\\end{bmatrix} \\\\\n",
    "&=&\n",
    "\\sum_{i=1}^{N} {\\lambda_i} v_i v_i^T \\\\\n",
    "&=&\n",
    "\\sum_{i=1}^{N} {\\lambda_i} A_i  \\\\\n",
    "&=& \\lambda_1 A_1 + \\cdots + \\lambda_N A_N \n",
    "\\end{eqnarray}\n",
    "$$"
   ]
  },
  {
   "cell_type": "markdown",
   "metadata": {
    "school_cell_uuid": "345701b98144409f8bc77a658d6a06c5"
   },
   "source": [
    "예를 들어 대칭행렬\n",
    "\n",
    "$$ \n",
    "\\begin{bmatrix}\n",
    "60 & 30 & 20 \\\\\n",
    "30 & 20 & 15 \\\\\n",
    "20 & 15 & 12 \\\\\n",
    "\\end{bmatrix}\n",
    "$$\n",
    "\n",
    "를 NumPy를 사용하여 다음처럼 두 개의 랭크-1 행렬로 나눌 수 있다."
   ]
  },
  {
   "cell_type": "code",
   "execution_count": 13,
   "metadata": {
    "school_cell_uuid": "04c386f0932e4cfeb63e075cad3cc611"
   },
   "outputs": [],
   "source": [
    "A = np.array([[60., 30., 20.],\n",
    "              [30., 20., 15.],\n",
    "              [20., 15., 12.]])\n",
    "\n",
    "w, V = np.linalg.eig(A)\n",
    "w1, w2, w3 = w\n",
    "v1 = V[:, 0:1]\n",
    "v2 = V[:, 1:2]\n",
    "v3 = V[:, 2:3]\n",
    "A1 = v1.dot(v1.T)\n",
    "A2 = v2.dot(v2.T)\n",
    "A3 = v3.dot(v3.T)"
   ]
  },
  {
   "cell_type": "code",
   "execution_count": 14,
   "metadata": {
    "school_cell_uuid": "9bd1b59a38c5443dbca9461ad6a1fe92"
   },
   "outputs": [
    {
     "data": {
      "text/plain": [
       "array([84.49913563,  7.33962395,  0.16124042])"
      ]
     },
     "execution_count": 14,
     "metadata": {},
     "output_type": "execute_result"
    }
   ],
   "source": [
    "w"
   ]
  },
  {
   "cell_type": "code",
   "execution_count": 15,
   "metadata": {
    "school_cell_uuid": "ea91e3254fa140adb5a1084bf052a0ff"
   },
   "outputs": [
    {
     "data": {
      "text/plain": [
       "array([[57.79768857, 32.13739648, 22.59357583],\n",
       "       [32.13739648, 17.8694387 , 12.56276371],\n",
       "       [22.59357583, 12.56276371,  8.83200836]])"
      ]
     },
     "execution_count": 15,
     "metadata": {},
     "output_type": "execute_result"
    }
   ],
   "source": [
    "w1 * A1"
   ]
  },
  {
   "cell_type": "code",
   "execution_count": 16,
   "metadata": {
    "school_cell_uuid": "5d634c146067490bb06f3deb5d3eed94"
   },
   "outputs": [
    {
     "data": {
      "text/plain": [
       "array([[ 2.19968372, -2.12270483, -2.60775134],\n",
       "       [-2.12270483,  2.04841985,  2.51649195],\n",
       "       [-2.60775134,  2.51649195,  3.09152039]])"
      ]
     },
     "execution_count": 16,
     "metadata": {},
     "output_type": "execute_result"
    }
   ],
   "source": [
    "w2 * A2"
   ]
  },
  {
   "cell_type": "code",
   "execution_count": 17,
   "metadata": {
    "school_cell_uuid": "59b77612c87a4c7fb77befc5b2ccba96"
   },
   "outputs": [
    {
     "data": {
      "text/plain": [
       "array([[ 0.00262772, -0.01469165,  0.01417551],\n",
       "       [-0.01469165,  0.08214145, -0.07925566],\n",
       "       [ 0.01417551, -0.07925566,  0.07647125]])"
      ]
     },
     "execution_count": 17,
     "metadata": {},
     "output_type": "execute_result"
    }
   ],
   "source": [
    "w3 * A3"
   ]
  },
  {
   "cell_type": "code",
   "execution_count": 18,
   "metadata": {
    "school_cell_uuid": "bc79234fc63d4ef5a39b7a1a92c78b7b"
   },
   "outputs": [
    {
     "data": {
      "text/plain": [
       "array([[60., 30., 20.],\n",
       "       [30., 20., 15.],\n",
       "       [20., 15., 12.]])"
      ]
     },
     "execution_count": 18,
     "metadata": {},
     "output_type": "execute_result"
    }
   ],
   "source": [
    "w1 * A1 + w2 * A2 + w3 * A3"
   ]
  },
  {
   "cell_type": "markdown",
   "metadata": {
    "school_cell_uuid": "194ee5f7d7e148ec84d74d38250eb3c4"
   },
   "source": [
    "**만약 0인 고윳값이 없다면** 역행렬도 다음처럼  $N$개의 랭크-1 행렬 $A_i = v_i v_i^T$ 의 합으로 표시할 수 있다.\n",
    "\n",
    "$$ A^{-1} = V \\Lambda^{-1} V^T = \\sum_{i=1}^{N} \\dfrac{1}{\\lambda_i} v_i v_i^T = \\dfrac{1}{\\lambda_1} A_1 + \\cdots + \\dfrac{1}{\\lambda_N} A_N $$\n",
    "\n",
    "앞에서 예로 든 대칭행렬의 역행렬도 다음처럼 랭크-1 행렬의 합으로 나타난다."
   ]
  },
  {
   "cell_type": "code",
   "execution_count": 19,
   "metadata": {
    "school_cell_uuid": "936efdd7d29045068b2d7154814ae1e9"
   },
   "outputs": [
    {
     "data": {
      "text/plain": [
       "array([[ 0.15, -0.6 ,  0.5 ],\n",
       "       [-0.6 ,  3.2 , -3.  ],\n",
       "       [ 0.5 , -3.  ,  3.  ]])"
      ]
     },
     "execution_count": 19,
     "metadata": {},
     "output_type": "execute_result"
    }
   ],
   "source": [
    "np.linalg.inv(A)"
   ]
  },
  {
   "cell_type": "code",
   "execution_count": 20,
   "metadata": {
    "school_cell_uuid": "ea91e3254fa140adb5a1084bf052a0ff"
   },
   "outputs": [
    {
     "data": {
      "text/plain": [
       "array([[0.0080948 , 0.00450097, 0.00316432],\n",
       "       [0.00450097, 0.00250269, 0.00175947],\n",
       "       [0.00316432, 0.00175947, 0.00123696]])"
      ]
     },
     "execution_count": 20,
     "metadata": {},
     "output_type": "execute_result"
    }
   ],
   "source": [
    "1 / w1 * A1"
   ]
  },
  {
   "cell_type": "code",
   "execution_count": 21,
   "metadata": {
    "school_cell_uuid": "d345c1f999f547418e3fdc0544baeb20"
   },
   "outputs": [
    {
     "data": {
      "text/plain": [
       "array([[ 0.04083313, -0.03940415, -0.04840816],\n",
       "       [-0.03940415,  0.03802519,  0.04671409],\n",
       "       [-0.04840816,  0.04671409,  0.05738845]])"
      ]
     },
     "execution_count": 21,
     "metadata": {},
     "output_type": "execute_result"
    }
   ],
   "source": [
    "1 / w2 * A2"
   ]
  },
  {
   "cell_type": "code",
   "execution_count": 22,
   "metadata": {
    "school_cell_uuid": "4138eb812e7b48b4a4dca21b334a8fa9"
   },
   "outputs": [
    {
     "data": {
      "text/plain": [
       "array([[ 0.10107208, -0.56509682,  0.54524384],\n",
       "       [-0.56509682,  3.15947213, -3.04847356],\n",
       "       [ 0.54524384, -3.04847356,  2.94137459]])"
      ]
     },
     "execution_count": 22,
     "metadata": {},
     "output_type": "execute_result"
    }
   ],
   "source": [
    "1 / w3 * A3"
   ]
  },
  {
   "cell_type": "code",
   "execution_count": 23,
   "metadata": {
    "school_cell_uuid": "bc79234fc63d4ef5a39b7a1a92c78b7b"
   },
   "outputs": [
    {
     "data": {
      "text/plain": [
       "array([[ 0.15, -0.6 ,  0.5 ],\n",
       "       [-0.6 ,  3.2 , -3.  ],\n",
       "       [ 0.5 , -3.  ,  3.  ]])"
      ]
     },
     "execution_count": 23,
     "metadata": {},
     "output_type": "execute_result"
    }
   ],
   "source": [
    "1 / w1 * A1 + 1 / w2 * A2 + 1 / w3 * A3"
   ]
  },
  {
   "cell_type": "markdown",
   "metadata": {
    "school_cell_uuid": "68d1264bd03d4c1b87d2bd7014f6c215"
   },
   "source": [
    "## 대칭행렬의 간략화"
   ]
  },
  {
   "cell_type": "markdown",
   "metadata": {
    "school_cell_uuid": "2b26e1e24c9541ac8448da56242ab9e5"
   },
   "source": [
    "대칭행렬을 랭크-1 행렬의 합으로 분해할 때 각 랭크-1 행렬 $A_i$는 모두 단위벡터인 고유벡터로 만들어진 행렬이므로 행렬의 놈이 1이다.\n",
    "하지만 고유값은 아주 큰 값부터 작은 값까지 다양하게 나타날 수 있다. 따라서 다음처럼 고유값이 작은 항을 몇 개 생략해도 원래의 행렬과 큰 차이가 나지 않을 수 있다. \n",
    "\n",
    "$$ \n",
    "\\begin{eqnarray}\n",
    "A \n",
    "&=&  \\lambda_1 A_1 + \\cdots + \\lambda_{N} A_{N} \\;\\; ( \\lambda_1 > \\cdots > \\lambda_N )\\\\\n",
    "&\\approx& \\lambda_1 A_1 + \\cdots + \\lambda_{M} A_{M} \\;\\; ( N > M )\n",
    "\\end{eqnarray}\n",
    "$$"
   ]
  },
  {
   "cell_type": "markdown",
   "metadata": {
    "school_cell_uuid": "8d33e604a1ab4d7ebb701d9f416d6173"
   },
   "source": [
    "앞서 예로 사용한 행렬은 84.49913563,  7.33962395,  0.16124042, 이렇게 3개의 고윳값을 가진다. 이중 가장 작은 고윳값을 생략해도 행렬은 크게 달라지지 않는다."
   ]
  },
  {
   "cell_type": "code",
   "execution_count": 24,
   "metadata": {
    "school_cell_uuid": "8ffd1f8f7ab74e1c8c34e67925e9a14c"
   },
   "outputs": [
    {
     "data": {
      "text/plain": [
       "array([[60., 30., 20.],\n",
       "       [30., 20., 15.],\n",
       "       [20., 15., 12.]])"
      ]
     },
     "execution_count": 24,
     "metadata": {},
     "output_type": "execute_result"
    }
   ],
   "source": [
    "w1 * A1 + w2 * A2 + w3 * A3  # A"
   ]
  },
  {
   "cell_type": "code",
   "execution_count": 25,
   "metadata": {
    "school_cell_uuid": "da871299332e4dabae165851fbbb494a"
   },
   "outputs": [
    {
     "data": {
      "text/plain": [
       "array([[59.99737228, 30.01469165, 19.98582449],\n",
       "       [30.01469165, 19.91785855, 15.07925566],\n",
       "       [19.98582449, 15.07925566, 11.92352875]])"
      ]
     },
     "execution_count": 25,
     "metadata": {},
     "output_type": "execute_result"
    }
   ],
   "source": [
    "w1 * A1 + w2 * A2"
   ]
  },
  {
   "cell_type": "markdown",
   "metadata": {
    "school_cell_uuid": "ba6668a86edd4192b50f49c70d33613f"
   },
   "source": [
    "<img src=\"https://datascienceschool.net/upfiles/f0846c666dec4ec7bc35d58c3065951f.png\" width=\"100%\">"
   ]
  },
  {
   "cell_type": "markdown",
   "metadata": {
    "school_cell_uuid": "796ec47e21e843e298bf3a5259d9fdf5",
    "sidetitle": true
   },
   "source": [
    "그림 5.4.2 : 대칭행렬에 대한 고윳값-고유벡터의 성질"
   ]
  },
  {
   "cell_type": "markdown",
   "metadata": {
    "school_cell_uuid": "cfed448867ea4b61b7bde9791999a2db"
   },
   "source": [
    "## 공분산행렬"
   ]
  },
  {
   "cell_type": "markdown",
   "metadata": {
    "school_cell_uuid": "ae44f2447b904d96aeda89d873ff3de7"
   },
   "source": [
    "임의의 실수 행렬 $X$에 대해 $X^TX$인 정방행렬을 **공분산행렬(covariance matrix)**이라고 한다. 공분산행렬의 의미는 확률 분포에서 더 자세하게 공부하게 될 것이며 일단 여기에서는 위와 같은 방법으로 계산되는 행렬을 가리키는 명칭이라는 것만 알면 충분하다. \n",
    "\n",
    "> **공분산행렬은 양의 준정부호(positive semidefinite)**이다. 즉 음수인 고윳값은 없다.\n",
    "\n",
    "이는 다음과 같이 증명한다.\n",
    "\n",
    "$$ v^T(X^TX)v = (Xv)^T(Xv) = u^Tu \\geq 0 $$\n",
    "\n",
    "즉, 모든 벡터 $v$에 대해 공분산행렬에 대한 이차형식은 어떤 벡터의 제곱합이 된다. 따라서 0또는 양수인 고윳값만 가진다."
   ]
  },
  {
   "cell_type": "markdown",
   "metadata": {
    "bootstrap": {
     "panel": {
      "class": "panel-default"
     }
    },
    "school_cell_uuid": "6f9b8cfbbafc4a8fb82f7443031ae967"
   },
   "source": [
    "#### 연습 문제 5.4.8\n",
    "\n",
    "1. 붓꽃(Iris) 특징데이터 행렬 $X$의 공분산행렬을 구하고 이 공분산행렬의 고윳값들을 구하라.\n",
    "1. 보스턴 집값(Boston House Price) 특징데이터 행렬 $X$의 공분산행렬을 구하고 이 공분산행렬의 고윳값들을 구하라."
   ]
  },
  {
   "cell_type": "markdown",
   "metadata": {
    "school_cell_uuid": "c064f8299d6b4787837cf98a7161a37e"
   },
   "source": [
    "<img src=\"https://datascienceschool.net/upfiles/70813930c2f94db685963f14898b870c.png\" width=\"100%\">"
   ]
  },
  {
   "cell_type": "markdown",
   "metadata": {
    "school_cell_uuid": "b1a19a7fe64348caaedbee122b33ea52",
    "sidetitle": true
   },
   "source": [
    "그림 5.4.3 : 공분산 행렬에 대한 고윳값-고유벡터의 성질"
   ]
  },
  {
   "cell_type": "markdown",
   "metadata": {
    "school_cell_uuid": "9a3f12194b964755a9d5dd4b6f2a285f"
   },
   "source": [
    "## 고윳값과 양의 정부호"
   ]
  },
  {
   "cell_type": "markdown",
   "metadata": {
    "school_cell_uuid": "7e3b494da8ec41ebb9c4de825421141c"
   },
   "source": [
    "대칭행렬의 경우에 다음 성질이 성립한다.\n",
    "\n",
    "> **대칭행렬의 고윳값이 모두 양수이면 그 행렬은 양의 정부호(positive definite)이다.**\n",
    "\n",
    "> **역으로 양의 정부호(positive definite)인 대칭행렬의 고윳값은 항상 양수이다.**\n",
    "\n",
    "우선 대칭행렬의 고윳값이 모두 양수이면 그 행렬은 양의 정부호(positive definite)가 됨을 증명하자. 일단 다음처럼 고유분해로 만들어진 행렬 $A_i = v_iv_i^T$는 양의 준정부호(positive semidefinite)임을 증명할 수 있다. \n",
    "\n",
    "$$ x^T A_i x = x^T v_iv_i^T x = (x^T v_i)(x^T v_i)^T = (x^T v_i)(x^T v_i) = \\vert x^T v_i \\vert ^2 \\geq 0 $$\n",
    "\n",
    "이 식에서 $x$가 $v_i$와 수직(orthogonal)인 경우에만 0이 된다는 것을 알 수 있다.\n",
    "여기에 양수인 고윳값을 곱한 행렬 $\\lambda_i A_i$도 마찬가지로 양의 준정부호(positive semidefinite)이다.\n",
    "이러한 행렬 $\\lambda_i A_i$를 모두 더한 행렬 $\\lambda_1 A_1 + \\cdots + \\lambda_N A_N$은 양의 정부호(positive definite)이다. \n",
    "\n",
    "$$ \n",
    "\\begin{eqnarray}\n",
    "A \n",
    "&=& \\lambda_1 A_1 + \\cdots + \\lambda_N A_N \\\\\n",
    "&=& \\vert x^T v_1\\vert ^2 + \\cdots + \\vert x^T v_N\\vert ^2 > 0 \\\\\n",
    "\\end{eqnarray}\n",
    "$$\n",
    "\n",
    "왜나하면 이 값이 0이려면 모든 $x^T v_i$가 0, 다시 말해 $x$와 모든 $v_i$가 직교해야 하는데 대칭행렬의 고유벡터의 집합은 $N$ 차원에서 기저벡터를 이루기 때문에 동시에 모든 기저벡터와 수직인 벡터는 존재하지 않기 때문이다.\n",
    "\n",
    "역으로 양의 정부호(positive definite)인 대칭행렬의 고윳값은 항상 양수이다. 만약 0이나 음수인 고윳값 $\\lambda \\leq 0$가 존재한다면 다음처럼 이차 형식이 양수가 아닐 수 있기 때문이다.\n",
    "\n",
    "$$ v_i^T A v_i = v_i^T \\lambda_i v_i = \\lambda_i v_i^T v_i \\leq 0 $$"
   ]
  },
  {
   "cell_type": "markdown",
   "metadata": {
    "school_cell_uuid": "0e04c7a2d32f4d8d952383cee18ae119"
   },
   "source": [
    "## 공분산행렬의 역행렬"
   ]
  },
  {
   "cell_type": "markdown",
   "metadata": {
    "school_cell_uuid": "7e47425541114b0aad1931fa3b49ca58"
   },
   "source": [
    "공분산행렬에서는 다음 성질이 성립한다.\n",
    "\n",
    "> **행렬 $X$가 풀랭크이면 이 행렬의 공분산행렬 $X^TX$의 역행렬이 존재한다.**\n",
    "\n",
    "행렬 $X$가 풀랭크이면 $X$의 열벡터가 기저벡터를 이루기 때문에 영벡터가 아닌 모든 벡터 $v$에 대해 $Xv=u$는 영벡터가 될 수 없다. (만약 영벡터 $u$를 만드는 영벡터가 아닌 $v$가 존재한다면 서로 독립이 아니다.) 그러면 $X^TX$의 이차형식은 항상 양수가 된다.\n",
    "\n",
    "$$ v^T(X^TX)v = (Xv)^T(Xv) = u^Tu > 0 $$\n",
    "\n",
    "따라서 공분산행렬은 양의 정부호이고 역행렬이 존재한다."
   ]
  },
  {
   "cell_type": "markdown",
   "metadata": {
    "bootstrap": {
     "panel": {
      "class": "panel-default"
     }
    },
    "school_cell_uuid": "6f9b8cfbbafc4a8fb82f7443031ae967"
   },
   "source": [
    "#### 연습 문제 5.4.9\n",
    "\n",
    "1. 양의 정부호인 대칭행렬은 항상 역행렬이 존재하는가?\n",
    "2. 역으로 역행렬이 존재하는 대칭행렬은 항상 양의 정부호인가?\n",
    "\n"
   ]
  },
  {
   "cell_type": "markdown",
   "metadata": {
    "school_cell_uuid": "455fd9020e9d4ebb9663392452ec32bc"
   },
   "source": [
    "<img src=\"https://datascienceschool.net/upfiles/6860248c3d3f4258b7dc297c869c6cea.png\" width=\"100%\">"
   ]
  },
  {
   "cell_type": "markdown",
   "metadata": {
    "school_cell_uuid": "81e8c4704033442fa1e45dedd53a7bde",
    "sidetitle": true
   },
   "source": [
    "그림 5.4.4 : 양의 정부호 행렬에 대한 고윳값-고유벡터의 성질"
   ]
  },
  {
   "cell_type": "markdown",
   "metadata": {
    "school_cell_uuid": "59bc5a85f0d441149c64759573505c40"
   },
   "source": [
    "## 정리: 고유분해의 성질"
   ]
  },
  {
   "cell_type": "markdown",
   "metadata": {
    "school_cell_uuid": "4423813d99004cf3977644b579c3354b"
   },
   "source": [
    "지금까지 나왔던 고유분해와 관련된 성질들을 정리하였다. 이 성질들은 데이터 분석에서 자주 사용되므로 반드시 외워야 한다. \n",
    "\n",
    "$N$차원 정방행렬 $A$에 대해 다음 성질이 성립한다.\n",
    "\n",
    "1. 행렬 $A$는 $N$개의 고윳값-고유벡터를 가진다. (복소수인 경우와 중복인 경우를 포함)\n",
    "2. 행렬의 **대각합은 모든 고윳값의 합**과 같다.\n",
    "3. 행렬의 **행렬식은 모든 고윳값의 곱**과 같다.\n",
    "4. 행렬 $A$가 **대칭행렬**이면 $N$개의 **실수 고윳값**을 가지며 고유벡터들이 서로 **수직(orthogonal)**이다.\n",
    "5. 행렬 $A$가 **대칭행렬**이고 고윳값이 모두 **양수**이면 **양의 정부호(positive-definite)이고 역행렬이 존재한다**. 역도 성립한다.\n",
    "6. 행렬 $A$가 어떤 행렬 $X$의 **공분산행렬** $X^TX$이면 **0 또는 양의 고윳값을 가진다**.\n",
    "7. 행렬 $X$가 **풀랭크이면 공분산행렬 $X^TX$은 역행렬이 존재**한다.\n"
   ]
  }
 ],
 "metadata": {
  "celltoolbar": "Edit Metadata",
  "kernelspec": {
   "display_name": "Python 3",
   "language": "python",
   "name": "python3"
  },
  "language_info": {
   "codemirror_mode": {
    "name": "ipython",
    "version": 3
   },
   "file_extension": ".py",
   "mimetype": "text/x-python",
   "name": "python",
   "nbconvert_exporter": "python",
   "pygments_lexer": "ipython3",
   "version": "3.6.5"
  },
  "toc": {
   "base_numbering": 1,
   "nav_menu": {},
   "number_sections": false,
   "sideBar": true,
   "skip_h1_title": false,
   "title_cell": "Table of Contents",
   "title_sidebar": "Contents",
   "toc_cell": false,
   "toc_position": {},
   "toc_section_display": true,
   "toc_window_display": false
  }
 },
 "nbformat": 4,
 "nbformat_minor": 1
}