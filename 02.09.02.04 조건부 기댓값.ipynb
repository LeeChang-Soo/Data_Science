{
 "cells": [
  {
   "cell_type": "markdown",
   "metadata": {
    "school_cell_uuid": "8dfa6d533a0a4d478326b5c2c4eb1d0f"
   },
   "source": [
    "# 조건부 기댓값"
   ]
  },
  {
   "cell_type": "markdown",
   "metadata": {
    "school_cell_uuid": "c452084410a74f959a1d0ca45205f536"
   },
   "source": [
    "확률변수 $Y$의 기댓값을 구할 때 주변 확률밀도함수 $f_Y(y)$를 사용하여 가중치를 계산하지 않고 조건부 확률밀도함수 $f_{Y\\vert X}(y|x)$를 이용하여 가중치를 계산하면 **조건부 기댓값(conditional expectation)** 혹은 **조건부 평균(conditional mean)**이 된다.\n",
    "\n",
    "$$ \n",
    "\\text{E}_Y[Y \\vert X] \n",
    "= \\int_{y=-\\infty}^{y=\\infty} y \\, f_{Y \\vert X}(y|x) dy \n",
    "$$\n",
    "\n",
    "또는 간단히 다음처럼 쓴다.\n",
    "\n",
    "$$ \n",
    "\\text{E}[Y \\vert X] \n",
    "= \\int y \\, f(y|x) dy \n",
    "$$\n",
    "\n",
    "조건부 기댓값에서 조건이 되는 확률변수 $X$의 값 $x$는 조건부 기댓값을 사용하는 사용자가 지정해야 하는 독립변수이다. 그리고 **조건부 기댓값은 조건이 되는 확률변수의 값에 따라서 분포가 달라지는 확률변수**이다. $\\text{E}[Y \\vert X]$는 조건이 되는 확률변수의 값을 독립변수(입력변수)로 가지는 **함수**이다.\n",
    "\n",
    "$$ \n",
    "\\text{E}[Y \\vert X=x] \n",
    "= h(x) \n",
    "$$\n",
    "\n",
    "또는 간단히 다름처럼 쓴다.\n",
    "\n",
    "$$ \n",
    "\\text{E}[Y \\vert X] = h(X) \n",
    "$$\n",
    "\n",
    "\n",
    "$h(x)$는 조건이 되는 확률변수 $X$의 값을 입력받아서 결과가 되는 확률변수 $Y$의 기댓값을 출력하는 함수이다. \n",
    "\n",
    "조건부 기댓값 $\\text{E}[Y \\vert X]$가 $X$의 함수, 즉 변환(transform)이므로 **조건부 기댓값 $\\text{E}[Y \\vert X]$도 확률변수**이다."
   ]
  },
  {
   "cell_type": "markdown",
   "metadata": {
    "school_cell_uuid": "205aefcca33e4acc9204bb8c3fe78f41"
   },
   "source": [
    "만약 확률변수 $Y$가 확률변수 $X$의 값을 독립변수로 하는 결정론적 함수값이라면 \n",
    "\n",
    "$$ Y = g(X) $$\n",
    "\n",
    "사용자가 $X$의 값을 어떤 값$x$로 정하는 순간 $Y$의 값도 결정되어 버리기 때문에 $Y=g(X)$는 더이상 확률적인 값이 아니라 상수가 되어 버린다.\n",
    "\n",
    "$$ \\text{E}[Y \\vert X] = \\text{E}[g(X) \\vert X] = g(X) $$"
   ]
  },
  {
   "cell_type": "markdown",
   "metadata": {
    "school_cell_uuid": "e05cae46b1f741a59749eae86af0dab6"
   },
   "source": [
    "같은 방식으로 확률변수 $X$와 $Y$가 결정론적 함수 관계가 아닐 때도 다음 등식이 성립한다.\n",
    "\n",
    "$$ \\text{E}[g(X) Y \\vert X] = g(X) \\text{E}[Y \\vert X] $$"
   ]
  },
  {
   "cell_type": "markdown",
   "metadata": {
    "school_cell_uuid": "512e47d7b8444583a82b9a9aeaebec73"
   },
   "source": [
    "## 전체 기댓값의 법칙"
   ]
  },
  {
   "cell_type": "markdown",
   "metadata": {
    "school_cell_uuid": "e438487a00754aceb1da376e5ac39ce7"
   },
   "source": [
    "조건부 기댓값은 여전히 확률변수이므로 조건이 되는 확률변수에 대해 다시 기댓값을 구할 수 있다. 이렇게 반복하여 구한 조건부 기댓값의 기댓값은 원래 확률변수의 보통 기댓값과 같다.\n",
    "\n",
    "$$ \\text{E}_X[\\text{E}_Y[Y \\vert X]] = \\text{E}_Y[Y]  $$\n",
    "\n",
    "또는 간단히 다음처럼 쓴다.\n",
    "\n",
    "$$ \\text{E}[\\text{E}[Y \\vert X]] = \\text{E}[Y]  $$\n",
    "\n",
    "이를 **전체 기댓값의 법칙(law of total expectaion)** 또는 **반복 기댓값의 법칙(law of iterated expectation)**이라고 하며 전체 확률의 법칙에서 증명할 수 있다."
   ]
  },
  {
   "cell_type": "markdown",
   "metadata": {
    "bootstrap": {
     "panel": {
      "class": "panel-default"
     }
    },
    "school_cell_uuid": "d3271586a7d34258b32f759d79ef870b"
   },
   "source": [
    "#### 연습 문제 1\n",
    "\n",
    "전체 기댓값의 법칙을 사용하여 다음을 증명하라.\n",
    "\n",
    "$$ \\text{E}[(Y - \\text{E}[Y \\vert X])g(X)] = 0 $$"
   ]
  },
  {
   "cell_type": "markdown",
   "metadata": {
    "school_cell_uuid": "d7b4babe59fe43df912da67fb57fe63a"
   },
   "source": [
    "## 조건부 분산"
   ]
  },
  {
   "cell_type": "markdown",
   "metadata": {
    "school_cell_uuid": "824f7fce12ed40e28ef3386959056844"
   },
   "source": [
    "조건부 기댓값을 정의한 것처럼 조건부 분산(conditional variance)도 다음처럼 정의할 수 있다.\n",
    "\n",
    "$$ \n",
    "\\text{Var}_Y[Y \\vert X] \n",
    "= \\text{E}_Y[(Y - \\text{E}_Y[Y \\vert X])^2 \\vert X] \n",
    "= \\int (Y - \\text{E}_Y[Y \\vert X])^2 f_{Y \\vert X}(y \\vert x) dy \n",
    "$$"
   ]
  },
  {
   "cell_type": "markdown",
   "metadata": {
    "school_cell_uuid": "28778b4eebb742bda9f2d209a36aaec5"
   },
   "source": [
    "## 전체 분산의 법칙"
   ]
  },
  {
   "cell_type": "markdown",
   "metadata": {
    "school_cell_uuid": "82470bf6e82b448cb57946a71575b681"
   },
   "source": [
    "확률변수의 분산은 조건부 분산의 기댓값과 조건부 기댓값의 분산의 합과 같다. 이를 **전체 분산의 법칙(law of total variance)**라고 한다.\n",
    "\n",
    "$$ \\text{Var}[Y] = \\text{E}[\\text{Var}[Y\\vert X]] + \\text{Var}[\\text{E}[Y\\vert X]] $$"
   ]
  }
 ],
 "metadata": {
  "kernelspec": {
   "display_name": "Python 3",
   "language": "python",
   "name": "python3"
  },
  "language_info": {
   "codemirror_mode": {
    "name": "ipython",
    "version": 3
   },
   "file_extension": ".py",
   "mimetype": "text/x-python",
   "name": "python",
   "nbconvert_exporter": "python",
   "pygments_lexer": "ipython3",
   "version": "3.6.6"
  },
  "toc": {
   "base_numbering": 1,
   "nav_menu": {},
   "number_sections": false,
   "sideBar": true,
   "skip_h1_title": false,
   "title_cell": "Table of Contents",
   "title_sidebar": "Contents",
   "toc_cell": false,
   "toc_position": {},
   "toc_section_display": true,
   "toc_window_display": false
  }
 },
 "nbformat": 4,
 "nbformat_minor": 2
}