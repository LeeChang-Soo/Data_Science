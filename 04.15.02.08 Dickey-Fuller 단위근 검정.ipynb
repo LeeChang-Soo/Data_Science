{
 "cells": [
  {
   "cell_type": "markdown",
   "metadata": {
    "school_cell_uuid": "e46abfc6f12940e595b9b7e0ae81d04a"
   },
   "source": [
    "# Dickey-Fuller 단위근 검정"
   ]
  },
  {
   "cell_type": "markdown",
   "metadata": {
    "school_cell_uuid": "88f2908803844d1a89c618c278e2cc0d"
   },
   "source": [
    "## DF 검정"
   ]
  },
  {
   "cell_type": "markdown",
   "metadata": {
    "collapsed": true,
    "school_cell_uuid": "4449bc4c00904aa186364d8647721542"
   },
   "source": [
    "Dickey-Fuller 단위근 검정(unit root test)은 ARIMA 모형의 적분 차수를 판단하기 위한 검정 방법의 하나이다.\n",
    "\n",
    "**적분 차수가 1차인 경우가 귀무가설(null hypothesis)**이 되며 이 경우 특성 방정식의 해에 $x=1$ 즉 단위근(unit root)이 포함되기 때문에 단위근 검정이라고 한다."
   ]
  },
  {
   "cell_type": "markdown",
   "metadata": {
    "school_cell_uuid": "f9a15ce6e6d0455c811b165af1621e1d"
   },
   "source": [
    "DF 검정의 검정 통계량(test statistics)은 회귀분석의 결과로 나타나는 계수이다.\n",
    "\n",
    "시계열 $Y_t$의 차분 $\\nabla Y_t=Y_t - Y_{t-1}$를 종속변수로, 원 시계열 $Y_t$와 차분값의 지연 값들 $\\nabla Y_{t-1}, \\nabla Y_{t-2}, \\cdots, \\nabla Y_{t-k}$을 독립변수로 회귀 분석을 실시하고 그 결과로 나오는 $Y_t$의 계수값이 검정 통계량이 된다."
   ]
  },
  {
   "cell_type": "markdown",
   "metadata": {
    "school_cell_uuid": "81cbb84de35848a78f88cb6dd296f376"
   },
   "source": [
    "DF 검정의 원리는 다음과 같다.\n",
    "\n",
    "만약 시계열 $Y_t$의 적분 차수가 1이면 다음 식에서 $a=0$이 된다. \n",
    "\n",
    "$$ Y_t = (a + 1) Y_{t-1} + X_t $$\n",
    "\n",
    "이 식에서 $X_t$는 다음과 같이 표현 가능한 AR(p) 과정이다.\n",
    "\n",
    "$$ X_t = \\phi_1 X_{t-1} + \\phi_2 X_{t-2} + \\cdots + \\phi_p X_{t-p} + e_t $$\n",
    "\n",
    "$a=0$ 성립하는 경우, 이 두 식을 정리하면 다음과 같다.\n",
    "\n",
    "$$ \\nabla Y_t = a Y_{t-1} + \\phi_1 \\nabla Y_{t-1} + \\phi_2 \\nabla Y_{t-2} + \\cdots + \\phi_p \\nabla Y_{t-p} + e_t $$\n",
    "\n",
    "따라서  $\\nabla Y_t=Y_t - Y_{t-1}$를 종속변수로, 원 시계열 $Y_t$와 차분값의 지연 값들 $\\nabla Y_{t-1}, \\nabla Y_{t-2}, \\cdots, \\nabla Y_{t-k}$을 독립변수로 회귀 분석을 실시하여 $a$를 구할 수 있다. 이 $a$값이 검정 통계량이 되고 귀무가설이 성립하면 $a=0$이 된다."
   ]
  },
  {
   "cell_type": "markdown",
   "metadata": {
    "school_cell_uuid": "c1c507280ca247d6b7933c2192250efd"
   },
   "source": [
    "DF 검정의 검정 통계량 $a$는 일반적인 검정과 달리 정규분포 등의 간단한 수식으로 나타나지 않고 미리 계산된 표를 사용하거나 근사식을 사용한다."
   ]
  },
  {
   "cell_type": "markdown",
   "metadata": {
    "school_cell_uuid": "11875f827bb64d6fbdd120a77a57463a"
   },
   "source": [
    "## ADF 검정"
   ]
  },
  {
   "cell_type": "markdown",
   "metadata": {
    "school_cell_uuid": "011346853bd04033bb932af2080428c4"
   },
   "source": [
    "Augmented Dickey-Fuller (ADF) 검정은 1차 누적에 의한 확률적 추세뿐 아니라 2차항으로 나타나는 결정론적 추세를 포함하는 시계열에 대해서 단위 근 검정을 할 수 있도록 DF 검정을 일반화 한 것이다."
   ]
  },
  {
   "cell_type": "markdown",
   "metadata": {
    "school_cell_uuid": "9ec3d190757d4eaf9b6042a7cad8d0a9"
   },
   "source": [
    "ADF 검정도 DF 검정과 마찬가지로 회귀 분석 결과로 나온 계수를 검정 통계량으로 사용하며 회귀 방정식은 다음과 같다.\n",
    "\n",
    "$$ \\nabla Y_t = \\alpha + \\beta t + \\gamma Y_{t-1} + \\phi_1 \\nabla Y_{t-1} + \\phi_2 \\nabla Y_{t-2} + \\cdots + \\phi_p \\nabla Y_{t-p} + e_t $$\n",
    "\n",
    "이 식에석 $\\gamma$값이 검정 통계량이며 귀무가설이 성립하는 경우 $\\gamma=0$이다."
   ]
  },
  {
   "cell_type": "markdown",
   "metadata": {
    "school_cell_uuid": "20065bb83cba4d58abe0f68e87305cdf"
   },
   "source": [
    "ADF 검정은 DF 검정을 포함하기 때문에 대부분의 통계 패키지는 ADF만을 지원한다."
   ]
  },
  {
   "cell_type": "markdown",
   "metadata": {
    "school_cell_uuid": "bf93062112bb43dc8d6692790b58d4d0"
   },
   "source": [
    "## Python을 사용한 ADF 검정"
   ]
  },
  {
   "cell_type": "markdown",
   "metadata": {
    "school_cell_uuid": "e097f69cad1e45a0ac9a00f621711fb1"
   },
   "source": [
    "statsmodels 패키지는 [`statsmodels.tsa.adfuller`](http://statsmodels.sourceforge.net/stable/generated/statsmodels.tsa.stattools.adfuller.html) 라는 ADF 검정 함수를 제공한다. \n",
    "\n",
    "입력 인수와 반환값은 다음과 같다.\n",
    "\n",
    "* 입력 인수\n",
    "\n",
    "  * x : 시계열 자료\n",
    "  * maxlag : ADF 검정에 사용할 시차의 수. 디폴트 12*(nobs/100)^{1/4}\n",
    "  * regression : 검정 사용할 모형. \n",
    "    * 'nc': 결정론적 추세 없음. DF 검정\n",
    "    * 'c': 상수항만 사용\n",
    "    * 'ct': 상수항과 1차 추세 사용\n",
    "    * 'ctt': 상수항과 1차 추세, 2차 추세 사용\n",
    "  *  autolag : 검정 AR 모형의 차수를 자동 결정하는 알고리즘 {‘AIC’, ‘BIC’, ‘t-stat’, None}\n",
    "\n",
    "\n",
    "* 반환값\n",
    "\n",
    "  * adf : 검정 통계량\n",
    "  * pvalue : MacKinnon(1994) 방식을 사용한 p-value 추정치\n",
    "  * usedlag : 사용된 시차의 수\n",
    "  * nobs : 분석에 자료의 수\n",
    "  * critical values : 1%, 5%, 10% 수준에 해당되는 검정 통계량의 값"
   ]
  },
  {
   "cell_type": "markdown",
   "metadata": {
    "school_cell_uuid": "95b2094b06da4554a62be81cd1a53db1"
   },
   "source": [
    "실제로 시뮬레이션으로 생성된 시계열 자로에 대해 ADF 검정을 실시해 본다."
   ]
  },
  {
   "cell_type": "code",
   "execution_count": 1,
   "metadata": {
    "collapsed": true,
    "school_cell_uuid": "c98a23bf66d644bf9d0ffe7cc471cc6b"
   },
   "outputs": [],
   "source": [
    "p = sm.tsa.ArmaProcess([1], [-1, 0.6])\n",
    "y2 = p.generate_sample(100).cumsum().cumsum()  #  ARIMA d=2\n",
    "y1 = np.diff(y2)\n",
    "y0 = np.diff(y1)"
   ]
  },
  {
   "cell_type": "code",
   "execution_count": 2,
   "metadata": {
    "collapsed": false,
    "school_cell_uuid": "fb6f26a6524a447d88188c689ef4db08"
   },
   "outputs": [
    {
     "data": {
      "text/plain": [
       "(0.092775088009529133,\n",
       " 0.96556433991241486,\n",
       " 4,\n",
       " 95,\n",
       " {'1%': -3.5011373281819504,\n",
       "  '10%': -2.5832749307479226,\n",
       "  '5%': -2.8924800524857854},\n",
       " 238.18644357271461)"
      ]
     },
     "execution_count": 2,
     "metadata": {},
     "output_type": "execute_result"
    }
   ],
   "source": [
    "sm.tsa.adfuller(y2)"
   ]
  },
  {
   "cell_type": "code",
   "execution_count": 3,
   "metadata": {
    "collapsed": false,
    "school_cell_uuid": "ac97047bc2a7493896133656ebead014"
   },
   "outputs": [
    {
     "data": {
      "text/plain": [
       "(-0.92860667212087555,\n",
       " 0.77840593684886783,\n",
       " 3,\n",
       " 95,\n",
       " {'1%': -3.5011373281819504,\n",
       "  '10%': -2.5832749307479226,\n",
       "  '5%': -2.8924800524857854},\n",
       " 232.88855221406413)"
      ]
     },
     "execution_count": 3,
     "metadata": {},
     "output_type": "execute_result"
    }
   ],
   "source": [
    "sm.tsa.adfuller(y1)"
   ]
  },
  {
   "cell_type": "code",
   "execution_count": 4,
   "metadata": {
    "collapsed": false,
    "school_cell_uuid": "94564b2ab493402d92b08196c4636e71"
   },
   "outputs": [
    {
     "data": {
      "text/plain": [
       "(-9.6672843078902009,\n",
       " 1.3049624757032689e-16,\n",
       " 2,\n",
       " 95,\n",
       " {'1%': -3.5011373281819504,\n",
       "  '10%': -2.5832749307479226,\n",
       "  '5%': -2.8924800524857854},\n",
       " 230.28463671694846)"
      ]
     },
     "execution_count": 4,
     "metadata": {},
     "output_type": "execute_result"
    }
   ],
   "source": [
    "sm.tsa.adfuller(y0)"
   ]
  },
  {
   "cell_type": "markdown",
   "metadata": {
    "school_cell_uuid": "b8f81276d6374cd0ab43271170a8b565"
   },
   "source": [
    "위 분석에서 보듯이 적분 차수가 $d=2$, $d=1$인 시계열에 대해서는 97%, 78%의 p-value가 나왔다. 즉, 검정통계량이 0이고 적분 과정이라는 귀무가설이 맞다는 뜻이다. \n",
    "\n",
    "마지막 적분 차수가 $d=0$인 정상 과정에 대해서는 p-value가 0으로 정상 과정임을 나타낸다."
   ]
  }
 ],
 "metadata": {
  "kernelspec": {
   "display_name": "Python 2",
   "language": "python",
   "name": "python2"
  },
  "language_info": {
   "codemirror_mode": {
    "name": "ipython",
    "version": 2
   },
   "file_extension": ".py",
   "mimetype": "text/x-python",
   "name": "python",
   "nbconvert_exporter": "python",
   "pygments_lexer": "ipython2",
   "version": "2.7.11"
  }
 },
 "nbformat": 4,
 "nbformat_minor": 0
}