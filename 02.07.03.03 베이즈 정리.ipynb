{
 "cells": [
  {
   "cell_type": "markdown",
   "metadata": {
    "school_cell_uuid": "7728495784d64da09d7364a71551bc0c"
   },
   "source": [
    "# 베이즈 정리"
   ]
  },
  {
   "cell_type": "markdown",
   "metadata": {
    "school_cell_uuid": "44af799fbefc4839837cd87a3928e339"
   },
   "source": [
    "조건부 확률을 구하는 다음 공식을 **베이즈 정리(Bayesian rule)**이라고 한다.\n",
    "\n",
    "$$ P(A|B) = \\dfrac{P(B|A)P(A)}{P(B)} $$"
   ]
  },
  {
   "cell_type": "markdown",
   "metadata": {
    "school_cell_uuid": "98f1ee5498aa4010b1bbb7c931a7d69c"
   },
   "source": [
    "베이즈 정리의 증명은 다음과 같다.\n",
    "\n",
    "\n",
    "(증명)\n",
    "\n",
    "\n",
    "$$ P(A|B) = \\dfrac{P(A,B)}{P(B)} \\;\\; \\rightarrow \\;\\; P(A,B) = P(A|B)P(B) $$\n",
    "\n",
    "$$ P(B|A) = \\dfrac{P(A,B)}{P(A)} \\;\\; \\rightarrow \\;\\; P(A,B) = P(B|A)P(A) $$\n",
    "\n",
    "$$ P(A,B) = P(A|B)P(B) = P(B|A)P(A) $$\n",
    "\n",
    "$$ P(A|B) = \\dfrac{P(B|A)P(A)}{P(B)} $$"
   ]
  },
  {
   "cell_type": "markdown",
   "metadata": {
    "school_cell_uuid": "e5ebfe785cf04b5a90287f890e83c376"
   },
   "source": [
    "여기에서 $P(A)$는 **사전 확률(prior)**이라고 하며 사건 B가 발생하기 전에 가지고 있던 사건 A의 확률이다. 만약 사건 B가 발생하게 되면 이 정보를 반영하여 사건 $A$의 확률은 $P(A|B)$라는 값으로 변하게 되며 이를 **사후 확률(posterior)**이라고 한다.\n",
    "\n",
    "사후 확률 값은 기존 확률값에 $\\dfrac{P(B|A)}{P(B)}$라는 값을 곱하면 얻을 수 있다. 곱하는 $P(B|A)$는 **가능도(likelihood)**라고 하고 나누는 $P(B)$는 **정규화 상수(normalizing constant)**라고 한다."
   ]
  },
  {
   "cell_type": "markdown",
   "metadata": {
    "bootstrap": {
     "panel": {
      "class": "panel-danger",
      "heading": "베이즈 정리"
     }
    },
    "school_cell_uuid": "be8dddee3ba24693a923c5c2b14b07a3"
   },
   "source": [
    "\n",
    "$$ P(A|B) = \\dfrac{P(B|A)P(A)}{P(B)} $$\n",
    "\n",
    "\n",
    "* $P(A|B)$: 사후 확률(posterior). 사건 B가 발생한 후 갱신된 사건 A의 확률\n",
    "* $P(A)$: 사전 확률(prior). 사건 B가 발생하기 전에 가지고 있던 사건 A의 확률\n",
    "* $P(B|A)$: 가능도(likelihood). 사건 A가 발생한 경우 사건 B의 확률\n",
    "* $P(B)$: 정규화 상수(normalizing constant): 확률의 크기 조정\n"
   ]
  },
  {
   "cell_type": "markdown",
   "metadata": {
    "school_cell_uuid": "69a3f237166949a387d2ecf2796520f8"
   },
   "source": [
    "베이즈 정리는 사건 $B$가 발생함으로써(사건 $B$가 진실이라는 것을 알게 됨으로써 즉 사건 $B$의 확률 $P(B)=1$이라는 것을 알게 됨으로써) 사건 $A$의 확률이 어떻게 변화하는지를 표현한 정리이다. 따라서 베이즈 정리는 새로운 정보가 기존의 추론에 어떻게 영향을 미치는지를 나타내고 있다."
   ]
  },
  {
   "cell_type": "markdown",
   "metadata": {
    "school_cell_uuid": "197d4a054ec24cc7a8cedfee2b42f4b6"
   },
   "source": [
    "## 베이즈 정리의 확장 1"
   ]
  },
  {
   "cell_type": "markdown",
   "metadata": {
    "school_cell_uuid": "beaa3d5ee062441d93dc5d6d2605f56d"
   },
   "source": [
    "만약 사건 $A_i$가 다음의 조건을 만족하는 경우,\n",
    "\n",
    "* 서로 교집합이 없고\n",
    "\n",
    "$$ A_i \\cap A_j = \\emptyset $$\n",
    "\n",
    "\n",
    "* 모두 합쳤을 때 (합집합) 전체 표본 공간이면\n",
    "\n",
    "$$ A_1 \\cup A_2 \\cup \\cdots = \\Omega $$ \n",
    "    \n",
    "\n",
    "전체 확률의 법칙을 이용하여 다음과 같이 베이즈 정리를 확장할 수 있다.\n",
    "\n",
    "$$ P(A_1|B) = \\dfrac{P(B|A_1)P(A_1)}{P(B)} = \\dfrac{P(B|A_1)P(A_1)}{\\sum_i P(A_i, B)}= \\dfrac{P(B|A_1)P(A_1)}{\\sum_i P(B|A_i)P(A_i)}  $$\n"
   ]
  },
  {
   "cell_type": "markdown",
   "metadata": {
    "school_cell_uuid": "5858afac1b6447ff852542e9102e06ce"
   },
   "source": [
    "$A_1 = A$, $A_2 = A^C$ 인 경우에는 다음과 같다.\n",
    "\n",
    "$$ \n",
    "\\begin{eqnarray}\n",
    "P(A|B) \n",
    "&=& \\dfrac{P(B|A)P(A)}{P(B)} \\\\\n",
    "&=& \\dfrac{P(B|A)P(A)}{P(B,A) + P(B,A^C)} \\\\\n",
    "&=& \\dfrac{P(B|A)P(A)}{P(B|A)P(A) + P(B|A^C)P(A^C)} \\\\\n",
    "&=& \\dfrac{P(B|A)P(A)}{P(B|A)P(A) + P(B|A^C)(1 - P(A))} \n",
    "\\end{eqnarray}\n",
    "$$"
   ]
  },
  {
   "cell_type": "markdown",
   "metadata": {
    "school_cell_uuid": "eea1b673520843f59b7e6e21bf0cf0c3"
   },
   "source": [
    "## 검사 시약 문제"
   ]
  },
  {
   "cell_type": "markdown",
   "metadata": {
    "school_cell_uuid": "a320c887a23a445898b7c18fc8bee38d"
   },
   "source": [
    "베이즈 정리를 이용하여 다음과 같은 문제를 풀어보자.\n",
    "\n",
    "제약사에서 환자가 특정한 병에 걸린지 확인할 수 있는 시약을 만들었다. 그 병에 걸린 환자에게 시약을 테스트한 결과 99%의 확률로 양성 반응을 보였다. 병에 걸린지 확인이 되지 않은 어떤 환자가 이 시약을 테스트한 결과 양성 반응을 보였다면 이 환자가 그 병에 걸려 있을 확률은 얼마인가? 99%일까?"
   ]
  },
  {
   "cell_type": "markdown",
   "metadata": {
    "school_cell_uuid": "cd2cd1a2c473450b90e1653c4235cbb8"
   },
   "source": [
    "이 문제를 확률론의 용어로 다시 정리하여 서술하여 보자.\n",
    "\n",
    "우선 환자가 실제로 병에 걸린 경우를 사건 $D$ 라고 하자. 그러면 병에 걸려있지 않은 경우는 사건 $D^C$ 가 된다.\n",
    "또 시약 테스트에서 양성 반응을 보이는 경우를 사건 $S$ 라고 하면 음성 반응을 보이는 경우는 사건 $S^C$ 이다.\n",
    "\n",
    "현재 주어진 확률 값은 병에 결린 환자에게 시약을 테스트하였을 때 양성 반응을 보이는 확률이다. 병에 걸렸다는 것은 추가된 조건 혹은 정보이므로 이 확률은 $P(S|D)$로 표기할 수 있다.\n",
    "\n",
    "그런데 우리가 구해야 하는 값은 이것과 반대로 양성 반응을 보이는 환자가 병에 걸려있을 확률이다. 이 때에는 양성 반응을 보인다라는 것이 추가된 정보이므로 이 확률은 $P(D|S)$로 표기할 수 있다."
   ]
  },
  {
   "cell_type": "markdown",
   "metadata": {
    "bootstrap": {
     "panel": {
      "class": "panel-danger",
      "heading": "검사 시약 문제"
     }
    },
    "school_cell_uuid": "b9a013999a5943b9bf9c2180799baf10"
   },
   "source": [
    "* 사건\n",
    "\n",
    " * 병에 걸리는 경우: 사건 $D$\n",
    " * 양성 반응을 보이는 경우: 사건 $S$\n",
    " * 병에 걸린 사람이 양성 반응을 보이는 경우: 조건부 사건 $S|D$\n",
    " * 양성 반응을 보이는 사람이 병에 걸려 있을 경우: 조건부 사건 $D|S$\n",
    "\n",
    "\n",
    "\n",
    "* 문제\n",
    " * $P(S|D)=0.99$가 주어졌을 때, $P(D|S)$를 구하라\n",
    " "
   ]
  },
  {
   "cell_type": "markdown",
   "metadata": {
    "school_cell_uuid": "81564dcdc26a4f9e8e3d7d0a2e619761"
   },
   "source": [
    "베이즈 정리에서 \n",
    "\n",
    "$$ P(D|S) = \\dfrac{P(S|D)P(D)}{P(S)} $$\n",
    "\n",
    "임을 알고 있다. 그러나 이 식에서 우리가 알고 있는 것은 $P(S|D)$ 뿐이고 $P(D)$나 $P(S)$는 모르기 때문에 $ P(D|S)$ 현재로서는 구할 수 없다. 즉, 99%라고 간단히 말할 수 없다는 것이다."
   ]
  },
  {
   "cell_type": "markdown",
   "metadata": {
    "school_cell_uuid": "a1ab2a6c40d9495e87f365f15c604e4f"
   },
   "source": [
    "추가 조사를 통해 필요한 정보를 다음과 같이 입수하였다고 하자.\n",
    "\n",
    "* 이 병은 전체 인구 중 걸린 사람이 0.2% 인 희귀병이다.\n",
    "* 이 병에 걸리지 않은 사람에게 시약 검사를 했을 때, 양성 반응, 즉 잘못된 결과(False Positive)가 나타난 확률이 5% 이다."
   ]
  },
  {
   "cell_type": "markdown",
   "metadata": {
    "school_cell_uuid": "1c1be00659154d40bb60df9416044a4c"
   },
   "source": [
    "이를 확률론적 용어로 바꾸면 다음과 같다.\n",
    "\n",
    "$$P(D) = 0.002$$\n",
    "\n",
    "$$P(S|D^C) = 0.05$$\n"
   ]
  },
  {
   "cell_type": "markdown",
   "metadata": {
    "school_cell_uuid": "ed66b63109a14d8d8eedb90ab852b581"
   },
   "source": [
    "베이즈 정리의 확장을 사용하면\n",
    "\n",
    "$$ \n",
    "\\begin{eqnarray}\n",
    "P(D|S) \n",
    "&=& \\dfrac{P(S|D)P(D)}{P(S)} \\\\\n",
    "&=& \\dfrac{P(S|D)P(D)}{P(S,D) + P(S,D^C)} \\\\\n",
    "&=& \\dfrac{P(S|D)P(D)}{P(S|D)P(D) + P(S|D^C)P(D^C)} \\\\\n",
    "&=& \\dfrac{P(S|D)P(D)}{P(S|D)P(D) + P(S|D^C)(1-P(D))} \\\\\n",
    "&=& \\dfrac{0.99 \\cdot 0.002}{0.99 \\cdot 0.002 + 0.05 \\cdot (1 - 0.002)} \\\\\n",
    "&=& 0.038\n",
    "\\end{eqnarray}\n",
    "$$\n",
    "\n",
    "즉, 시약 반응에서 양성 반응을 보이는 사람이 실제로 병에 걸려 있을 확률은 약 3.8% 에 불과하다."
   ]
  },
  {
   "cell_type": "markdown",
   "metadata": {
    "school_cell_uuid": "5fd3f63324a7402a83c43c0d805fa6aa"
   },
   "source": [
    "## pgmpy을 사용한 베이즈 정리 적용"
   ]
  },
  {
   "cell_type": "markdown",
   "metadata": {
    "school_cell_uuid": "d15dd360c1694e9baa547c5ceecec8fc"
   },
   "source": [
    "pgmpy 패키지에서는 베이즈 정리를 적용할 수 있는 `BayesianModel` 클래스를 제공한다. 베이즈 정리를 적용하려면 조건부확률을 구현하기 위한 클래스 `TabularCPD` 클래스를 사용하여 사전확률과 가능도를 구현해야 한다. `TabularCPD` 클래스는 다음과 같이 만든다.\n",
    "\n",
    "```\n",
    "TabularCPD(variable, variable_card, value, evidence=None, evidence_card=None)\n",
    "```\n",
    "\n",
    "* `variable`: 확률변수의 이름 문자열\n",
    "* `variable_card`: 확률변수가 가질 수 있는 경우의 수\n",
    "* `value`: 조건부 확률 배열. 하나의 열(column)이 동일 조건을 뜻하므로 하나의 열의 확률 합은 1이어야 한다.\n",
    "* `evidence`: 조건이 되는 확률변수의 이름 문자열의 리스트\n",
    "* `evidence_card`: 조건이 되는 확률변수가 가질 수 있는 경우의 수의 리스트\n",
    "\n",
    "`TabularCPD` 클래스는 원래는 조건부확률을 구현하기 위한 것이지만 `evidence=None`, `evidence_card=None`으로 인수를 주면 일반적인 확률도 구현할 수 있다."
   ]
  },
  {
   "cell_type": "markdown",
   "metadata": {
    "school_cell_uuid": "b5708660087e44d482acfe74b611e7e8"
   },
   "source": [
    "우선 확률변수 X를 이용하여 병에 걸렸을 사전확률 $P(D)=P(X=1)$, 병에 걸리지 않았을 사전확률 $P(D^C)=P(X=0)$를 정의한다."
   ]
  },
  {
   "cell_type": "code",
   "execution_count": 1,
   "metadata": {
    "school_cell_uuid": "7071e4338be04408b9e5d849ccddde7f"
   },
   "outputs": [],
   "source": [
    "from pgmpy.factors.discrete import TabularCPD"
   ]
  },
  {
   "cell_type": "code",
   "execution_count": 2,
   "metadata": {
    "school_cell_uuid": "c00f9630ffbf45b8ab47c10c5a241ec3"
   },
   "outputs": [
    {
     "name": "stdout",
     "output_type": "stream",
     "text": [
      "+-----+-------+\n",
      "| X_0 | 0.998 |\n",
      "+-----+-------+\n",
      "| X_1 | 0.002 |\n",
      "+-----+-------+\n"
     ]
    }
   ],
   "source": [
    "cpd_X = TabularCPD('X', 2, [[1 - 0.002, 0.002]])\n",
    "print(cpd_X)"
   ]
  },
  {
   "cell_type": "markdown",
   "metadata": {
    "school_cell_uuid": "00514d431e964301a2d2687c9743e429"
   },
   "source": [
    "다음으로는 양성 반응이 나올 확률 $P(S)=P(Y=1)$, 음성 반응이 나올 확률 $P(S^C)=P(Y=0)$를 나타내는 확률변수 $Y$를 정의한다. 이 확률변수는 병에 걸렸는가 걸리지 않았는가를 나타내는 확률변수 $X$를 조건으로 가지는 확률변수이다.\n",
    "\n",
    "이 확률변수의 확률을 베이즈 모형에 넣을 때는 `TabularCPD` 클래스를 사용한 조건부확률의 형태로 넣어야 하므로 다음처럼 조건부확률 $P(Y|X)$를 구현한다."
   ]
  },
  {
   "cell_type": "code",
   "execution_count": 3,
   "metadata": {
    "school_cell_uuid": "a88bca63568b49869460e36f608eb399"
   },
   "outputs": [
    {
     "name": "stdout",
     "output_type": "stream",
     "text": [
      "+-----+------+------+\n",
      "| X   | X_0  | X_1  |\n",
      "+-----+------+------+\n",
      "| Y_0 | 0.95 | 0.01 |\n",
      "+-----+------+------+\n",
      "| Y_1 | 0.05 | 0.99 |\n",
      "+-----+------+------+\n"
     ]
    }
   ],
   "source": [
    "cpd_Y_on_X = TabularCPD('Y', 2, np.array([[0.95, 0.01], [0.05, 0.99]]),\n",
    "                    evidence=['X'], evidence_card=[2])\n",
    "print(cpd_Y_on_X)"
   ]
  },
  {
   "cell_type": "markdown",
   "metadata": {
    "school_cell_uuid": "d207c54b510c4ce8a2a84bb63f571512"
   },
   "source": [
    "이제 이 확률변수들이 어떻게 결합되어 있는지는 나타내는 확률모형인  `BayesianModel` 클래스 객체를 만들어야 한다.\n",
    "\n",
    "```\n",
    "BayesianModel(variables)\n",
    "```\n",
    "\n",
    "* `variables`: 확률모형이 포함하는 확률변수 이름 문자열의 리스트\n",
    "\n",
    "`BayesianModel` 클래스는 다음 메서드를 지원한다.\n",
    "\n",
    "* `add_cpds`: 조건부 확률을 추가\n",
    "* `check_model`: 모형이 정상적인지 확인. `True`면 정상적인 모형"
   ]
  },
  {
   "cell_type": "code",
   "execution_count": 4,
   "metadata": {
    "school_cell_uuid": "2c2a9b819fc84356b41f9334104e16d4"
   },
   "outputs": [
    {
     "data": {
      "text/plain": [
       "True"
      ]
     },
     "execution_count": 4,
     "metadata": {},
     "output_type": "execute_result"
    }
   ],
   "source": [
    "from pgmpy.models import BayesianModel\n",
    "\n",
    "model = BayesianModel([('X', 'Y')])\n",
    "model.add_cpds(cpd_X, cpd_Y_on_X)\n",
    "model.check_model()"
   ]
  },
  {
   "cell_type": "markdown",
   "metadata": {
    "school_cell_uuid": "bf183d211cde44e29eb902e147e6dda3"
   },
   "source": [
    "`BayesianModel` 클래스는 변수 제거법(VariableElimination)을 사용한 추정을 제공한다. \n",
    "`VariableElimination` 클래스로 추정(inference) 객체를 만들고 이 객체의 `query` 메서드를 사용하면 사후확률을 계산한다.\n",
    "\n",
    "```\n",
    "query(variables, evidences)\n",
    "```\n",
    "\n",
    "* `variables`: 사후확률을 계산할 확률변수의 이름 리스트\n",
    "* `evidences`: 조건이 되는 확률변수의 값을 나타내는 딕셔너리\n",
    "\n",
    "여기에서는 pgmpy 패키지를 이용하여 베이즈 정리를 적용할 수 있다는 것만 알면 된다. 자세한 내용은 추후 **확률적 그래프 모형(Probabilistic Graphical Model)**에서 다루게 된다."
   ]
  },
  {
   "cell_type": "code",
   "execution_count": 5,
   "metadata": {
    "school_cell_uuid": "79675349f3ba49b8a49805166c72fa8f"
   },
   "outputs": [
    {
     "name": "stdout",
     "output_type": "stream",
     "text": [
      "+-----+----------+\n",
      "| X   |   phi(X) |\n",
      "+=====+==========+\n",
      "| X_0 |   0.9618 |\n",
      "+-----+----------+\n",
      "| X_1 |   0.0382 |\n",
      "+-----+----------+\n"
     ]
    }
   ],
   "source": [
    "from pgmpy.inference import VariableElimination\n",
    "\n",
    "inference = VariableElimination(model)\n",
    "posterior = inference.query(['X'], evidence={'Y': 1})\n",
    "print(posterior['X'])"
   ]
  },
  {
   "cell_type": "markdown",
   "metadata": {
    "bootstrap": {
     "panel": {
      "class": "panel-default"
     }
    },
    "school_cell_uuid": "2044410e8baf42bca5a655e2b21aba59"
   },
   "source": [
    "#### 연습 문제 7.3.3\n",
    "\n",
    "몬티 홀 문제(Monty Hall problem)는 다음과 같은 확률문제이다.\n",
    "\n",
    "> 세 개의 문 중에 하나를 선택하여 문 뒤에 있는 선물을 가질 수 있는 게임쇼에 참가했다. 한 문 뒤에는 자동차가 있고, 나머지 두 문 뒤에는 염소가 있다. 이때 어떤 사람이 예를 들어 1번 문을 선택했을 때, 게임쇼 진행자는 3번 문을 열어 문뒤에 염소가 있음을 보여주면서 1번 대신 2번을 선택하겠냐고 물었다. 참가자가 자동차를 가지려할 때 원래 선택했던 번호를 바꾸는 것이 유리할까?\n",
    "\n",
    "문의 위치를 0, 1, 2라는 숫자로 표현하면 다음과 같은 확률변수를 사용하여 이 문제를 풀 수 있다.\n",
    "\n",
    "1. 자동차가 있는 문을 나타내는 확률변수 $X$. 값은 0, 1, 2를 가질 수 있다.\n",
    "2. 참가자가 선택한 문을 나타내는 확률변수 $Y$. 값은 0, 1, 2를 가질 수 있다.\n",
    "3. 진행자가 열어준 문을 나타내는 확률변수 $Z$. 값은 0, 1, 2를 가질 수 있다.\n",
    "\n",
    "이 세 확률변수들의 조건부확률 $P(Z|X,Y)$를 pgmpy 패키지의 `TabularCPD` 클래스로 구현하라."
   ]
  },
  {
   "cell_type": "markdown",
   "metadata": {
    "school_cell_uuid": "61dec446e262409ebd12ac3f747e6aca"
   },
   "source": [
    "## 베이즈 정리의 확장 2"
   ]
  },
  {
   "cell_type": "markdown",
   "metadata": {
    "school_cell_uuid": "74c1bbe5117541d29932b50555f928ed"
   },
   "source": [
    "베이즈 정리는 사건 $A$의 확률이 사건 $B$에 의해 갱신(update)된 확률을 계산한다. 그런데 만약 이 상태에서 또 추가적인 사건 $C$가 발생했다면 베이즈 정리는 다음과 같이 쓸 수 있다.\n",
    "\n",
    " $$ P(A|B,C) = \\dfrac{P(C|A,B)P(A|B)}{P(C|B)} $$\n",
    " \n",
    "위 식에서 $P(A|B,C)$는 $B$와 $C$가 조건인 $A$의 확률이다. 즉 $P(A| (B \\cap C))$를 뜻한다.\n",
    "\n",
    "이 공식을 사건 $A$와 $C$ 만 있는 경우와 비교해 보면 위 공식을 쉽게 외울 수 있다.\n",
    "\n",
    "$$ P(A|C) = \\dfrac{P(C|A)P(A)}{P(C)} $$"
   ]
  },
  {
   "cell_type": "markdown",
   "metadata": {
    "school_cell_uuid": "104eb86927244186b5704f0030c3eab4"
   },
   "source": [
    "(증명)\n",
    "\n",
    "\n",
    "$$ P(A,B,C) = P(A|B,C)P(B,C) = P(A|B,C)P(C|B)P(B)$$\n",
    "\n",
    "\n",
    "$$ P(A,B,C) = P(C|A,B)P(A,B) = P(C|A,B)P(A|B)P(B) $$\n",
    "\n",
    "\n",
    "$$ P(A|B,C)P(C|B)P(B) = P(C|A,B)P(A|B)P(B) $$\n",
    "\n",
    "\n",
    "$$ P(A|B,C) = \\dfrac{P(C|A,B)P(A|B)}{P(C|B)} $$"
   ]
  },
  {
   "cell_type": "markdown",
   "metadata": {
    "bootstrap": {
     "panel": {
      "class": "panel-default"
     }
    },
    "school_cell_uuid": "3f8d76688e854675b4588811cecb1941"
   },
   "source": [
    "#### 연습 문제 7.3.4\n",
    "\n",
    "다음 식을 증명하라.\n",
    "\n",
    "$$ P(A|B,C) = \\dfrac{P(B|A,C)P(A|C)}{P(B|C)} $$\n",
    "\n"
   ]
  }
 ],
 "metadata": {
  "celltoolbar": "Edit Metadata",
  "kernelspec": {
   "display_name": "Python 3",
   "language": "python",
   "name": "python3"
  },
  "language_info": {
   "codemirror_mode": {
    "name": "ipython",
    "version": 3
   },
   "file_extension": ".py",
   "mimetype": "text/x-python",
   "name": "python",
   "nbconvert_exporter": "python",
   "pygments_lexer": "ipython3",
   "version": "3.6.6"
  },
  "toc": {
   "base_numbering": 1,
   "nav_menu": {},
   "number_sections": false,
   "sideBar": true,
   "skip_h1_title": false,
   "title_cell": "Table of Contents",
   "title_sidebar": "Contents",
   "toc_cell": false,
   "toc_position": {},
   "toc_section_display": true,
   "toc_window_display": false
  }
 },
 "nbformat": 4,
 "nbformat_minor": 1
}