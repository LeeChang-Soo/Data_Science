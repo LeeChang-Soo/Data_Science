{
 "cells": [
  {
   "cell_type": "markdown",
   "metadata": {
    "school_cell_uuid": "23f506be6fb74b0a81c08a04f23cd455"
   },
   "source": [
    "# AWS에서 GPU 사용하기"
   ]
  },
  {
   "cell_type": "markdown",
   "metadata": {
    "school_cell_uuid": "116ad33e274843ec90a49c166375686a"
   },
   "source": [
    "딥러닝 모델을 학습시키기 위해서는 GPU가 꼭 필요하다. 그러나 GPU가 비싸다는 점도 있고, GPU를 막상 샀다고해도, 환경설정을 하는 것이 아마 쉽지 않을 것이다. 이제 부터 나올 딥러닝 예제코드를 실습하고, 자신만의 딥러닝 모델을 만들고 싶다면, `Amazon Web Service(AWS)`에서 제공하는 `DLAMI`을 사용하면 위의 문제는 아주 쉽게 해결할 수 있다. 기본적인 용어 먼저 설명하겠다. \n",
    "\n",
    "`AWS` : 아마존 닷컴이 제공하는 클라우드 컴퓨팅 서비스를 말한다. 아주 다양한 서비스가 있고, 그 중, `EC2`서비스를 사용할 것이다.\n",
    "\n",
    "`EC2` : AWS에서 제공하는 확장식 클라우드 컴퓨터\n",
    "\n",
    "`AMI` : Amazon Machine Image의 약자로, 클라우드 서버를 시작하는데 사용하는 소프트웨어를 정보를 담고 있는 템플릿 이미지 이다. 가장 기본적으로는 운영체제만 설치되어 있지만, 개인 또는 기업들이 발행한 AMI의 경우 다양한 소프트웨어 정보를 담고 있다. 퍼블릭으로 공개한 이미지들은 비용을 내고 사용할 수 있다. "
   ]
  },
  {
   "cell_type": "markdown",
   "metadata": {
    "school_cell_uuid": "aa921f3ccc9a48a89475cd2b049f031c"
   },
   "source": [
    "## Deep Learning AMI "
   ]
  },
  {
   "cell_type": "markdown",
   "metadata": {
    "school_cell_uuid": "9129c4a7245d4159b142f01caf8660a6"
   },
   "source": [
    "AWS Deep Learning AMI는(이하 `DLAMI`)는 AWS에서 제공하는 딥러닝 용 AMI이며, 아래의 세가지 버전이 있고, Ubuntu, Amazon Linux, Windows 세가지의 운영체제를 지원한다. \n",
    "\n",
    "- Conda를 이용한 Deep Learning AMI - 프레임워크가 설치되어 별도의 conda 패키지 및 별도의 Python 환경 사용\n",
    "- 소스 코드를 이용한 Deep Learning AMI - 소스에서 동일한 Python 환경으로 프레임워크가 설치됨\n",
    "- Deep Learning Base AMI - 프레임워크가 설치되지 않음, NVIDIA CUDA 및 기타 종속성 전용\n",
    "\n",
    "GPU를 사용하기 위해서는 `NVIDIA CUDA` 및 `NVIDIA cuDNN`과 GPU 컴퓨팅을 지원하는 프레임워크가 필요하다. 위의 세 버전 중 자기에게 필요한 것을 선택하여 사용하면 되지만, 이 책에서는 ``Ubuntu``에서의 ``Conda를 이용한 DLAMI``를 기준으로 설명하겠다. 이 DLAMI의 프레임워크는 Apache MXNet, Caffe, Caffe2, Chainer, CNTK, Keras, PyTorch, TensorFlow 및 Theano이다. 이미지 내의 프레임워크들은 모두 최신 버전까지 구성되어 있지만, `Theano`의 경우 프레임워크의 개발이 중지되어 이미지에서 제거 중에 있다. \n",
    "#### DLAMI 사용 가능 리전\n",
    "\n",
    "모든 리전에서 DLAMI를 사용할 수 있는 것은 아니다. 하지만, 서울, 도쿄, 시드니, 미국 등 대부분의 지역에서 사용 할 수 있고, 원하는 리전으로 직접 복사하여 사용 할 수도 있다. 사용 가능한 리전 모두를 알고 싶다면 아래의 링크를 참조한다. \n",
    "- https://docs.aws.amazon.com/ko_kr/dlami/latest/devguide/al.html\n",
    "\n"
   ]
  },
  {
   "cell_type": "markdown",
   "metadata": {
    "school_cell_uuid": "fb3fde1076e0419d9eeb6d2dc7c1fa2b"
   },
   "source": [
    "## DLAMI로 EC2 Instance만들기 "
   ]
  },
  {
   "cell_type": "markdown",
   "metadata": {
    "school_cell_uuid": "41f43c9083b347ab9f4dd50ae77918ae"
   },
   "source": [
    "본격적으로, DLAMI로 EC2 Instance를 만들어 보겠다. \n",
    "먼저, AWS에 가입하고, 결제정보를 입력한다. \n",
    "\n",
    "추가적으로, AWS를 사용할 때는, 보안을 위해 `MFA(Multi Factor Authentication` 설정을 해두기를 권장한다.\n",
    "설정은, `내 보안 자격 증명` $\\rightarrow$ `멀티 팩터 인증(MFA)`에서 하면되고, Authenticator 로는 Google authenticator나 Authy 등 원하는 것을 사용하면 된다. \n",
    "\n",
    "AWS가 준비되었다면, 이제 인스턴스를 만든다. \n",
    "\n",
    "먼저, `서비스`를 클릭하여, `EC2`를 검색하고, `EC2`를 클릭한다.\n",
    "<img src=\"https://datascienceschool.net/upfiles/4c35a5dc6e214ba8a2f6ee8aabdc62a7.png\">"
   ]
  },
  {
   "cell_type": "markdown",
   "metadata": {
    "school_cell_uuid": "b99e5c6b455045baa535d908427cc370",
    "sidetitle": true
   },
   "source": [
    "그림 18.0.1 : EC2 검색 화면"
   ]
  },
  {
   "cell_type": "markdown",
   "metadata": {
    "school_cell_uuid": "2d8a3511229c4a27a043814427a6cf1b"
   },
   "source": [
    "아래와 같은 화면이 나올 것이다. 다음으로 박스표시 안의 `인스턴스`를 클릭한다."
   ]
  },
  {
   "cell_type": "markdown",
   "metadata": {
    "school_cell_uuid": "d99c0fbdb0ad4e30870431443f42b913"
   },
   "source": [
    "<img src=\"https://datascienceschool.net/upfiles/6cff8fddab5446e68563d9e755a7003b.png\">"
   ]
  },
  {
   "cell_type": "markdown",
   "metadata": {
    "school_cell_uuid": "874718846e0c49858f45ee114230fdd7",
    "sidetitle": true
   },
   "source": [
    "그림 18.0.2 : EC2 대시보드"
   ]
  },
  {
   "cell_type": "markdown",
   "metadata": {
    "school_cell_uuid": "f4b139d54b2643fcba2eeed343ec37a2"
   },
   "source": [
    "다음으로 `인스턴스 시작` 버튼을 클릭한다. "
   ]
  },
  {
   "cell_type": "markdown",
   "metadata": {
    "school_cell_uuid": "28bd9e839e584df9810c79c48690ed96"
   },
   "source": [
    "<img src=\"https://datascienceschool.net/upfiles/9492c0a1d5f74233b02c3f6bdf22b48f.png\">"
   ]
  },
  {
   "cell_type": "markdown",
   "metadata": {
    "school_cell_uuid": "0e679a831d0c461ebff7d1526f29e37c",
    "sidetitle": true
   },
   "source": [
    "그림 18.0.3 : 인스턴스 시작"
   ]
  },
  {
   "cell_type": "markdown",
   "metadata": {
    "school_cell_uuid": "b1bfd438d4b24bf9b5d52386e91a68d7"
   },
   "source": [
    "AMI 선택 화면에서, 사이드바의 `AWS Marketplace` 를 클릭하고, `DLAMI`를 검색한다. "
   ]
  },
  {
   "cell_type": "markdown",
   "metadata": {
    "school_cell_uuid": "773f7a86afb3464aaac74ec6302dc351"
   },
   "source": [
    "<img src=\"https://datascienceschool.net/upfiles/438c960afcfd4c75b04c0ef1051eba7b.png\">\n"
   ]
  },
  {
   "cell_type": "markdown",
   "metadata": {
    "school_cell_uuid": "943da7e00c96444d8c0b708213980e94",
    "sidetitle": true
   },
   "source": [
    "그림 18.0.4 : AMI 선택 화면"
   ]
  },
  {
   "cell_type": "markdown",
   "metadata": {
    "school_cell_uuid": "e5294ecd6db049cca71db501daacea30"
   },
   "source": [
    "검색 결과 중, `Deep Learnin AMI(Ubuntu)`를 선택한다. \n",
    "\n",
    "선택한 뒤에는 DLAMI에 대한 설명이 나올 것이다. `Continue`를 클릭한다."
   ]
  },
  {
   "cell_type": "markdown",
   "metadata": {
    "school_cell_uuid": "9eb91209f358428b8ae030b80c6a8a71"
   },
   "source": [
    "<img src=\"https://datascienceschool.net/upfiles/cb998e6dc79e49a4ad5ab9c729d0f985.png\">"
   ]
  },
  {
   "cell_type": "markdown",
   "metadata": {
    "school_cell_uuid": "3f2e3864fc6a41e7944900a82ad7005b",
    "sidetitle": true
   },
   "source": [
    "그림 18.0.5 : AMI 선택 화면 2 "
   ]
  },
  {
   "cell_type": "markdown",
   "metadata": {
    "school_cell_uuid": "46ae956fd44b4995aba14f82b46d74f4"
   },
   "source": [
    "인스턴스 유형을 선택할 차례이다. GPU가 있는 인스턴스 유형만 보고 싶다면, `필터링기준`을 `GPU compute`로 설정하면 된다. \n",
    "우리가 고려할 만한 범용 GPU 지원 인스턴스 유형으로는, p2, p3 등이 있다. 아래 링크에서 각 인스턴스 유형을 확인하고 원하는 것을 선택하면 되겠다. \n",
    "\n",
    "- https://aws.amazon.com/ko/ec2/instance-types/\n",
    "\n",
    "여기서는 `P3.2xlarge`를 선택하겠다. `P3.2xlarge`는 `NVIDIA Tesla V100 GPU` 하나를 가지고 있다. "
   ]
  },
  {
   "cell_type": "markdown",
   "metadata": {
    "school_cell_uuid": "b66bdeb3129b47449498a14763a865fc"
   },
   "source": [
    "<img src=\"https://datascienceschool.net/upfiles/25064f8b55a842b3b85afd3aaedbbe08.png\">"
   ]
  },
  {
   "cell_type": "markdown",
   "metadata": {
    "school_cell_uuid": "c52d0235a53048f9b1f5fe5cf90500cf",
    "sidetitle": true
   },
   "source": [
    "그림 18.0.6 : 인스턴스 유형 선택 화면 "
   ]
  },
  {
   "cell_type": "markdown",
   "metadata": {
    "school_cell_uuid": "96a75eab7997463db2090863402690a7"
   },
   "source": [
    "인스턴스 유형을 선택한 뒤, 일단 모든 것을 기본 설정으로 두고 인스턴스를 시작하도록 한다. \n",
    "\n",
    "시작을 클릭하면, 키페어를 선택하는 화면이 나올 것이다. 처음 AWS를 사용한다면 키페어를 생성하고, 기존에 사용했었다면, 원래 가지고 있던 키페어를 선택한 뒤, 인스턴스 시작을 클릭한다. 조금 기다리면, `Pending` 이 끝나고, 아래의 그림 18.0.8과 같이 인스턴스 상태가 `running`이 될 것이다."
   ]
  },
  {
   "cell_type": "markdown",
   "metadata": {
    "school_cell_uuid": "ad5e38386a104749b531d9d8fac0505e"
   },
   "source": [
    "<img src=\"https://datascienceschool.net/upfiles/083f70e11eee48bfafa99d4f49fed8f0.png\">"
   ]
  },
  {
   "cell_type": "markdown",
   "metadata": {
    "school_cell_uuid": "2e77b65e499749b2b4967543c78b669e",
    "sidetitle": true
   },
   "source": [
    "그림 18.0.7 : 인스턴스 시작 검토"
   ]
  },
  {
   "cell_type": "markdown",
   "metadata": {
    "school_cell_uuid": "3fc1502d250a46b18e6c699c8d7712be"
   },
   "source": [
    "<img src=\"https://datascienceschool.net/upfiles/dbd95582600a4b10b16df8294017e08b.png\">"
   ]
  },
  {
   "cell_type": "markdown",
   "metadata": {
    "school_cell_uuid": "45409ab3b0714772837c2c5aee276b37",
    "sidetitle": true
   },
   "source": [
    "그림 18.0.8 : 인스턴스 시작"
   ]
  },
  {
   "cell_type": "markdown",
   "metadata": {
    "school_cell_uuid": "19a7e8f9206c4fb48b156949b7cdb65d"
   },
   "source": [
    "### SSH를 사용하여 EC2 instance에 접속하기\n",
    "`ssh` : 시큐어 셸(Secure Shell, SSH)은 네트워크 상의 다른 컴퓨터에 로그인하거나 원격 시스템에서 명령을 실행하게 해주는 프로그램 또는 그 프로토콜을 가리킨다.\n",
    "\n",
    "인스턴스를 만들 때 만들었던(혹은 사용했던) 키페어 파일(\\*.pem)을 이용하여, 생성한 인스턴스로 접속할 것이다. \n",
    "\n",
    "### Mac\n",
    "1. 먼저 키페어 파일이 있는 디렉토리로 이동한다. \n",
    "2. 그런 다음 아래의 명령으로 키파일의 권한을 바꿔준다. \n",
    "```\n",
    "chmod 400 my_keypair.pem\n",
    "```\n",
    "3. 그리고 그림 18.0.8 박스표시 안의 `IPv4퍼블릭IP`를 복사한다. \n",
    "\n",
    "4. 아래의 명령으로 접속 한다. \n",
    "```\n",
    "ssh -i my_keypair.pem ubuntu@IPv4퍼블리IP(이 경우에는 18.222.218.225)\n",
    "```\n",
    "5. Keypair 파일을 만들 때, 사용했던 비밀번호를 입력하면 접속이 된다. \n",
    "\n",
    "아래의 그림처럼 되었다면, 성공적으로 접속한 것이다. \n"
   ]
  },
  {
   "cell_type": "markdown",
   "metadata": {
    "school_cell_uuid": "8f47a1222c7047388c8f2db90cbd8238"
   },
   "source": [
    "<img src=\"https://datascienceschool.net/upfiles/a4e88dbf72aa4400b6ec51c9964b6ccf.png\">\n"
   ]
  },
  {
   "cell_type": "markdown",
   "metadata": {
    "school_cell_uuid": "4bc1c44c4376427e8b8352af00b5f3ba",
    "sidetitle": true
   },
   "source": [
    "그림 18.0.9 : 인스턴스 접속"
   ]
  },
  {
   "cell_type": "markdown",
   "metadata": {
    "school_cell_uuid": "61333ed9863f4f52b23f2e39afe04677"
   },
   "source": [
    "### Windows"
   ]
  },
  {
   "cell_type": "markdown",
   "metadata": {
    "school_cell_uuid": "beeaa3d35502403aacc59427c52614f4"
   },
   "source": [
    "Windows 운영체제 에서는 `PuTTY`를 이용해 인스턴스에 접속하겠다. SSH접속을 위해 사용하는 SSH client 프로그램인 `PuTTY`에서는 AWS 키페어 파일의 확장자인 \\*.pem 을 바로 사용하지 못한다. 이를 \\*.ppk의 확장자로 바꿔주어야하는데, 이를 해주는 소프트웨어가 `PuTTYgen` 이다. 아래 링크로 가서, 최신 버전의 `PuTTY`를 다운로드 받고, 설치하도록 한다. \n",
    "- https://www.chiark.greenend.org.uk/~sgtatham/putty/"
   ]
  },
  {
   "cell_type": "markdown",
   "metadata": {
    "school_cell_uuid": "44635de6a5cf49989716be83e5c8b6d5"
   },
   "source": [
    "<img src=\"https://datascienceschool.net/upfiles/ea530eb8ff754671a59288b3b6027f71.png\" style=\"width: 50%;\">"
   ]
  },
  {
   "cell_type": "markdown",
   "metadata": {
    "school_cell_uuid": "d5f1530136ad40b4ab79c13542831e79"
   },
   "source": [
    "<img src=\"https://datascienceschool.net/upfiles/7f995a180dde496da3bba24bf37e00fb.png\" style=\"width: 50%;\">"
   ]
  },
  {
   "cell_type": "markdown",
   "metadata": {
    "school_cell_uuid": "b93656efd2ac4ca3911969909857ca43",
    "sidetitle": true
   },
   "source": [
    "그림 18.0.10 : PuTTY 설치 과정 "
   ]
  },
  {
   "cell_type": "markdown",
   "metadata": {
    "school_cell_uuid": "8267244059a24bc88d575d1408ea1838"
   },
   "source": [
    "#### PuTTYgen을 이용한 키페어 파일 변환\n",
    "\n",
    "설치가 완료되었다면,`PuTTYgen`을 이용하여, `my_keypair.pem` 파일을 `my_keypair.ppk` 로 변환한다. \n",
    "\n",
    "[모든 프로그램 → PuTTY → PuTTYgen] 을 선택하여, PuTTYgen을 실행한다. \n",
    "\n",
    "`Type of key to generate` 에서 RSA를 선택한다.\n",
    "\n",
    "다음으로, `Load`를 클릭한다. 기본적으로 PuTTYgen에는 확장명이 \\*.ppk인 파일만 표시되기 때문에, \\*.pem 파일을 찾으려면 모든 유형의 파일을 표시하는 옵션을 선택한다. 마지막으로 `my_keypair.pem` 키파일을 선택하고, `Save private key` 버튼을 클릭하여, `my_keypair.ppk`를 생성한다. 이름은 꼭 원래의 \\*.pem 파일과 같은 이름으로 설정하도록 한다. "
   ]
  },
  {
   "cell_type": "markdown",
   "metadata": {
    "school_cell_uuid": "d9708f4fb53242f3894daaac626206db"
   },
   "source": [
    "<img src=\"https://datascienceschool.net/upfiles/db283474ff494a888b74fd401e589789.png\" style=\"width: 50%;\">"
   ]
  },
  {
   "cell_type": "markdown",
   "metadata": {
    "school_cell_uuid": "5aa7322168b7480a8ba8135cc36c2268"
   },
   "source": [
    "<img src=\"https://datascienceschool.net/upfiles/d7ce9fb87d324a40bb48ae43c9e2e36e.png\" >"
   ]
  },
  {
   "cell_type": "markdown",
   "metadata": {
    "school_cell_uuid": "b7bbc93a741e42c7a84f7a812b239b05",
    "sidetitle": true
   },
   "source": [
    "그림 18.0.11 : PuTTYgen 실행 화면과 키페어 파일 변환 "
   ]
  },
  {
   "cell_type": "markdown",
   "metadata": {
    "school_cell_uuid": "891b5d8b5b92441a92d068ca827fa831"
   },
   "source": [
    "#### PuTTY를 이용한 SSH접속 \n",
    "\n",
    "\n",
    "1. PuTTY를 실행 시킨다. [모든 프로그램 → PuTTY → PuTTY] \n",
    "2. `Host Name(or IP address)`에 아래와 같이 입력한다. \n",
    "```\n",
    "ubuntu@18.222.218.225\n",
    "```\n",
    "3. `Port`가 22인지 확인한다. \n",
    "\n",
    "4. `Connection type:`에서 **SSH**를 선택한다.\n",
    "\n",
    "5. `Category`의 `Connection → SSH → Auth`를 클릭한다. \n",
    "\n",
    "6. Browse를 클릭하고,  키 페어에 대해 생성한 .ppk 파일을 선택한 다음 `Open` 을 선택한다.\n",
    "\n",
    "7. 마지막, Open을 클릭하여, 실행 중인 클라우드 컴퓨터에 접속한다."
   ]
  },
  {
   "cell_type": "markdown",
   "metadata": {
    "school_cell_uuid": "82c77f3dd28849baab24c1caa5ff4b11"
   },
   "source": [
    "<img src=\"https://datascienceschool.net/upfiles/6e5af95f799245f681880b888e79d22c.png\" style=\"width: 50%;\">"
   ]
  },
  {
   "cell_type": "markdown",
   "metadata": {
    "school_cell_uuid": "794119bf063d426bbdcf849b9bf0d798"
   },
   "source": [
    "<img src=\"https://datascienceschool.net/upfiles/7a68adf5bfe840f881109d64e63dacfd.png\" style=\"width: 50%;\">"
   ]
  },
  {
   "cell_type": "markdown",
   "metadata": {
    "school_cell_uuid": "6c46d868ce0d4fd1934b0e7f5155f361"
   },
   "source": [
    "<img src=\"https://datascienceschool.net/upfiles/8348830ffcfa4ff48bf8281f167b93f4.png\" style=\"width: 50%;\">"
   ]
  },
  {
   "cell_type": "markdown",
   "metadata": {
    "school_cell_uuid": "ce2c0e2170bb4aa79635a7660ae6657e"
   },
   "source": [
    "<img src=\"https://datascienceschool.net/upfiles/6f4a56a347004e4dbf66f5718ee497a0.png\">"
   ]
  },
  {
   "cell_type": "markdown",
   "metadata": {
    "school_cell_uuid": "a7715cdf98964c7293ad6931d953e9ac",
    "sidetitle": true
   },
   "source": [
    "그림 18.0.12 : PuTTY를 이용해 실행 중인 인스턴스에 접속하는 과정"
   ]
  },
  {
   "cell_type": "markdown",
   "metadata": {
    "school_cell_uuid": "4050a7e78d6546308d9c43e4273bd46b"
   },
   "source": [
    "#### DLAMI 사용법 \n",
    "\n",
    "인스턴스에 잘 접속 했다면 그림 18.0.13에서 보이는 것처럼 사용할 수 있는 환경들의 목록과 각 환경을 실행시키는 명령어가 출력될 것이다. "
   ]
  },
  {
   "cell_type": "markdown",
   "metadata": {
    "school_cell_uuid": "2809738ef9a34b64917327e379641cdd"
   },
   "source": [
    "<img src=\"https://datascienceschool.net/upfiles/80c0769b112f41a68f5620260109a349.png\" >"
   ]
  },
  {
   "cell_type": "markdown",
   "metadata": {
    "school_cell_uuid": "2c12a3a8e5b94cada6de1b386416d6b3",
    "sidetitle": true
   },
   "source": [
    "그림 18.0.13 : DLAMI에서 사용할 수 있는 환경 목록"
   ]
  },
  {
   "cell_type": "markdown",
   "metadata": {
    "school_cell_uuid": "7cfa3eca4cf44e818649798eb3e626fb"
   },
   "source": [
    "이 중 **TensorFlow(+Keras2) with Python3(CUDA 9.0 and Intel MKL-DNN)** 을 실행시켜보자. 접속한 쉘에서 그림 18.0.13에 나와 있는대로,아래의 명령어를 입력한다.\n",
    "```\n",
    "source activate tensorflow_p36\n",
    "```\n",
    "입력하고 나면, 아래 그림 18.0.14에서와 같이 프롬프트 앞에 `(tensorflow_p36)` 이라는 글자가 생겨 날 것이다. "
   ]
  },
  {
   "cell_type": "markdown",
   "metadata": {
    "school_cell_uuid": "d187bcee65444d63a9ab652b22400927"
   },
   "source": [
    "<img src=\"https://datascienceschool.net/upfiles/1a52056a36144b969dfb18707d44ad2d.png\" >"
   ]
  },
  {
   "cell_type": "markdown",
   "metadata": {
    "school_cell_uuid": "cccfcf893faf45919bdab33945d543e5",
    "sidetitle": true
   },
   "source": [
    "그림 18.0.14 : Tensorflow_p36 환경 실행 화면"
   ]
  },
  {
   "cell_type": "markdown",
   "metadata": {
    "school_cell_uuid": "cb89260a335d411faf3f3fb03bce3f34"
   },
   "source": [
    "그리고 아래 코드를 입력하여, 환경이 잘 작동하는지를 테스트 해본다. \n",
    "\n",
    "```\n",
    "$ ipython \n",
    "\n",
    "In [1]: import tensorflow as tf\n",
    "   ...: hello = tf.constant('Hello, TensorFlow!')\n",
    "   ...: sess = tf.Session()\n",
    "   ...: print(sess.run(hello))\n",
    "\n",
    "```\n",
    "아래의 그림 18.0.15 와 같이 에러없이 잘 실행된다면, 환경이 제대로 구성되어 있다는 것이다. "
   ]
  },
  {
   "cell_type": "markdown",
   "metadata": {
    "school_cell_uuid": "b052262e236349e48a0b130554fddbb9"
   },
   "source": [
    "<img src=\"https://datascienceschool.net/upfiles/d8702b69410745ad9a0cfa4782a8f967.png\">"
   ]
  },
  {
   "cell_type": "markdown",
   "metadata": {
    "school_cell_uuid": "ebc135d4ab4c43b9b09cf3b38fe94fb7",
    "sidetitle": true
   },
   "source": [
    "그림 18.0.15 : Tensorflow_p36 환경 테스트 코드 결과"
   ]
  },
  {
   "cell_type": "markdown",
   "metadata": {
    "school_cell_uuid": "19efa2abc9c64f99878092ef4db01d30"
   },
   "source": [
    "### Jupyter notebook 실행하기\n"
   ]
  },
  {
   "cell_type": "markdown",
   "metadata": {
    "school_cell_uuid": "3b40b63ff7f241a98f06ce584346cf6e"
   },
   "source": [
    "다음으로, AWS의 EC2 인스턴스에서 Jupyter notebook을 실행하고, 접속하여 개발 할 수 있는 환경을 만들어 보겠다. 지금부터 나오는 명령어는 SSH로 인스턴스에 접속한 상태에서 입력하는 것이다. \n",
    "\n",
    "#### Jupyter notebook 설정\n",
    "**1. Jupyter 설정 파일 생성**\n",
    "\n",
    "아래의 명령어를 입력하여, 설정 파일을 생성한다. \n",
    "```\n",
    "$ jupyter notebook --generate-config\n",
    "```\n",
    "아래와 같은 문장이 출력될 것 이다.\n",
    "```\n",
    "Writing default config to: /Users/MAC/.jupyter/jupyter_notebook_config.py\n",
    "```\n",
    "\n",
    "**2. 패스워드 생성**\n",
    "\n",
    "나중에 Jupyter notebook에 접속할 때 사용할 패스워드를 생성할 것이다. \n",
    "\n",
    "```\n",
    "$ ipython \n",
    "\n",
    " In [1]: from notebook.auth import passwd\n",
    " In [2]: passwd()\n",
    " Enter password: datascience\n",
    " Verify password: datascience\n",
    " sha1:6600c5733ef3:b683d6afba16b3403fdf9a75ac38b7d8e7f733bb\n",
    " In [3]: exit\n",
    " \n",
    "```\n",
    "\n",
    " - **sha1:~**로 시작하는 문자열은 입력한 패스워드를 암호화 한 것이다. 이를 복사 해두어야 한다. \n",
    "\n",
    "**3. SSL 적용을 위한 키파일 생성**\n",
    "\n",
    "아래 명령어를 쉘에 입력하고, 출력되는 질문에 아래와 같이 올바른 값들을 입력한다. \n",
    "```\n",
    "$ openssl req -x509 -nodes -days 365 -newkey rsa:1024 -keyout cert.pem -out cert.pem\n",
    "\n",
    "Country Name (2 letter code) [AU]: KO\n",
    "State or Province Name (full name) [Some-State]: Seoul\n",
    "Locality Name (eg, city) []: Seoul\n",
    "Organization Name (eg, company) [Internet Widgits Pty Ltd]: Datascience\n",
    "Organizational Unit Name (eg, section) []: datascience\n",
    "Common Name (e.g. server FQDN or YOUR name) []: YourName\n",
    "Email Address []: youremail@gmail.com\n",
    "```\n",
    "\n",
    "**4. Jupyter 설정 파일 수정**\n",
    "\n",
    "Jupyter 설정 파일을 수정하기위해 필요한 것은, \n",
    "   \n",
    "  - 암호화된 패스워드 \n",
    "  - 생성한 키파일의 위치 정보 ex> /home/ubuntu/cert.pem\n",
    "  - 내부 IP 주소 \n",
    "      - 그림 18.0.14에서 프롬프트 부분을 확인 해보자. `ubuntu@ip-172-31-21-226` 라고 되어 있다. \n",
    "      - 이 중, `172-31-21-226`가 내부 IP이다. 이를 IP형식으로 바꾸어 준다. ex> `172.31.21.226`\n",
    "      \n",
    "이제 Jupyter 설정 파일을 수정하겠다. 아래 명령어를 통해 Jupyter 설정 파일을 열어 준다. \n",
    "```\n",
    "$ sudo vi /home/ubuntu/.jupyter/jupyter_notebook_config.py\n",
    "```\n",
    "\n",
    "파일을 열었다면, 파일의 가장 아래로 가서, 키보드 `i`를 누른다. 그러면, 화면 가장 아래 부분에 `-- INSERT --`가 생긴다. 이제 사용자가 입력을 할 수 있다는 뜻이다. \n",
    "\n",
    "그리고 아래의 내용을 기입한다. 오타가 있으면 오류가 생기기 때문에, Ip에 '.'을 잘 썼는지, ''(따옴표)를 잘 썼는지, 꼭 확인한다.\n",
    "```\n",
    "c.NotebookApp.ip = '172.31.21.226' # 내부 IP 주소\n",
    "c.NotebookApp.open_browser = False \n",
    "c.NotebookApp.password = sha1:6600c5733ef3:b683d6afba16b3403fdf9a75ac38b7d8e7f733bb\n",
    "c.NotebookApp.certfile ='/home/ubuntu/cert.pem'\n",
    "```\n",
    "\n",
    "이렇게까지 설정하면, 이제 Jupyter의 설정은 끝이다. 그러나 아직 jupyter notebook을 실행시켜도 접속이 안될 것이다. 아직 인스턴스에 접속할 수 있게 설정을 하지 않았기 때문이다. "
   ]
  },
  {
   "cell_type": "markdown",
   "metadata": {
    "school_cell_uuid": "dbe9f84a0806495789dfe123f41db770"
   },
   "source": [
    "#### AWS EC2의 인바운드 규칙 설정 \n",
    "\n",
    "EC2 인스턴스의 `8888` 번 포트를 열어줄 것이다. `8888`은 jupyter notebook이 default로 사용하는 포트 번호이다. \n",
    "\n",
    "EC2 대쉬보드에서 `네트워크 및 보안 → 보안 그룹`을 선택한다.  \n",
    "\n",
    "`보안 그룹` 목록 중에서, 설정하려는 인스턴스와 연결되어 있는 보안그룹의 박스를 체크한다. \n",
    "\n",
    "화면 아래에 `설명, 인바운드, 아웃바운드, 태그` 라는 카테고리가 보일 것이다. 이 중 `인바운드`를 클릭한다. \n",
    "\n",
    "`인바운드`를 클리하면 22 번 포트가 열려 있는 것을 볼 수 있을 것이다. 22번 포트는 인스턴스가 만들어질 때 자동으로 설정된다. \n",
    "\n",
    "이제, 편집을 클릭하고 아래 그림 18.0.17번과 같이 설정을 하고 저장을 한다. 세부내용은 아래와 같다. \n",
    "\n",
    "- 유형 : 사용자 지정 TCP 규칙 \n",
    "- 프로토콜 : TCP\n",
    "- 포트범위 : 8888 \n",
    "- 소스 : 내 IP \n",
    "\n",
    "> 여기서 `소스 : 내 IP` 설정은 필자가 보안을 위해 추천하는 것이지 필수적으로 해야하는 것은 아니다. 이렇게 설정했을 때, 주의 해야하는 점은 장소를 옮기거나, 연결했던 인터넷을 바꾼다거나, 어떤 상황에서든 내 IP가 달라지면 그때 그때 바꿔주어야 한다. 이게 귀찮은 사람은 `위치무관`으로 설정해도 되겠지만, AWS해킹은 빈번히 일어나기 때문에, 보안에 항상 큰 주의를 기울여야한다. "
   ]
  },
  {
   "cell_type": "markdown",
   "metadata": {
    "school_cell_uuid": "bf82a5e33313492eaae77fafe8bf7527"
   },
   "source": [
    "<img src=\"https://datascienceschool.net/upfiles/72604901812d404da4a196dfdddd2cb3.png\">"
   ]
  },
  {
   "cell_type": "markdown",
   "metadata": {
    "school_cell_uuid": "d8026420964341cb9fbe62ffa633e95c",
    "sidetitle": true
   },
   "source": [
    "그림 18.0.16 : 보안 그룹 화면 "
   ]
  },
  {
   "cell_type": "markdown",
   "metadata": {
    "school_cell_uuid": "cf2764e310654051b41871c57b1d65c9"
   },
   "source": [
    "<img src=\"https://datascienceschool.net/upfiles/1299f06b94ff4be3a85d8f4139de8407.png\">"
   ]
  },
  {
   "cell_type": "markdown",
   "metadata": {
    "school_cell_uuid": "09f9bd9f87a44758ab756c4a8ce9275f",
    "sidetitle": true
   },
   "source": [
    "그림 18.0.17 : 인바운드 규칙 편집 화면 "
   ]
  },
  {
   "cell_type": "markdown",
   "metadata": {
    "school_cell_uuid": "ccb6c627b8e548f4a509d6f9e3066935"
   },
   "source": [
    "#### Jupyter notebook에 접속 \n",
    "\n",
    "이제 인스턴스에서 Jupyter notebook을 실행시키고, \n",
    "\n",
    "브라우져 주소창에 `https://public-IP:8888` 를 입력해서 들어간다. ex> https://18.218.229.242:8888\n",
    "\n",
    "가장 먼저보이는 화면은(크롬 브라우져를 이용한다면) 그림 18.0.18과 같을 것이다. 우리가 만든 서버에 접속 하는 것이니, 안심하고 그림 18.0.18의 두번째 그림 처럼 `ADVANCED`를 클릭하고 `proceed to 18.218.229.242`를 클릭하면 된다. "
   ]
  },
  {
   "cell_type": "markdown",
   "metadata": {
    "school_cell_uuid": "2b89a0e8933a449e9d9e308ae341e3cf"
   },
   "source": [
    "<img src=\"https://datascienceschool.net/upfiles/d1d988d2c792450bb33482ffe98788eb.png\" style=\"width: 50%;\">\n",
    "<img src=\"https://datascienceschool.net/upfiles/01f1aed0da634ac6a7ed0a98472e77e4.png\" style=\"width: 50%;\">"
   ]
  },
  {
   "cell_type": "markdown",
   "metadata": {
    "school_cell_uuid": "22c4852f0c9648d6853d13ce3df2a418",
    "sidetitle": true
   },
   "source": [
    "그림 18.0.18 : 보안 경고 메세지 화면"
   ]
  },
  {
   "cell_type": "markdown",
   "metadata": {
    "school_cell_uuid": "6f6a0743f6b647fc87a7b262e1c07a40"
   },
   "source": [
    "그러면 Jupyter notebook 서버에 Password를 입력하는 화면이 뜬다.(그림 18.0.19) 비밀번호를 넣고 나면, 이제 Jupyter notebook을 사용할 수 있다. "
   ]
  },
  {
   "cell_type": "markdown",
   "metadata": {
    "school_cell_uuid": "2e492c87656d4cb392bbae675ef417a2"
   },
   "source": [
    "<img src=\"https://datascienceschool.net/upfiles/524682362b284adcb11bac3f9ae1035f.png\" style=\"width: 50%;\">"
   ]
  },
  {
   "cell_type": "markdown",
   "metadata": {
    "school_cell_uuid": "b7d21de702bd4a30b7abf7e82404eaab",
    "sidetitle": true
   },
   "source": [
    "그림 18.0.19 : Jupyter notebook 패스워드 입력 화면 "
   ]
  },
  {
   "cell_type": "markdown",
   "metadata": {
    "school_cell_uuid": "013c8a5977064518ad23e81c85c82550"
   },
   "source": [
    "<img src=\"https://datascienceschool.net/upfiles/a52c32b65d614b37af459e732de1e969.png\">"
   ]
  },
  {
   "cell_type": "markdown",
   "metadata": {
    "school_cell_uuid": "be9a5eabd0b04152969d70063327a533",
    "sidetitle": true
   },
   "source": [
    "그림 18.0.20 : Jupyter notebook"
   ]
  }
 ],
 "metadata": {
  "celltoolbar": "Edit Metadata",
  "kernelspec": {
   "display_name": "Python 3",
   "language": "python",
   "name": "python3"
  },
  "language_info": {
   "codemirror_mode": {
    "name": "ipython",
    "version": 3
   },
   "file_extension": ".py",
   "mimetype": "text/x-python",
   "name": "python",
   "nbconvert_exporter": "python",
   "pygments_lexer": "ipython3",
   "version": "3.6.6"
  }
 },
 "nbformat": 4,
 "nbformat_minor": 1
}