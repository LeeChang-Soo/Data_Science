{
 "cells": [
  {
   "cell_type": "markdown",
   "metadata": {
    "school_cell_uuid": "86cc40d6d25e472cb7d8aa8d7b8ec29c"
   },
   "source": [
    "# LP 문제와 QP 문제"
   ]
  },
  {
   "cell_type": "markdown",
   "metadata": {
    "school_cell_uuid": "c8a9568fe8624adabcc1434e453e81d6"
   },
   "source": [
    "## Linear Programming 문제"
   ]
  },
  {
   "cell_type": "markdown",
   "metadata": {
    "school_cell_uuid": "432440b802e94bceb78d279677616e0b"
   },
   "source": [
    "방정식이나 부등식 제한 조건을 가지는 선형 모형(linear model, linear combination)의 값을 최소화하는 문제를 **LP(Linear Programming)** 문제라고 한다.\n",
    "\n",
    "$$\n",
    "\\begin{eqnarray}\n",
    "\\min_x c^Tx \\\\\n",
    "Ax = b \\\\\n",
    "x \\geq 0\n",
    "\\end{eqnarray}\n",
    "$$\n",
    "\n",
    "LP문제는 여러가지 형태가 존재하는데 위와 같은 형태를 LP 문제의 기본형(standard form)이라고 한다. 마지막 부등식 제한 조건은 벡터 $x$의 모든 원소가 양수거나 0이 되어야 한다는 것을 의미한다. \n",
    "\n",
    "표준형을 확장한 정규형(canonical form)은 부등식 조건을 허용한다.\n",
    "\n",
    "$$\n",
    "\\begin{eqnarray}\n",
    "\\min_x c^Tx \\\\\n",
    "Ax \\leq b \\\\\n",
    "x \\geq 0\n",
    "\\end{eqnarray}\n",
    "$$\n"
   ]
  },
  {
   "cell_type": "markdown",
   "metadata": {
    "school_cell_uuid": "08f95e3aab874ccb9b8495d3a7ad6658"
   },
   "source": [
    "어떤 공장에서 두가지 제품을 생상해야 한다고 하자. \n",
    "\n",
    "* 제품 A와 제품 B 각각 100개 이상 생산해야 한다.\n",
    "* 시간은 500시간 밖에 없다.\n",
    "* 제품 A는 생산하는데 1시간이 걸리고 제품 B는 2시간이 걸린다.\n",
    "* 특정 부품이 9800개밖에 없다.\n",
    "* 제품 A는 생산하는데 특정 부품을 4개 필요로 하고 제품 B는 생산하는데 특정 부품을 5개 필요로 한다. \n",
    "* 제품 A의 이익은 하나당 3만원이고 제품 B의 이익은 하나당 5만원이다.\n"
   ]
  },
  {
   "cell_type": "markdown",
   "metadata": {
    "school_cell_uuid": "2311d8410b544a64af9af167776a2e9a"
   },
   "source": [
    "제품 A와 제품 B의 생산량을 각각 $x_1, x_2$라고 하면 최소화하려는 목적함수는\n",
    "\n",
    "$$ -3x_1 -5x_2 $$\n",
    "\n",
    "이고 제한 조건은 다음과 같다.\n",
    "\n",
    "$$ \n",
    "\\begin{eqnarray}\n",
    "-x_1 & & &\\leq& -100 \\\\\n",
    " & & -x_2 &\\leq& -100 \\\\\n",
    "x_1 &+& 2 x_2 &\\leq& 500 \\\\\n",
    "4x_1 &+& 5 x_2 &\\leq& 9800 \\\\\n",
    "\\end{eqnarray}\n",
    "$$\n",
    "\n",
    "$$ x_1 \\geq 0, \\;\\; x_2 \\geq 0 $$"
   ]
  },
  {
   "cell_type": "markdown",
   "metadata": {
    "school_cell_uuid": "dd6f54b614aa47699f657efce79d2a12"
   },
   "source": [
    "이를 정규형 LP문제로 표현하면 다음처럼 된다.\n",
    "\n",
    "$$\n",
    "\\min_x \\begin{bmatrix} -3 & -5 \\end{bmatrix}\n",
    "\\begin{bmatrix}\n",
    "x_1 \\\\ x_2 \n",
    "\\end{bmatrix}\n",
    "$$\n",
    "\n",
    "$$\n",
    "\\begin{bmatrix}\n",
    "-1 & 0 \\\\\n",
    "0 & -1 \\\\\n",
    "1 & 2 \\\\\n",
    "4 & 5 \\\\\n",
    "\\end{bmatrix}\n",
    "\\begin{bmatrix}\n",
    "x_1 \\\\ x_2 \n",
    "\\end{bmatrix} \\leq\n",
    "\\begin{bmatrix}\n",
    "-100 \\\\ -100 \\\\ 500 \\\\ 9800\n",
    "\\end{bmatrix}\n",
    "$$\n",
    "\n",
    "$$\n",
    "\\begin{bmatrix}\n",
    "x_1 \\\\ x_2\n",
    "\\end{bmatrix}\\geq\n",
    "\\begin{bmatrix}\n",
    "0 \\\\ 0\n",
    "\\end{bmatrix}\n",
    "$$"
   ]
  },
  {
   "cell_type": "markdown",
   "metadata": {
    "school_cell_uuid": "7da16fe626a448dfa82fffca66c92904"
   },
   "source": [
    "scipy.optimize 패키지의 `linprog` 명령을 사용하면 LP 문제를 풀 수 있다. 사용법은 다음과 같다."
   ]
  },
  {
   "cell_type": "code",
   "execution_count": 1,
   "metadata": {
    "school_cell_uuid": "6c558053b6784cf891a4760d64a8e531"
   },
   "outputs": [],
   "source": [
    "A = np.array([[-1, 0], [0, -1], [1, 2], [4, 5]])\n",
    "b = np.array([-100, -100, 500, 9800])\n",
    "c = np.array([-3, -5])"
   ]
  },
  {
   "cell_type": "code",
   "execution_count": 2,
   "metadata": {
    "school_cell_uuid": "f318cfd2fb2f457ba8d6cc958f1998ed"
   },
   "outputs": [
    {
     "data": {
      "text/plain": [
       "     fun: -1400.0\n",
       " message: 'Optimization terminated successfully.'\n",
       "     nit: 4\n",
       "   slack: array([ 200., 8100.,    0.,    0.])\n",
       "  status: 0\n",
       " success: True\n",
       "       x: array([300., 100.])"
      ]
     },
     "execution_count": 2,
     "metadata": {},
     "output_type": "execute_result"
    }
   ],
   "source": [
    "import scipy.optimize\n",
    "result = sp.optimize.linprog(c, A, b)\n",
    "result"
   ]
  },
  {
   "cell_type": "markdown",
   "metadata": {
    "school_cell_uuid": "a553b77a2f8a4b138957fa5fe030422b"
   },
   "source": [
    "제품 A를 300개, 제품 B를 100개 생산할 때 이익이 1400으로 최대가 됨을 알 수 있다."
   ]
  },
  {
   "cell_type": "markdown",
   "metadata": {
    "school_cell_uuid": "4ca784c4be6e43668e6be3b8185d20e0"
   },
   "source": [
    "## Quadratic Programming 문제"
   ]
  },
  {
   "cell_type": "markdown",
   "metadata": {
    "school_cell_uuid": "a54a9fe92a4d4e13ba638b376360d178"
   },
   "source": [
    "방정식이나 부등식 제한 조건을 가지는 일반화된 이차형식(quadratic form)의 값을 최소화하는 문제를 **QP(Quadratic Programming)** 문제라고 한다.\n",
    "\n",
    "$$\n",
    "\\begin{eqnarray}\n",
    "\\arg\\min_x \\dfrac{1}{2}x^TQx + c^Tx \\\\\n",
    "Ax = b \\\\\n",
    "x \\geq 0\n",
    "\\end{eqnarray}\n",
    "$$\n",
    "\n",
    "잔차 제곱합을 최소화하기 위한 데이터 분석 모형은 부가 조건이 있는 경우 대부분 QP 문제가 된다."
   ]
  },
  {
   "cell_type": "markdown",
   "metadata": {
    "school_cell_uuid": "2acb0f873eb64398840d0cbeb91be69c"
   },
   "source": [
    "사실 앞 절에서 풀었던 등식조건이 있는 최적화 문제도 사실은 QP 문제였다.\n",
    "\n",
    "$$ \\arg\\min_x x_1^2 + x_2^2 $$\n",
    "\n",
    "$$ x_1 + x_2 - 1 = 0 $$\n",
    "\n",
    "이 문제를 QP 형식으로 바꾸면 다음과 같다.\n",
    "\n",
    "$$ \n",
    "\\arg\\min_x\n",
    "\\dfrac{1}{2}\n",
    "\\begin{bmatrix}\n",
    "x_1 & x_2\n",
    "\\end{bmatrix}\n",
    "\\begin{bmatrix}\n",
    "2 & 0 \\\\ 0 & 2\n",
    "\\end{bmatrix}\n",
    "\\begin{bmatrix}\n",
    "x_1 \\\\ x_2\n",
    "\\end{bmatrix}\n",
    "+ \n",
    "\\begin{bmatrix}\n",
    "0 & 0\n",
    "\\end{bmatrix}\n",
    "\\begin{bmatrix}\n",
    "x_1 \\\\ x_2\n",
    "\\end{bmatrix}\n",
    "$$\n",
    "\n",
    "$$\n",
    "\\begin{bmatrix}\n",
    "1 & 1\n",
    "\\end{bmatrix}\n",
    "\\begin{bmatrix}\n",
    "x_1 \\\\ x_2\n",
    "\\end{bmatrix} = 1\n",
    "$$"
   ]
  },
  {
   "cell_type": "markdown",
   "metadata": {
    "school_cell_uuid": "ccbe89e9ea474b23b32a779ef232d3b4"
   },
   "source": [
    "파이썬에서는 cvxopt라는 패키지를 사용해서 QP문제를 풀 수 있다. cvxopt를 쓸 때는 numpy 배열을 cvxopt의 matrix 자료형으로 바꿔야 하고 자료값이 정수가 아니라 부동소수점 실수가 되도록 명시해야 한다. "
   ]
  },
  {
   "cell_type": "code",
   "execution_count": 3,
   "metadata": {
    "school_cell_uuid": "36ff0cbf9c554ea1a275806f8a6f0bd5"
   },
   "outputs": [],
   "source": [
    "from cvxopt import matrix, solvers"
   ]
  },
  {
   "cell_type": "code",
   "execution_count": 4,
   "metadata": {
    "school_cell_uuid": "1ebc5b1254e345f5bd72075ada265cd2"
   },
   "outputs": [
    {
     "data": {
      "text/plain": [
       "array([[0.5],\n",
       "       [0.5]])"
      ]
     },
     "execution_count": 4,
     "metadata": {},
     "output_type": "execute_result"
    }
   ],
   "source": [
    "Q = matrix(np.diag([2.0, 2.0]))\n",
    "c = matrix(np.array([0.0, 0.0]))\n",
    "A = matrix(np.array([[1.0, 1.0]]))\n",
    "b = matrix(np.array([[1.0]]))\n",
    "sol = solvers.qp(Q, c, A=A, b=b)\n",
    "np.array(sol['x'])"
   ]
  },
  {
   "cell_type": "markdown",
   "metadata": {
    "bootstrap": {
     "panel": {
      "class": "panel-default"
     }
    },
    "school_cell_uuid": "272ab4f2c3b54460946d74c18ac0761c"
   },
   "source": [
    "#### 연습 문제 6.2.6\n",
    "\n",
    "다음 문제가 QP 문제임을 보이고 $N=3$인 경우에 대해 QP 문제의 $Q$, $c$, $A$, $b$를 각각 구하라.(문제에서 $x$는 벡터이다.)\n",
    "\n",
    "$$\n",
    "\\arg\\min_{a_i} \\left( \\sum_{i=1}^N a_i - \\dfrac{1}{2}\\sum_{i=1}^N\\sum_{j=1}^N a_i a_j y_i y_j x_i^T x_j \\right)\n",
    "$$\n",
    "\n",
    "$$\n",
    "\\sum_{i=1}^N a_i y_i = 0\n",
    "$$\n",
    "\n",
    "$$\n",
    "a_i \\geq 0 \n",
    "$$"
   ]
  }
 ],
 "metadata": {
  "celltoolbar": "Edit Metadata",
  "kernelspec": {
   "display_name": "Python 3",
   "language": "python",
   "name": "python3"
  },
  "language_info": {
   "codemirror_mode": {
    "name": "ipython",
    "version": 3
   },
   "file_extension": ".py",
   "mimetype": "text/x-python",
   "name": "python",
   "nbconvert_exporter": "python",
   "pygments_lexer": "ipython3",
   "version": "3.6.6"
  }
 },
 "nbformat": 4,
 "nbformat_minor": 2
}