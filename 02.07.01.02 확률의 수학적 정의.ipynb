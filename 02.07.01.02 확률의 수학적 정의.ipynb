{
 "cells": [
  {
   "cell_type": "markdown",
   "metadata": {
    "school_cell_uuid": "f3fc624dc4e546499a3767a77760f59d"
   },
   "source": [
    "# 확률의 수학적 정의"
   ]
  },
  {
   "cell_type": "markdown",
   "metadata": {
    "school_cell_uuid": "735e7c3f0ef047fab06188820ef794b8"
   },
   "source": [
    "우리는 초등학교부터 고등학교, 그리고 대학교에 이르기까지 확률에 대한 여러가지 지식을 배운다. 그러나 그 교육과정 어디에도 확률의 수학적 정의를 명확히 서술한 내용은 보기 힘들다. 확률의 수학적 정의를 아는 것은 확률과 관련된 복잡한 문제를 푸는 것 뿐 아니라 지금까지 생각해오던 확률에 대한 관점을 새롭게 환기시키는데도 큰 도움이 된다. 여기에서는 확률의 수학적 정의를 살펴보고 필요한 개념을 소개한다."
   ]
  },
  {
   "cell_type": "markdown",
   "metadata": {
    "school_cell_uuid": "aa11bffe0c594c3b831a208e46827deb"
   },
   "source": [
    "확률을 수학적으로 정의하려면 다음의 3가지 개념을 알아야 한다.\n",
    "\n",
    "* 확률표본\n",
    "* 표본공간\n",
    "* 사건"
   ]
  },
  {
   "cell_type": "markdown",
   "metadata": {
    "school_cell_uuid": "ed409dcdb77941799e8824e731cc0a99"
   },
   "source": [
    "## 표본공간과 확률표본"
   ]
  },
  {
   "cell_type": "markdown",
   "metadata": {
    "school_cell_uuid": "66ca60dd9e9848898436cfb71edc5efc"
   },
   "source": [
    "대부분의 경우 확률을 정의할 때는 우리가 현실에서 해결하고자 하는 문제와 결부하여 정의한다. 예를 들어 다음과 같은 문제들을 생각해보자.\n",
    "\n",
    "1. 동전을 한번 던졌다. 동전이 앞면이 나올 것인가 뒷면인 나올 것인가?\n",
    "2. 플레잉카드(트럼프카드) 뭉치에서 카드 한장을 선택하였다. 이 카드는 어떤 무늬인가?\n",
    "3. 동전을 두 번 던져 나올 수 있는 경우는?\n",
    "4. 약속 날짜를 정하기로 했다. 결정된 날짜가 31일인가 아닌가?\n",
    "5. 과일가게에서 손님이 과일을 하나 샀다. 이 과일은 어떤 과일일까?\n",
    "6. 삼성전자 주식의 가격은 내일 몇% 오를까?\n",
    "7. 회전하는 원반에 화살을 쏘았다. 화살이 박힌 위치의 각도는 기준선에서 몇도 위치인가?\n",
    "8. 체온을 측정하였다. 체온이 몇도일까?\n",
    "\n",
    "이 문제들의 공통점은 답을 100% 확신할 수 없다는 점이다. 어떤 문제는 무엇이 답인지 전혀 예측할 수 없는 것도 있고 어떤 문제는 어느 정도의 정확도 혹은 범위내에 있다고 예측할 수 있는 것도 있다. 확률론은 이러한 문제가 어떤 답을 가질 수 있고 그 답의 신뢰성이 얼마나 되는지 계산하는 정량적인 방법을 제시한다."
   ]
  },
  {
   "cell_type": "markdown",
   "metadata": {
    "school_cell_uuid": "f2af4e5da9ba4d3e863f36e7243bc1d2"
   },
   "source": [
    "이러한 문제들을 확률론적으로 접근하기 위해서는 우선 확률표본(sample)과 표본공간(sample space)을 정의해야 한다.\n",
    "\n",
    "**확률표본(probabilistic sample, random sample)** 또는 **표본(sample)**은 풀고자 하는 확률적 문제에서 **발생(realize)할 수 있는 하나의 현상**, 혹은 **선택(sampled)될 수 있는  하나의 경우**를 말한다. **표본공간(sample space)은 가능한 모든 표본의 집합**을 말한다. 보통 $\\Omega$(대문자 오메가)라는 그리스 문자로 표기한다.\n",
    "\n",
    "표본공간을 정의한다는 것은 우리가 고려하는 범위에서 **어떤 표본(경우, 현상)이 가능하고 어떤 표본이 가능하지 않은가를 정의하는 작업**이다."
   ]
  },
  {
   "cell_type": "markdown",
   "metadata": {
    "hidden": "input",
    "school_cell_uuid": "b1ec2fa2409f4edd818fe3be2c92bcfc"
   },
   "source": [
    "<img src=\"https://datascienceschool.net/upfiles/4dd4b729c3404950a0edd08070162058.png\" style=\"width: 100%\">"
   ]
  },
  {
   "cell_type": "markdown",
   "metadata": {
    "school_cell_uuid": "a9b2fbaef90d4e9c8f02ffd58efc09c5",
    "sidetitle": true
   },
   "source": [
    "그림 7.1.1 : 표본과 표본공간"
   ]
  },
  {
   "cell_type": "markdown",
   "metadata": {
    "school_cell_uuid": "4a16a46239a24eb8adb91a4c2365ef9c"
   },
   "source": [
    "예를 들어 동전 던지기 문제에서는 \"앞면(Head)이 나오는 현상\" 또는 \"뒷면(Tail)이 나오는 결과\"가 각각 표본이 될 수 있다. 이 표본들을 각각 기호 \"H\"와 \"T\"로 표시하기로 하자. 동전이 세로로 서있는 경우나 동전이 대각선으로 서있는 경우 등을 고려할지 고려하지 않을지는 동전 던지기라는 물리현상에 대한 지식과 문제의 필요성에 의해 달라진다. 우리는 일상에서 경험한 지식(데이터)으로 동전이 세로로 서있는 경우나 동전이 대각선으로 서있는 경우가 극히 드물다는 것을 알고 있기 때문에 이러한 경우는 고려할 필요가 없다고 가정할 수 있다. 이때는 표본공간이라는 집합이 \"H\"와 \"T\" 두 가지 원소(표본)로만 구성된다.\n",
    "\n",
    "\n",
    "플레잉카드 문제에서는 다이아몬드(◆), 하트(♥), 스페이드(♠), 클럽(♣) 기호를 이용하여 표본을 표시할 수 있다. \n",
    "\n",
    "이러한 기호를 사용하면 1번과 2번 문제의 표본공간은 다음처럼 표기할 수 있다.\n",
    "\n",
    "$$ \\Omega_1 = \\{ H, T \\} $$\n",
    "$$ \\Omega_2 = \\{ ♦, ♥, ♠, ♣ \\} $$"
   ]
  },
  {
   "cell_type": "markdown",
   "metadata": {
    "bootstrap": {
     "panel": {
      "class": "panel-default"
     }
    },
    "school_cell_uuid": "202febde94224981bda2968ad4229e16"
   },
   "source": [
    "#### 연습 문제 7.1.3\n",
    "\n",
    "1. 3번 문제인 동전을 두 번 던지는 문제를 확률론적으로 접근할 때 표본공간 $\\Omega_3$을 구하라.\n",
    "2. 4번 문제인 약속 날짜 문제에서 결정된 날짜가 31일인가 아닌지 구하는 문제를 확률론적으로 접근할 때 표본공간 $\\Omega_4$을 구하라."
   ]
  },
  {
   "cell_type": "markdown",
   "metadata": {
    "school_cell_uuid": "8b993e19f9c0445d827736b9fade8444"
   },
   "source": [
    "앞에서 이야기한 바와 같이 표본공간은 풀고자하는 문제에 대한 우리의 지식이나 필요성에 따라 달라질 수 있다. 예를 들어 과일가게에서 손님이 산 과일을 맞추는 문제에서 표본공간은 그 과일과게에서 파는 과일에 따라 달라진다. 예를 들어 5번 문제인 과일가게 문제에서 사과(\"A\": Apple)와 오렌지(\"O\": Orange)만 파는 과일가게였다면 표본공간은 다음과 같을 것이다.\n",
    "\n",
    "$$ \\Omega_5 = \\{ A, O \\} $$"
   ]
  },
  {
   "cell_type": "markdown",
   "metadata": {
    "school_cell_uuid": "19746c09574945eb949582a950ec812f"
   },
   "source": [
    "표본이 연속적인 숫자인 경우에는 표본공간이 무한대의 원소를 가질 수 있다. 예를 들어 7번 문제에서 삼성전자의 주식은 한국거래소의 규정에 따라 다음날 -30%부터 30%까지 내리거나 오를 수 있다. 따라서 표본공간은 다음과 같다.\n",
    "\n",
    "$$ \\Omega_6 = \\{ x: -30 \\leq x \\leq 30 \\} $$\n",
    "\n",
    "이 표본공간은 구간내의 모든 실수를 원소로 가지므로 원소의 갯수가 무한대이다.(주: 한국거래소의 규정에 따라 틱사이즈(tick size)라고 부르는 가격단위가 정해저 있으므로 엄격히 말하면 원소의 갯수가 무한대는 아니다. 그러나 여기에서는 이를 무시하기로 하자.)"
   ]
  },
  {
   "cell_type": "markdown",
   "metadata": {
    "bootstrap": {
     "panel": {
      "class": "panel-default"
     }
    },
    "school_cell_uuid": "202febde94224981bda2968ad4229e16"
   },
   "source": [
    "#### 연습 문제 7.1.4\n",
    "\n",
    "1. 각도를 결정하는 7번 문제의 표본공간 $\\Omega_7$는? 이 표본공간의 표본의 갯수는?"
   ]
  },
  {
   "cell_type": "markdown",
   "metadata": {
    "school_cell_uuid": "1f0808bec1704cc287d6c1b64aeeb64d"
   },
   "source": [
    "체온을 결정하는 8번 문제의 경우를 살펴보자. 만약 살아있는 사람이라면 보통 30도에서 45도 사이일 것이다. 그러나 표본공간은 가능성이 0이 아닌 모든 경우(표본)를 포함해야 하므로 30도보다 낮은 경우, 혹은 45도보다 높은 경우가 **절대로 없다**고 말할 수는 없다. 더구나 살아있는 사람이라는 조건도 없다면 냉동된 시체라서 영하의 온도를 가지고 있을 수도 있을 것이다. 따라서 이런 경우에는 수학적인 편의를 위해 실수 전체의 집합을 표본공간으로 잡는 것이 편리하다.\n",
    "\n",
    "$$ \\Omega_8 = \\mathbf{R} $$"
   ]
  },
  {
   "cell_type": "markdown",
   "metadata": {
    "bootstrap": {
     "panel": {
      "class": "panel-default"
     }
    },
    "school_cell_uuid": "202febde94224981bda2968ad4229e16"
   },
   "source": [
    "#### 연습 문제 7.1.5\n",
    "\n",
    "확률론으로 접근할 수 있는 문제와 그 표본공간의 예를 4가지 더 만들어본다. 4가지 문제 중 2가지는 표본공간의 크기가 무한대이어야 한다."
   ]
  },
  {
   "cell_type": "markdown",
   "metadata": {
    "school_cell_uuid": "a7eddb36fdab4527aa03a49a38e4ca57"
   },
   "source": [
    "## 사건"
   ]
  },
  {
   "cell_type": "markdown",
   "metadata": {
    "school_cell_uuid": "2477613bef68434aad81018b54a355d2"
   },
   "source": [
    "**사건(event)**는 **표본공간 $\\Omega$의 부분집합**, 즉, 전체 표본공간 중에서 우리가 관심을 가지고 있는 일부 표본의 집합을 뜻한다.  보통 $A,B, C, \\cdots$ 식으로 대문자 알파벳으로 표기한다."
   ]
  },
  {
   "cell_type": "markdown",
   "metadata": {
    "hidden": "input",
    "school_cell_uuid": "b1ec2fa2409f4edd818fe3be2c92bcfc"
   },
   "source": [
    "<img src=\"https://datascienceschool.net/upfiles/0a82370de26442c0aecd1ce172198beb.png\" style=\"width: 100%\">"
   ]
  },
  {
   "cell_type": "markdown",
   "metadata": {
    "school_cell_uuid": "fe56b25ed59f471f99fe34d1f5b2cd57",
    "sidetitle": true
   },
   "source": [
    "그림 7.1.2 : 사건"
   ]
  },
  {
   "cell_type": "markdown",
   "metadata": {
    "school_cell_uuid": "1ac2d1e5cf964b1eafe80e449a5aafe5"
   },
   "source": [
    "위에서 예로 든 동전 표본공간에서는 가능한 사건(부분집합)은 다음과 같다.\n",
    "\n",
    "$$ A = \\{\\} = \\emptyset $$\n",
    "\n",
    "$$ B = \\{H\\} $$\n",
    "\n",
    "$$ C = \\{T\\} $$\n",
    "\n",
    "$$ D = \\{H, T\\} = \\Omega $$"
   ]
  },
  {
   "cell_type": "markdown",
   "metadata": {
    "school_cell_uuid": "27a0b658008849ec850bf3a2a95c5410"
   },
   "source": [
    "예로 든 $B$라는 사건은 \"동전의 앞면이 나오는 경우\"를 뜻하고 $D$라는 사건은 \"동전의 앞면이 나오거나 뒷면이 나오는 경우\"를 뜻한다.\n",
    "\"~가 나오는 경우\"라고 말할 때 이 **\"경우\"**라는 개념이 바로 사건(부분집합)에 해당한다."
   ]
  },
  {
   "cell_type": "markdown",
   "metadata": {
    "school_cell_uuid": "bd7556069dd14a719abb434011a178f4"
   },
   "source": [
    "파이썬으로 다음처럼 부분집합의 집합을 구현할 수 있다. 부분집합을 set 자료형이 아닌 frozenset 자료형으로 만든 이유는 딕셔너리의 키(key)로 사용하기 위해서이다."
   ]
  },
  {
   "cell_type": "code",
   "execution_count": 1,
   "metadata": {
    "school_cell_uuid": "91e85a355c0e4e46a1550a11d981d0e9"
   },
   "outputs": [
    {
     "data": {
      "text/plain": [
       "{frozenset(), frozenset({'T'}), frozenset({'H'}), frozenset({'H', 'T'})}"
      ]
     },
     "execution_count": 1,
     "metadata": {},
     "output_type": "execute_result"
    }
   ],
   "source": [
    "A = frozenset([])\n",
    "B = frozenset(['H'])\n",
    "C = frozenset(['T'])\n",
    "D = frozenset(['H', 'T'])\n",
    "set([A, B, C, D])"
   ]
  },
  {
   "cell_type": "markdown",
   "metadata": {
    "bootstrap": {
     "panel": {
      "class": "panel-default"
     }
    },
    "school_cell_uuid": "202febde94224981bda2968ad4229e16"
   },
   "source": [
    "#### 연습 문제 7.1.6\n",
    "\n",
    "1. 플레잉카드 한장을 뽑아서 무늬를 결정하는 문제의 표본공간 $\\Omega_2$의 모든 사건을 구하고 이를  `frozenset`의 `set`으로 만든다.\n",
    "2. 동전을 두 번 던지는 문제의 표본공간 $\\Omega_3$의 모든 사건을 구하고 이를  `frozenset`의 `set`으로 만든다."
   ]
  },
  {
   "cell_type": "markdown",
   "metadata": {
    "school_cell_uuid": "909a4e5c3d29404bb9c083afda5654c6"
   },
   "source": [
    "## 확률"
   ]
  },
  {
   "cell_type": "markdown",
   "metadata": {
    "school_cell_uuid": "72708acf7fc94d6abbe206ff0d614ada"
   },
   "source": [
    "**확률(probability)**이란 **사건(부분집합)을 입력하면 숫자(확률값)가 출력되는 함수**이다. 확률이라는 함수의 입력값의 집합 즉, 정의역(domain)은 표본공간의 모든 사건(부분집합)의 집합이다. (주: 엄격한 정의로는 모든 사건의 집합이 아니라 시그마대수(sigma algebra)라는 특별한 사건 집합에 대해서만 정의하면 된다. 하지만 여기에서는 시그마 대수는 고려하지 않기로 한다.)\n",
    "\n",
    "$$ \\text{사건(부분집합)} \\xrightarrow {\\text{확률}} \\text{숫자} $$\n",
    "\n",
    "\n",
    "즉, **모든 각각의 사건(부분집합)에 어떤 숫자를 할당(allocate)하는 함수가 확률**이다. 보통 대문자 알파벳 $P$ 로 나타낸다. 확률 $P$는 함수이고 $P(A)$는 $A$라는 사건(부분집합)에 할당된 숫자를 뜻한다. "
   ]
  },
  {
   "cell_type": "markdown",
   "metadata": {
    "school_cell_uuid": "759177a9f8454b2598048ac329aad952"
   },
   "source": [
    "다만 이 함수는 다음과 같은 세가지 규칙을 지켜야 한다.\n",
    "\n",
    "(1) 모든 사건에 대해 확률은 실수이고 0 또는 양수이다.\n",
    "\n",
    "$$ P(A)\\geq 0 $$\n",
    "\n",
    "(2) 표본공간(전체집합)이라는 사건(부분집합)에 대한 확률은 1이다.\n",
    "\n",
    "$$P(\\Omega) = 1$$\n",
    "\n",
    "(3) 공통 원소가 없는 두 사건의 합집합의 확률은 각각의 사건의 확률의 합이다.\n",
    "\n",
    "$$ A \\cap B = \\emptyset \\;\\;\\; \\rightarrow \\;\\;\\; P(A \\cup B) = P(A) + P(B) $$\n",
    "\n",
    "\n",
    "\n",
    "이 세 가지를 **콜모고로프의 공리(Kolmogorov's axioms)**라고 한다."
   ]
  },
  {
   "cell_type": "markdown",
   "metadata": {
    "hidden": "input",
    "school_cell_uuid": "b1ec2fa2409f4edd818fe3be2c92bcfc"
   },
   "source": [
    "<img src=\"https://datascienceschool.net/upfiles/8536530a03c0445dab7e5cf5e7a50bc6.png\" style=\"width: 100%\">"
   ]
  },
  {
   "cell_type": "markdown",
   "metadata": {
    "school_cell_uuid": "de8f526372d74e9eac515dd458663439",
    "sidetitle": true
   },
   "source": [
    "그림 7.1.3 : 확률"
   ]
  },
  {
   "cell_type": "markdown",
   "metadata": {
    "school_cell_uuid": "616fbc9891cf40dfa895a744a05077ac"
   },
   "source": [
    "예를 들어 표본공간이 $\\Omega=\\{ H, T \\}$일 때 사건(부분집합)  $\\{ H \\}$에 대한 확률값 $P(\\{ H \\})$는 \"H라는 표본이 선택될 확률\"이고 사건(부분집합) $\\{ H, T \\}$에 대한 확률값 $P(\\{ H, T \\})$는 \"H 또는 T라는 표본이 선택될 확률\"이다. 따라서 확률이라는 함수를 정의한다는 것은 \"무엇이 선택될 확률이 얼마인가\"라는 질문에 대한 답을 모든 경우(사건, 부분집합)에 대해 미리 준비해 놓은 것 또는 할당해 놓은 것이라 할 수 있다."
   ]
  },
  {
   "cell_type": "markdown",
   "metadata": {
    "school_cell_uuid": "722233462e6d46c79169dba43af91556"
   },
   "source": [
    "## 확률은 표본이 아닌 사건을 입력으로 가지는 함수"
   ]
  },
  {
   "cell_type": "markdown",
   "metadata": {
    "school_cell_uuid": "40312a801ea4472e9c080306b63dc2d7"
   },
   "source": [
    "확률에 대해 사람들이 흔히 가지고 있는 잘못된 지식은 확률이 **\"표본 하나 하나에 대해 정의되어 있는 숫자\"**라는 것이다. \n",
    "\n",
    "$$ \\text{표본} \\xrightarrow {\\text{확률}} \\text{숫자} \\;\\;(\\text{틀렸음!}) $$\n",
    "\n",
    "즉, 확률을 표본을 입력받아 숫자(확률값)를 출력하는 함수라고 잘못 알고 있다. 예를 들어 주사위를 던져 숫자 1이 나타나는 경우에 대해 다음처럼 생각한다.\n",
    "\n",
    "$$ P(1) = \\dfrac{1}{6} \\;\\;(\\text{틀렸음!}) $$\n",
    "\n",
    "하지만 확률은 표본이 아닌 **사건(부분집합)에 대해** 정의하기 때문에, 이 수식은 **틀렸다**. 올바른 식은 다음과 같다.\n",
    "\n",
    "$$ P(\\{1\\}) = \\dfrac{1}{6} $$"
   ]
  },
  {
   "cell_type": "markdown",
   "metadata": {
    "school_cell_uuid": "f8546ecc32254cdb990a85de04c613cb"
   },
   "source": [
    "## 파이썬을 이용한 확률의 구현"
   ]
  },
  {
   "cell_type": "markdown",
   "metadata": {
    "school_cell_uuid": "fa30d5b35c9546a8a8553adddfc48b32"
   },
   "source": [
    "파이썬에서는 사건을 키(key)로 가지고 숫자를 값(value)으로 가지는 딕셔너리를 사용하여 확률 함수를 구현할 수 있다. 이 때 딕셔너리의 키는 가능한 모든 부분집합이 되어야 한다. 동전의 경우에는 가능한 부분집합의 수가 $A=\\emptyset$, $B=\\{H\\}$, $C=\\{T\\}$, $D=\\{H,T\\}$ 4개이므로 파이썬으로 구현하면 다음과 같다."
   ]
  },
  {
   "cell_type": "code",
   "execution_count": 2,
   "metadata": {
    "school_cell_uuid": "60f49e712993432cb2c629e82ee13d6e"
   },
   "outputs": [
    {
     "data": {
      "text/plain": [
       "{frozenset(): 0,\n",
       " frozenset({'H'}): 0.4,\n",
       " frozenset({'T'}): 0.6,\n",
       " frozenset({'H', 'T'}): 1}"
      ]
     },
     "execution_count": 2,
     "metadata": {},
     "output_type": "execute_result"
    }
   ],
   "source": [
    "P = {A: 0, B: 0.4, C: 0.6, D: 1}\n",
    "P"
   ]
  },
  {
   "cell_type": "markdown",
   "metadata": {
    "school_cell_uuid": "839f3ca502b54313b5b76798fc019f50"
   },
   "source": [
    "이 예에서 동전의 앞면이 나오는 경우에 대해 할당된 확률값이 0.5가 아닌 0.4임에 주의하라. 콜모고로프의 공리만 지킨다면 각각의 사건(부분집합)에 대한 확률값은 어떤 값도 할당해도 된다."
   ]
  },
  {
   "cell_type": "markdown",
   "metadata": {
    "school_cell_uuid": "c98c5721bf1f40c7bfaeb2b72322c19f"
   },
   "source": [
    "위와 같은 할당법이 콜모코로프의 공리를 지키고 있는지 확인해 보자.\n",
    "\n",
    "(1) 모든 확률은 0 이상이다.\n",
    "\n",
    "$$ P(\\emptyset) = 0 \\geq 0 $$\n",
    "\n",
    "$$ P(\\{H\\}) = 0.4 \\geq 0 $$\n",
    "\n",
    "$$ P(\\{T\\}) = 0.6 \\geq 0 $$\n",
    "\n",
    "$$ P(\\{H, T\\}) = 1 \\geq 0 $$\n",
    "\n",
    "따라서 첫번째 공리를 만족한다.\n",
    "\n",
    "\n",
    "(2) 전체집합에 대한 확률은 1이다.\n",
    "\n",
    "$$ P(\\Omega) = P(\\{H, T\\}) = 1 $$\n",
    "\n",
    "따라서 두번째 공리를 만족한다.\n",
    "\n",
    "(3) 교집합이 공집합인 사건(부분집합)의 합집합인 사건의 확률은 각 사건(부분집합)의 확률의 합이다.\n",
    "\n",
    "$$ P(\\{H\\}) = 0.4 = P(\\{H\\} \\cup \\emptyset) = 0.4 + 0 $$\n",
    "\n",
    "$$ P(\\{T\\}) = 0.6 = P(\\{T\\} \\cup \\emptyset) = 0.6 + 0 $$\n",
    "\n",
    "$$ P(\\{H,T\\}) = 1 = P(\\{H,T\\} \\cup \\emptyset) = 1 + 0 $$\n",
    "\n",
    "$$ P(\\{H,T\\}) = 1 = P(\\{H\\} \\cup \\{T\\}) = 0.4 + 0.6 $$\n",
    "\n",
    "교집합이 공집합인 어떤 사건을 선택하더라도 합집합의 확률은 각 사건의 확률의 합과 같다. 따라서 세번째 공리를 만족한다.\n",
    "\n",
    "세가지 공리를 모두 만족시키는 할당법이므로 위 함수는 확률이라고 부를 수 있다."
   ]
  },
  {
   "cell_type": "markdown",
   "metadata": {
    "school_cell_uuid": "861fcb226b0a43d0a2c509b34c744a82"
   },
   "source": [
    "확률은 골동품을 포장해서 파는 가게의 가격에 비유할 수 있다.\n",
    "\n",
    "* 가게에서 파는 하나 하나의 골동품은 표본이다. 모든 골동품은 서로 다르기 때문에 똑같은 물건(표본)은 없다.\n",
    "* 가게에서 파는 모든 골동품의 집합은 표본공간(전체집합)이다.\n",
    "* 사건(부분집합)은 골동품을 넣은 상자를 말한다. 상자안의 골동품 갯수에는 제한이 없다. 상자안의 골동품이 하나가 될 수도 있고 골동품이 없는 빈 포장(공집합)도 가능하다. \n",
    "* 확률은 상자에 붙인 가격표 숫자를 말한다. 가격은 마음대로 붙여도 되지만 다음 규칙을 지켜야 한다.\n",
    "\n",
    "  1. 음수인 가격은 없다. 공짜(0)나 양수이어야 한다.\n",
    "  2. 가게안의 모든 골동품을 하나의 상자에 포장하면 그 상자의 가격은 1이다.\n",
    "  3. 공통적으로 포함된 골동품이 없는 두개의 상자의 가격은 그 두개의 포장에 들어간 골동품을 합쳐서 하나의 상자로 만들었을 때의 가격과 같아야 한다. 즉 상자를 나누거나 합쳤다고 가격이 달라져서는 안된다."
   ]
  },
  {
   "cell_type": "markdown",
   "metadata": {
    "bootstrap": {
     "panel": {
      "class": "panel-default"
     }
    },
    "school_cell_uuid": "202febde94224981bda2968ad4229e16"
   },
   "source": [
    "#### 연습 문제 7.1.7\n",
    "\n",
    "1. 플레잉카드 한장을 뽑아서 무늬를 결정하는 문제에 대해 위와 같이 파이썬으로 확률을 할당하여 본다.\n",
    "2. 동전을 두 번 던지는 문제에 대해 위와 같이 파이썬으로 확률을 할당하여 본다."
   ]
  },
  {
   "cell_type": "markdown",
   "metadata": {
    "school_cell_uuid": "6cac5d35a7f04c2d97eed301966cb2f8"
   },
   "source": [
    "## 주사위 한 면의 확률은 무조건 $\\frac{1}{6}$ ?"
   ]
  },
  {
   "cell_type": "markdown",
   "metadata": {
    "school_cell_uuid": "9789c538406d43259e6a2cb7c4c57082"
   },
   "source": [
    "우리는 주사위의 어떤 한 면이 나올 확률을 $\\frac{1}{6}$이라고 배웠다. 하지만 이 값은 주사위 확률의 하나의 예(example)에 지나지 않으며 다른 확률도 가능하다. \n",
    "여러분 손에 현실의 주사위가 있다고 하자. 그 주사위를 던지면 정말로 특정한 하나의 면이 나올 가능성이 \"정확하게\" 6분의 1일까? 이렇게 묻는다면 대부분은 \"**정확하게는** 그렇지 않다\"고 대답할 것이다. 그 이유는 주사위를 아주 정밀하게 만들지 않으면 어떤 면이 미세하게나마 더 잘나오게 되는 경우가 발생할 수 있다는 사실을 알고 있기 때문이다. 더 극단적인 경우를 생각해 보자. 누군가가 주사위 도박에서 사기를 치기 위해 특수한 주사위를 만들었다고 하자. 이 주사위는 절대로 6이 나오지 않으며  10번을 던지면 5번은 반드시 1이 나오게 만들었다면? 이 때는 확률값이 어떻게 할당되어 있는 상태인가? 이 때는 확률이 다음과 같이 할당되어 있다고 할 수 있다.\n",
    "\n",
    "$$  P(\\{1\\}) = 0.5 $$\n",
    "$$  P(\\{6\\}) = 0 $$\n",
    "\n",
    "이 두 사건을 포함한 다른 모든 사건의 확률이 콜모고로프 정의를 만족한다면 이러한 확률값도 확률의 수학적 정의에 맞는다고 할 수 있다."
   ]
  },
  {
   "cell_type": "markdown",
   "metadata": {
    "school_cell_uuid": "d5005b8483c8441f966e8ed20af32fd7"
   },
   "source": [
    "<img src=\"https://datascienceschool.net/upfiles/da8811e6a6704e6a93ce7c5c6242aeeb.jpeg\" style=\"width: 100%\">"
   ]
  },
  {
   "cell_type": "markdown",
   "metadata": {
    "school_cell_uuid": "ff6f3e5b800f409fafe8ed0712b4f258",
    "sidetitle": true
   },
   "source": [
    "그림 7.1.4 : 영화 타짜(2006, 최동훈 감독)의 한 장면"
   ]
  },
  {
   "cell_type": "markdown",
   "metadata": {
    "school_cell_uuid": "da27d6463e9f4e0a846b3e2b107d5a0d"
   },
   "source": [
    "간단한 예를 들어 1부터 4까지의 숫자만 나오는 4면체 주사위를 생각하자. 이 주사위가 공평한 주사위라면 확률은 다음처럼 할당된다.\n",
    "\n",
    "$$\n",
    "P(\\emptyset) = 0 \\\\\n",
    "P(\\{1\\}) = \\dfrac{1}{4}, \\;\\;\n",
    "P(\\{2\\}) = \\dfrac{1}{4}, \\;\\;\n",
    "P(\\{3\\}) = \\dfrac{1}{4}, \\;\\;\n",
    "P(\\{4\\}) = \\dfrac{1}{4}, \\\\\n",
    "P(\\{1,2\\}) = \\dfrac{1}{2}, \\;\\;\n",
    "P(\\{1,3\\}) = \\dfrac{1}{2}, \\;\\;\n",
    "P(\\{1,4\\}) = \\dfrac{1}{2}, \\;\\;\n",
    "P(\\{2,3\\}) = \\dfrac{1}{2}, \\;\\;\n",
    "P(\\{2,4\\}) = \\dfrac{1}{2}, \\;\\;\n",
    "P(\\{3,4\\}) = \\dfrac{1}{2}, \\\\\n",
    "P(\\{1,2,3\\}) = \\dfrac{3}{4}, \\;\\;\n",
    "P(\\{1,2,4\\}) = \\dfrac{3}{4}, \\;\\;\n",
    "P(\\{1,3,4\\}) = \\dfrac{3}{4}, \\;\\;\n",
    "P(\\{2,3,4\\}) = \\dfrac{3}{4}, \\\\\n",
    "P(\\{1,2,3,4\\}) = 1\n",
    "$$\n",
    "\n",
    "하지만 절대로 1이 나오지 않도록 만들어진 4면체 주사위라면 다음과 같이 확률이 할당되었을 수도 있다.\n",
    "\n",
    "$$\n",
    "P(\\emptyset) = 0 \\\\\n",
    "P(\\{1\\}) = 0, \\;\\;\n",
    "P(\\{2\\}) = \\dfrac{1}{2}, \\;\\;\n",
    "P(\\{3\\}) = \\dfrac{1}{4}, \\;\\;\n",
    "P(\\{4\\}) = \\dfrac{1}{4}, \\\\\n",
    "P(\\{1,2\\}) = \\dfrac{1}{2}, \\;\\;\n",
    "P(\\{1,3\\}) = \\dfrac{1}{4}, \\;\\;\n",
    "P(\\{1,4\\}) = \\dfrac{1}{4}, \\;\\;\n",
    "P(\\{2,3\\}) = \\dfrac{3}{4}, \\;\\;\n",
    "P(\\{2,4\\}) = \\dfrac{3}{4}, \\;\\;\n",
    "P(\\{3,4\\}) = \\dfrac{1}{2}, \\\\\n",
    "P(\\{1,2,3\\}) = \\dfrac{3}{4}, \\;\\;\n",
    "P(\\{1,2,4\\}) = \\dfrac{3}{4}, \\;\\;\n",
    "P(\\{1,3,4\\}) = \\dfrac{3}{4}, \\;\\;\n",
    "P(\\{2,3,4\\}) = 1, \\\\\n",
    "P(\\{1,2,3,4\\}) = 1\n",
    "$$\n",
    "\n",
    "이 할당법은 콜모코로프의 공리를 모두 만족하고 있다.\n",
    "\n",
    "1. 각 확률은 모두 0보다 같거나 크다.\n",
    "2. 전체집합에 할당된 확률은 1이다.\n",
    "3. 교집합이 공집합인 모든 두 부분집합의 확률은 각 부분집합의 확률의 합이다.\n",
    "\n",
    "$$\n",
    "\\begin{eqnarray}\n",
    "P(\\{1,2\\}) &=& \\dfrac{1}{2} &=& P(\\{1\\}) + P(\\{2\\}) &=& 0 + \\dfrac{1}{2} \\\\\n",
    "P(\\{1,3\\}) &=& \\dfrac{1}{4} &=& P(\\{1\\}) + P(\\{3\\}) &=& 0 + \\dfrac{1}{4} \\\\\n",
    "P(\\{1,4\\}) &=& \\dfrac{1}{4} &=& P(\\{1\\}) + P(\\{4\\}) &=& 0 + \\dfrac{1}{4} \\\\\n",
    "P(\\{2,3\\}) &=& \\dfrac{3}{4} &=& P(\\{2\\}) + P(\\{3\\}) &=& \\dfrac{1}{2} + \\dfrac{1}{4} \\\\\n",
    "P(\\{2,4\\}) &=& \\dfrac{3}{4} &=& P(\\{2\\}) + P(\\{4\\}) &=& \\dfrac{1}{2} + \\dfrac{1}{4}  \\\\\n",
    "P(\\{3,4\\}) &=& \\dfrac{1}{2} &=& P(\\{3\\}) + P(\\{4\\}) &=& \\dfrac{1}{4} + \\dfrac{1}{4}  \\\\\n",
    "P(\\{1,2,3\\}) &=& \\dfrac{3}{4} &=& P(\\{1,2\\}) + P(\\{3\\}) &=& \\dfrac{1}{2} + \\dfrac{1}{4} \\\\\n",
    "P(\\{1,2,3\\}) &=& \\dfrac{3}{4} &=& P(\\{1\\}) + P(\\{2,3\\}) &=& 0 + \\dfrac{3}{4} \\\\\n",
    " & & & & \\vdots & &\n",
    "\\end{eqnarray}\n",
    "$$"
   ]
  },
  {
   "cell_type": "markdown",
   "metadata": {
    "bootstrap": {
     "panel": {
      "class": "panel-default"
     }
    },
    "school_cell_uuid": "202febde94224981bda2968ad4229e16"
   },
   "source": [
    "#### 연습 문제 7.1.8\n",
    "\n",
    "두 조건\n",
    "\n",
    "$$  P(\\{1\\}) = 0.5 $$\n",
    "\n",
    "$$  P(\\{6\\}) = 0 $$\n",
    "\n",
    "을 만족하도록 주사위의 확률을 모든 사건(부분집합)에 대해 할당하고 이를 파이썬으로 구현한다."
   ]
  },
  {
   "cell_type": "markdown",
   "metadata": {
    "school_cell_uuid": "a5de08c3c5114190a9d632a74adc7abb"
   },
   "source": [
    "그렇다면 우리는 왜 지금까지 주사위의 한 면이 나올 확률은 무조건 $\\frac{1}{6}$이라고 생각해 왔던 것일까? 그 이유는 확률의 정의와는 관계없는 다음 사실을 가정하고 있기 때문이다. \n",
    "\n",
    "> 주사위가 **공정(fair)한 주사위**이다. 혹은 공정하지 않다고 생각할 수 있는 증거가 아직 없다.\n",
    "\n",
    "주사위가 공정하다면 특정한 주사위 하나의 면이 나올 확률값은 모두 같고 이를 $x$라 하자. \n",
    "\n",
    "$$ P(\\{1\\}) = P(\\{2\\}) = P(\\{3\\}) = P(\\{4\\}) = P(\\{5\\}) = P(\\{6\\}) = x $$\n",
    "\n",
    "그리고 이 사건들은 서로 공통원소가 없고 합집합은 전체 집합이므로 확률의 성질을 이용하여 다음과 같이 각 확률이 $\\frac{1}{6}$임을 구할 수 있다.\n",
    "\n",
    "\n",
    "$$ P(\\{1\\}) + P(\\{2\\}) + P(\\{3\\}) + P(\\{4\\}) + P(\\{5\\}) + P(\\{6\\}) = 6x  = P(\\{1,2,3,4,5,6\\})  = P(\\Omega) = 1 $$\n",
    "\n",
    "$$ x = 1/6$$\n",
    "\n",
    "즉, 이 방법은 확률 값을 만드는 방법의 하나일 뿐이고 현실에서 꼭 이대로 확률 값 즉, 숫자를 배당할 이유는 없다.\n",
    "\n"
   ]
  },
  {
   "cell_type": "markdown",
   "metadata": {
    "school_cell_uuid": "bb07494726344992813ead808b57fd60"
   },
   "source": [
    "이 논리에 따르면 표본의 갯수가 유한하고 각 사건에 대해 원소의 갯수 이외의 아무런 정보가 없다면 각 사건의 확률을 다음과 같다고 보는 것이 타당하다.\n",
    "\n",
    "$$ P(A) = \\dfrac{\\text{card}(A)}{\\text{card}(\\Omega)} $$"
   ]
  },
  {
   "cell_type": "markdown",
   "metadata": {
    "school_cell_uuid": "f71b708f82f64a649eecfcbdd4b90e90"
   },
   "source": [
    "그러나 만약 다른 곳에서 얻은 정보(예: 자연법칙 또는 도메인 지식)이나 표본에 대한 데이터가 존재하는 경우에는 보다 믿을 수 있는 확률값을 계산할 수 있다."
   ]
  },
  {
   "cell_type": "markdown",
   "metadata": {
    "bootstrap": {
     "panel": {
      "class": "panel-default"
     }
    },
    "school_cell_uuid": "dc4958824170497eba5eb43a60ad78e5"
   },
   "source": [
    "#### 연습 문제 7.1.9\n",
    "\n",
    "1. 약속 날짜가 31일인가 아닌가를 결정하는 문제에서 확률을 할당해 보자. \n",
    "2. 사과와 오렌지만 파는 과일가게에서 손님이 선택한 과일이 어떤 과일인지 결정하는 문제에 대해 확률을 할당해 보자. \n",
    "3. 사과와 오렌지만 파는 과일가게에 과일이 100개가 진열되어 있고 이 중 70개가 사과, 30개가 오렌지이다. 손님이 선택한 과일이 어떤 과일인지 결정하는 문제에 대해 확률을 할당해 보자. "
   ]
  }
 ],
 "metadata": {
  "celltoolbar": "Edit Metadata",
  "kernelspec": {
   "display_name": "Python 3",
   "language": "python",
   "name": "python3"
  },
  "language_info": {
   "codemirror_mode": {
    "name": "ipython",
    "version": 3
   },
   "file_extension": ".py",
   "mimetype": "text/x-python",
   "name": "python",
   "nbconvert_exporter": "python",
   "pygments_lexer": "ipython3",
   "version": "3.6.6"
  },
  "toc": {
   "base_numbering": 1,
   "nav_menu": {},
   "number_sections": false,
   "sideBar": true,
   "skip_h1_title": false,
   "title_cell": "Table of Contents",
   "title_sidebar": "Contents",
   "toc_cell": false,
   "toc_position": {},
   "toc_section_display": true,
   "toc_window_display": false
  }
 },
 "nbformat": 4,
 "nbformat_minor": 1
}