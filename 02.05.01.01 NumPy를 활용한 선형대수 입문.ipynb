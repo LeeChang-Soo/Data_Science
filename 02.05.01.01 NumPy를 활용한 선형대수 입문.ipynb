{
 "cells": [
  {
   "cell_type": "markdown",
   "metadata": {
    "school_cell_uuid": "1eee720c2bb548ada1396f9db2b9a09b"
   },
   "source": [
    "# NumPy를 활용한 선형대수 입문"
   ]
  },
  {
   "cell_type": "markdown",
   "metadata": {
    "school_cell_uuid": "de96a921a76b48729d6a31bd1097fa48"
   },
   "source": [
    "선형대수(linear algebra)는 데이터 분석에 필요한 각종 계산을 돕기 위한 학문이다. 데이터 분석을 하려면 수많은 숫자로 이루어진 데이터를 다루어야 한다. 하나의 데이터가 수십 개에서 수만 개의 숫자로 이루어져 있을 수도 있고, 또 이러한 데이터 수만 개가 하나의 집합을 이루고 있을 수도 있다.\n",
    "\n",
    "선형대수를 사용하면 대량의 데이터를 포함하는 복잡한 계산 과정을 몇 글자 되지 않는 간단한 수식으로 서술할 수 있다. 따라서 데이터를 다루는 과정을 정확하고 간단하게 서술할 수 있다. 이를 위해 우선 선형대수에서 사용되는 여러 가지 기호와 개념을 익혀보자."
   ]
  },
  {
   "cell_type": "markdown",
   "metadata": {
    "school_cell_uuid": "4bbfde3fcb9741edae1d64b498655190"
   },
   "source": [
    "## 데이터의 유형"
   ]
  },
  {
   "cell_type": "markdown",
   "metadata": {
    "school_cell_uuid": "34fba9096e4f4d62a4b6807d695f2a39"
   },
   "source": [
    "선형대수에서 다루는 데이터는 개수나 형태에 따라 크게 **스칼라(scalar)**, **벡터(vector)**, **행렬(matrix)**의 세 가지 유형으로 나누어진다. 간단하게 말하자면 스칼라는 숫자 하나로 이루어진 데이터이고, 벡터는 여러 개의 숫자로 이루어진 데이터 레코드(data record)이며, 행렬은 이러한 벡터, 즉 데이터 레코드가 여러 개 있는 데이터 집합이라고 볼 수 있다."
   ]
  },
  {
   "cell_type": "markdown",
   "metadata": {
    "school_cell_uuid": "912994db605548c7a01b87eef4084718"
   },
   "source": [
    "### 스칼라"
   ]
  },
  {
   "cell_type": "markdown",
   "metadata": {
    "school_cell_uuid": "9e2fade84b03467fbbbfe4fd41c5739a"
   },
   "source": [
    "스칼라는 하나의 숫자만으로 이루어진 데이터를 말한다. 예를 들어 어떤 붓꽃 한 송이의 꽃잎 길이를 측정하면 숫자가 하나 나올 것이다. 이 데이터는 스칼라이다. 스칼라는 보통 $x$와 같이 알파벳 소문자로 표기하며 실수(real number)인 숫자 중의 하나이므로 실수 집합 $\\mathbf{R}$의 원소라는 의미에서 다음처럼 표기한다.\n",
    "\n",
    "$$ x \\in \\mathbf{R} $$"
   ]
  },
  {
   "cell_type": "markdown",
   "metadata": {
    "school_cell_uuid": "4eacfbd4a081477e9e7ae1563423e5e2"
   },
   "source": [
    "### 벡터"
   ]
  },
  {
   "cell_type": "markdown",
   "metadata": {
    "school_cell_uuid": "def46f0857a941e68ed20b18e40a81b6"
   },
   "source": [
    "벡터는 여러 개의 숫자가 특정한 순서대로 모여 있는 것을 말한다. 사실 대부분의 데이터 레코드는 여러 개의 숫자로 이루어진 경우가 많다. 예를 들어 붓꽃의 종을 알아내기 위해 크기를 측정할 때, 꽃잎의 길이 $x_1$뿐 아니라 꽃잎의 폭 $x_2$, 꽃받침의 길이 $x_3$, 꽃받침의 폭 $x_4$라는 4개의 숫자를 측정할 수도 있다. 이렇게 측정된 4개의 숫자는 한 송이의 붓꽃에서 나온 데이터이므로 따로따로 다루기보다는 하나의 쌍(tuple)으로 묶어놓는 것이 좋다. 이때 숫자의 순서가 바뀌면 어떤 숫자가 꽃잎의 길이이고 어떤 숫자가 꽃받침의 폭인지 알 수 없으므로 숫자의 순서를 유지하는 것이 중요하다. 이런 데이터 묶음을 선형대수에서는 벡터라고 부른다. \n",
    "\n",
    "붓꽃의 예에서는 4개의 데이터 $(x_1, x_2, x_3, x_4)$가 하나로 묶여 있는데 이를 선형 대수 기호로는 다음처럼 하나의 문자 $x$로 표기한다.\n",
    "\n",
    "$$ \n",
    "x = \\begin{bmatrix}\n",
    "x_{1} \\\\\n",
    "x_{2} \\\\\n",
    "x_{3} \\\\\n",
    "x_{4} \\\\\n",
    "\\end{bmatrix}\n",
    "$$\n",
    "\n",
    "이때 벡터는 복수의 **가로줄, 즉 행(row)**을 가지고 하나의 **세로줄, 즉 열(column)**을 가지는 형태로 위에서 아래로 내려써서 표기해야 한다.\n",
    "\n",
    "하나의 벡터를 이루는 데이터의 개수를 **차원(dimension)**이라고 한다. 위에서 예로 든 $x$는 4개의 실수로 이루어져 있으므로 4차원 실수 벡터라고 하고 다음처럼 표기한다.\n",
    "\n",
    "$$ x \\in \\mathbf{R}^4 $$\n",
    "\n",
    "만약 4개가 아니라 $N$개의 숫자가 모여 있는 경우의 표기는 다음과 같다.\n",
    "\n",
    "$$ \n",
    "x = \\begin{bmatrix}\n",
    "x_{1} \\\\\n",
    "x_{2} \\\\\n",
    "\\vdots \\\\\n",
    "x_{N} \\\\\n",
    "\\end{bmatrix}\n",
    ",\\;\\;\\;\\;\n",
    "x \\in \\mathbf{R}^N\n",
    "$$\n",
    "\n",
    "벡터의 원소가 되는 스칼라 값은 ${}_1$, ${}_2$ 등의 자연수 아래 첨자(sub-script)를 붙여서 원소의 위치를 표시한다.\n",
    "하지만 자연수 아래 첨자가 있다고 무조건 스칼라는 아니다. 마찬가지로 벡터가 여러 개 있으면 서로 다른 벡터를 구별하기 위해 벡터 이름에 아래 첨자를 붙일 수도 있다. 따라서 아래 첨자를 가진 알파벳 소문자 기호는 스칼라일 수도 있고 벡터일 수도 있다. 두 경우는 문맥에 따라 구별해야 한다. 때에 따라서는 스칼라가 아닌 벡터라는 점을 강조하기 위해 볼드체 기호 $\\mathbf{x}$를 사용하기도 한다.\n",
    "\n",
    "$$ \\mathbf{x}  = \\begin{bmatrix}\n",
    "x_{1} \\\\\n",
    "x_{2} \\\\\n",
    "\\vdots \\\\\n",
    "x_{N} \\\\\n",
    "\\end{bmatrix} $$"
   ]
  },
  {
   "cell_type": "markdown",
   "metadata": {
    "school_cell_uuid": "12a82f95f0aa45669959a7af9a32b550"
   },
   "source": [
    "### 특징벡터"
   ]
  },
  {
   "cell_type": "markdown",
   "metadata": {
    "school_cell_uuid": "a77620138ab74f3ba0c1bba22113c055"
   },
   "source": [
    "예를 들어 어떤 붓꽃 표본 한 송이를 꺾어 측정하였더니, 꽃잎의 길이가 5.1cm, 꽃잎의 폭이 3.5cm, 꽃받침의 길이가 1.5cm, 꽃받침의 폭이 0.2cm였다면 이 데이터 쌍을 $x_1$이라고 이름 붙이고 다음처럼 나타낼 수도 있다. \n",
    "\n",
    "$$  x_1 = \n",
    "\\begin{bmatrix}\n",
    "5.1 \\\\\n",
    "3.5 \\\\\n",
    "1.4 \\\\\n",
    "0.2 \\\\  \n",
    "\\end{bmatrix}\n",
    "\\tag{5.1.1}\n",
    "$$\n",
    "\n",
    "또 다른 붓꽃은 다음처럼 다른 데이터를 가질 수 있다.\n",
    "\n",
    "$$  x_2 = \n",
    "\\begin{bmatrix}\n",
    "4.9 \\\\\n",
    "3.0 \\\\\n",
    "1.4 \\\\\n",
    "0.2 \\\\\n",
    "\\end{bmatrix}\n",
    "\\tag{5.1.2}\n",
    "$$\n",
    "\n",
    "만약 이 데이터를 이용하여 붓꽃의 종을 결정하는 예측 문제를 풀고 있다면 이러한 데이터 벡터를 **특징 벡터(feature vector)**라고 한다. NumPy를 사용하여 벡터를 표현할 때는 벡터를 열의 개수가 하나인 2차원 배열 객체로 표현하는 것이 올바르다. 예를 들어 위의 벡터 $x_1$을 NumPy로 표기하면 다음과 같다."
   ]
  },
  {
   "cell_type": "code",
   "execution_count": 1,
   "metadata": {
    "school_cell_uuid": "2e36533cf9d74b889a9f34ee87a74fff"
   },
   "outputs": [
    {
     "data": {
      "text/plain": [
       "array([[5.1],\n",
       "       [3.5],\n",
       "       [1.4],\n",
       "       [0.2]])"
      ]
     },
     "execution_count": 1,
     "metadata": {},
     "output_type": "execute_result"
    }
   ],
   "source": [
    "x1 = np.array([[5.1], [3.5], [1.4], [0.2]])\n",
    "x1"
   ]
  },
  {
   "cell_type": "markdown",
   "metadata": {
    "school_cell_uuid": "994159d55c7941bda21f861ee49a1724"
   },
   "source": [
    "하지만 NumPy는 1차원 배열 객체도 대부분 벡터로 인정한다. 이 때는 벡터가 마치 하나의 행처럼 표시되어도 실제로는 열이라는 점에 주의한다."
   ]
  },
  {
   "cell_type": "code",
   "execution_count": 2,
   "metadata": {
    "school_cell_uuid": "b749f2548cb040e2b6e96cb95690506d"
   },
   "outputs": [
    {
     "data": {
      "text/plain": [
       "array([5.1, 3.5, 1.4, 0.2])"
      ]
     },
     "execution_count": 2,
     "metadata": {},
     "output_type": "execute_result"
    }
   ],
   "source": [
    "x1 = np.array([5.1, 3.5, 1.4, 0.2])\n",
    "x1"
   ]
  },
  {
   "cell_type": "markdown",
   "metadata": {
    "school_cell_uuid": "1a57e5a14f554b2695fc96e0c36a9a8a"
   },
   "source": [
    "그러나 벡터 데이터를 처리하는 프로그램에 따라서 두 가지 표현법 중 열 표기를 정확하게 요구하는 경우도 있으므로 주의해야 한다. 예를 들어  Scikit-learn 패키지에서 벡터를 요구하는 경우에는 반드시 열의 개수가 1개인 2차원 배열 객체를 넣어야 한다."
   ]
  },
  {
   "cell_type": "markdown",
   "metadata": {
    "bootstrap": {
     "panel": {
      "class": "panel-default"
     }
    },
    "school_cell_uuid": "7132bbd23895460ebb740e53f57e4dbb"
   },
   "source": [
    "#### 연습 문제 5.1.1\n",
    "\n",
    "NumPy를 사용해서  붓꽃 데이터 $x_2$에 대한 벡터 변수 ``x2``를 만든다."
   ]
  },
  {
   "cell_type": "markdown",
   "metadata": {
    "school_cell_uuid": "a4791c3f319c43beb94ecce0a42e757a"
   },
   "source": [
    "예측 문제의 입력 데이터는 대부분 벡터로 표시한다. 예를 들어 숫자 이미지를 입력받아 어떤 숫자인지 분류하는 문제에서 이미지는 원래 2차원 데이터이지만 1차원 벡터로 변환할 수 있다. 다음은 8x8 차원의 숫자 0과 1 이미지 4개를 64차원의 벡터로 펼친 것이다. 같은 숫자에 대한 벡터가 서로 닮았다는 점에 주의하라."
   ]
  },
  {
   "cell_type": "code",
   "execution_count": 3,
   "metadata": {
    "school_cell_uuid": "d829f331f7ce4535800a6849fc891d78"
   },
   "outputs": [
    {
     "data": {
      "image/png": "[encoded data removed]",
      "text/plain": [
       "<Figure size 2400x600 with 8 Axes>"
      ]
     },
     "metadata": {},
     "output_type": "display_data"
    }
   ],
   "source": [
    "from sklearn.datasets import load_digits\n",
    "\n",
    "digits = load_digits()\n",
    "samples = [0, 10, 20, 30, 1, 11, 21, 31]\n",
    "d = []\n",
    "for i in range(8):\n",
    "    d.append(digits.images[samples[i]])\n",
    "\n",
    "plt.figure(figsize=(8, 2))\n",
    "for i in range(8):\n",
    "    plt.subplot(1, 8, i + 1)\n",
    "    plt.imshow(d[i], interpolation='nearest', cmap=plt.cm.bone_r)\n",
    "    plt.grid(False); plt.xticks([]); plt.yticks([])\n",
    "    plt.title(\"image {}\".format(i + 1))\n",
    "plt.tight_layout()\n",
    "plt.show()"
   ]
  },
  {
   "cell_type": "code",
   "execution_count": 4,
   "metadata": {
    "school_cell_uuid": "4718358916c74ce58b9e2e392ace4d1b",
    "scrolled": false
   },
   "outputs": [
    {
     "data": {
      "image/png": "[encoded data removed]",
      "text/plain": [
       "<Figure size 2400x2400 with 8 Axes>"
      ]
     },
     "metadata": {},
     "output_type": "display_data"
    }
   ],
   "source": [
    "v = []\n",
    "for i in range(8):\n",
    "    v.append(d[i].reshape(64, 1))\n",
    "    \n",
    "plt.figure(figsize=(8, 8))\n",
    "for i in range(8):\n",
    "    plt.subplot(1, 8, i + 1)\n",
    "    plt.imshow(v[i], aspect=0.4,\n",
    "               interpolation='nearest', cmap=plt.cm.bone_r)\n",
    "    plt.grid(False); plt.xticks([]); plt.yticks([])\n",
    "    plt.title(\"vector {}\".format(i + 1))\n",
    "plt.tight_layout(w_pad=7)\n",
    "plt.show()"
   ]
  },
  {
   "cell_type": "markdown",
   "metadata": {
    "school_cell_uuid": "286c89c2a12f4e1a895833a3b59aa870"
   },
   "source": [
    "### 행렬"
   ]
  },
  {
   "cell_type": "markdown",
   "metadata": {
    "school_cell_uuid": "ae1f233ccc004e5696dff918d6c05884"
   },
   "source": [
    "행렬은 복수의 차원을 가지는 데이터 레코드가 다시 여러 개 있는 경우의 데이터를 합쳐서 표기한 것이다. 예를 들어 앞서 말한 붓꽃 예에서 6개의 붓꽃에 대해 크기를 측정하였다면 4차원 붓꽃 데이터가 6개가 있다. 즉, $4 \\times 6 = 24$개의 실수 숫자가 있는 것이다. 이 숫자 집합을\n",
    " 행렬로 나타내면 다음과 같다. 행렬은 보통 $X$와 같이 알파벳 대문자로 표기한다.\n",
    " \n",
    "$$\n",
    "X = \n",
    "\\begin{bmatrix}\n",
    "\\boxed{\\begin{matrix} x_{1, 1} & x_{1, 2} & x_{1, 3} & x_{1, 4}\\end{matrix}}  \\\\\n",
    "\\begin{matrix} x_{2, 1} & x_{2, 2} & x_{2, 3} & x_{2, 4}\\end{matrix} \\\\\n",
    "\\begin{matrix} x_{3, 1} & x_{3, 2} & x_{3, 3} & x_{3, 4}\\end{matrix} \\\\\n",
    "\\begin{matrix} x_{4, 1} & x_{4, 2} & x_{4, 3} & x_{4, 4}\\end{matrix} \\\\\n",
    "\\begin{matrix} x_{5, 1} & x_{5, 2} & x_{5, 3} & x_{5, 4}\\end{matrix} \\\\\n",
    "\\begin{matrix} x_{6, 1} & x_{6, 2} & x_{6, 3} & x_{6, 4}\\end{matrix} \\\\\n",
    "\\end{bmatrix}\n",
    "$$"
   ]
  },
  {
   "cell_type": "markdown",
   "metadata": {
    "school_cell_uuid": "03542fe8cdc24d31a60b20bc39d00ae2"
   },
   "source": [
    "행렬의 원소 하나하나는 $x_{2, 3}$처럼 두 개의 숫자 쌍을 아래첨자(sub-script)로 붙여서 표기한다. 첫 번째 숫자가 행을 뜻하고 두 번째 숫자가 열을 뜻한다. 예를 들어 $x_{2, 3}$ 는 두번째 행(위에서 아래로 두번째), 세번째 열(왼쪽에서 오른쪽으로 세번째)의 숫자를 뜻한다. 행/열의 개수가 10보다 적을 때는 쉼표 없이 $x_{23}$ 라고 표기할 때도 있다. \n",
    "\n",
    "벡터는 열의 수가 1인 행렬이라고 볼 수 있으므로 벡터를 다른 말로 **열 벡터(column vector)**라고도 한다.\n",
    "\n",
    "데이터를 행렬로 묶어서 표시할 때는 붓꽃 하나에 대한 데이터 레코드, 즉 **하나의 벡터가 열이 아닌 행(row)으로 표시한다.**\n",
    "붓꽃의 예에서는 하나의 데이터 레코드가 4차원 데이터였다는 점을 기억하자.\n",
    "\n",
    "**하나의 데이터 레코드를 단독으로 벡터로 나타낼 때는 하나의 열(column)**로 나타내고 **복수의 데이터 레코드 집합을 행렬로 나타낼 때는 하나의 데이터 레코드가 하나의 행(row)**으로 표기하는 것은 얼핏 보기에는 일관성이 없어 보지만 추후 다른 연산을 할 때 이런 모양이 필요하기 때문이다. 데이터 분석에서 쓰는 일반적인 관례이므로 외워두어야 한다.\n",
    "\n",
    "만약 이 데이터를 이용하여 붓꽃의 종을 결정하는 예측 문제를 풀고 있다면 이 행을 **특징 행렬(feature matrix)**이라고 하기도 한다. 이 행렬의 크기를 수식으로 표시할 때는 다음처럼 \"행의 크기 곱하기 열의 크기\"로 나타낸다.\n",
    "\n",
    "$$ X \\in \\mathbf{R}^{6\\times 4} $$"
   ]
  },
  {
   "cell_type": "markdown",
   "metadata": {
    "school_cell_uuid": "e160cbda1db94dc18bb9c10c73e321a9"
   },
   "source": [
    "**스칼라와 벡터도 수학적으로는 행렬에 속한다**. 스칼라는 열과 행의 수가 각각 1인 행렬이고 벡터는 열의 수가 1인 행렬이다. 그래서 스칼라나 벡터의 크기를 표시할 때 행렬 표기에 따라서 다음처럼 쓸 수도 있다.\n",
    "\n",
    "$$ a \\in \\mathbf{R}^{1\\times 1} $$\n",
    "\n",
    "$$ x \\in \\mathbf{R}^{4\\times 1} $$\n",
    "\n",
    "앞에서 예로 들었던 두 송이의 붓꽃 데이터를 하나의 행렬로 합치면 다음과 같다.\n",
    "\n",
    "$$ \n",
    "X=\n",
    "\\begin{bmatrix}\n",
    "5.1 & 3.5 & 1.4 & 0.2 \\\\\n",
    "4.9 & 3.0 & 1.4 & 0.2 \\\\\n",
    "\\end{bmatrix}\n",
    "\\tag{5.1.3}\n",
    "$$\n",
    "\n",
    "NumPy를 이용하여 행렬을 표기할 때는 2차원 `ndarray` 객체를 사용한다. 예를 들어 다음 행렬 $A$를 NumPy로 나타내면 다음과 같다.\n",
    "\n",
    "$$ \n",
    "A=\n",
    "\\begin{bmatrix}\n",
    "11 & 12 & 13 \\\\\n",
    "21 & 22 & 23 \\\\\n",
    "\\end{bmatrix}\n",
    "$$"
   ]
  },
  {
   "cell_type": "code",
   "execution_count": 5,
   "metadata": {
    "school_cell_uuid": "0ff362ae4e0848059a379051ad5fc5b3"
   },
   "outputs": [
    {
     "data": {
      "text/plain": [
       "array([[11, 12, 13],\n",
       "       [21, 22, 23]])"
      ]
     },
     "execution_count": 5,
     "metadata": {},
     "output_type": "execute_result"
    }
   ],
   "source": [
    "A = np.array([[11,12,13],[21,22,23]])\n",
    "A"
   ]
  },
  {
   "cell_type": "markdown",
   "metadata": {
    "bootstrap": {
     "panel": {
      "class": "panel-default"
     }
    },
    "school_cell_uuid": "fab3d2a3ff4b480baf0b7868dd63b3a9"
   },
   "source": [
    "#### 연습 문제 5.1.2\n",
    "\n",
    "NumPy를 사용해서 붓꽃 데이터 $X$에 대한 행렬 변수 ``X``를 만든다."
   ]
  },
  {
   "cell_type": "markdown",
   "metadata": {
    "school_cell_uuid": "39439dd839364e3bb4d1d438f70b53e9"
   },
   "source": [
    "## 전치 연산"
   ]
  },
  {
   "cell_type": "markdown",
   "metadata": {
    "school_cell_uuid": "f51f9930ebd5494b8ebe8d80ebff9443"
   },
   "source": [
    "이번에는 이러한 스칼라, 벡터, 행렬 데이터를 변형시키는 방법 즉, 연산(operation)에 대해서 알아보자. **전치(transpose)** 연산은 행렬에서 가장 기본이 되는 연산으로 행렬의 **행과 열을 바꾸는 연산**을 말한다. 전치 연산은 벡터나 행렬에 $T$라는 위첨자(super-script)를 붙어서 표기한다. 책에 따라서는 프라임(prime)기호 $'$를 붙이는 경우도 있다. \n",
    "\n",
    "$$ x \\;\\; \\rightarrow \\;\\; x^T \\text{ 또는 } x' $$\n",
    "\n",
    "예를 들어 앞에서 보인 $6\\times 4$ 차원의 행렬을 전치 연산하면 $4\\times 6$ 차원의 행렬이 된다.\n",
    "\n",
    "$$\n",
    "X = \n",
    "\\begin{bmatrix}\n",
    "\\boxed{\\begin{matrix} x_{1, 1} & x_{1, 2} & x_{1, 3} & x_{1, 4}\\end{matrix}}  \\\\\n",
    "\\begin{matrix} x_{2, 1} & x_{2, 2} & x_{2, 3} & x_{2, 4}\\end{matrix} \\\\\n",
    "\\begin{matrix} x_{3, 1} & x_{3, 2} & x_{3, 3} & x_{3, 4}\\end{matrix} \\\\\n",
    "\\begin{matrix} x_{4, 1} & x_{4, 2} & x_{4, 3} & x_{4, 4}\\end{matrix} \\\\\n",
    "\\begin{matrix} x_{5, 1} & x_{5, 2} & x_{5, 3} & x_{5, 4}\\end{matrix} \\\\\n",
    "\\begin{matrix} x_{6, 1} & x_{6, 2} & x_{6, 3} & x_{6, 4}\\end{matrix} \\\\\n",
    "\\end{bmatrix}\n",
    "\\;\\; \\rightarrow \\;\\;\n",
    "X^T = \n",
    "\\begin{bmatrix}\n",
    "\\boxed{\\begin{matrix} x_{1, 1} \\\\ x_{1, 2} \\\\ x_{1, 3} \\\\ x_{1, 4}\\end{matrix}} &\n",
    "\\begin{matrix} x_{2, 1} \\\\ x_{2, 2} \\\\ x_{2, 3} \\\\ x_{2, 4}\\end{matrix} &\n",
    "\\begin{matrix} x_{3, 1} \\\\ x_{3, 2} \\\\ x_{3, 3} \\\\ x_{3, 4}\\end{matrix} &\n",
    "\\begin{matrix} x_{4, 1} \\\\ x_{4, 2} \\\\ x_{4, 3} \\\\ x_{4, 4}\\end{matrix} &\n",
    "\\begin{matrix} x_{5, 1} \\\\ x_{5, 2} \\\\ x_{5, 3} \\\\ x_{5, 4}\\end{matrix} &\n",
    "\\begin{matrix} x_{6, 1} \\\\ x_{6, 2} \\\\ x_{6, 3} \\\\ x_{6, 4}\\end{matrix} &\n",
    "\\end{bmatrix}\n",
    "$$"
   ]
  },
  {
   "cell_type": "markdown",
   "metadata": {
    "school_cell_uuid": "3dede5195fcc495687de2a7cea9aa4cd"
   },
   "source": [
    "전치 연산으로 만든 행렬을 원래 행렬에 대한 전치행렬이라고 한다. (열)벡터 $x$에 대해 전치 연산을 적용하여 만든 $x^T$는 행의 수가 1인 행렬이므로 **행 벡터(row vector)**라고 한다.\n",
    "\n",
    "$$ \n",
    "x = \n",
    "\\begin{bmatrix}\n",
    "x_{1} \\\\\n",
    "x_{2} \\\\\n",
    "\\vdots \\\\\n",
    "x_{N} \\\\\n",
    "\\end{bmatrix}\n",
    "\\; \\rightarrow \\;\n",
    "x^T = \n",
    "\\begin{bmatrix}\n",
    "x_{1} & x_{2} & \\cdots & x_{N}\n",
    "\\end{bmatrix}\n",
    "$$\n",
    "\n",
    "NumPy에서는 `ndarray` 객체의 `T`라는 속성을 이용하여 전치 행렬을 구한다. 이 때 `T`는 메서드(method)가 아닌 속성(attribute)이므로 소괄호 ``()``를 붙여서 호출하면 안된다."
   ]
  },
  {
   "cell_type": "code",
   "execution_count": 6,
   "metadata": {
    "school_cell_uuid": "354a23b55f324a63b030a7665a01f619"
   },
   "outputs": [
    {
     "data": {
      "text/plain": [
       "array([[11, 21],\n",
       "       [12, 22],\n",
       "       [13, 23]])"
      ]
     },
     "execution_count": 6,
     "metadata": {},
     "output_type": "execute_result"
    }
   ],
   "source": [
    "A.T"
   ]
  },
  {
   "cell_type": "markdown",
   "metadata": {
    "school_cell_uuid": "8d34f67cd26c42d1962e566bdbcff1ef"
   },
   "source": [
    "다만 1차원 `ndarray`는 전치 연산이 정의되지 않는다."
   ]
  },
  {
   "cell_type": "code",
   "execution_count": 7,
   "metadata": {
    "school_cell_uuid": "e00eb467cc514d28bd6a0aad46c37e5b"
   },
   "outputs": [
    {
     "data": {
      "text/plain": [
       "array([5.1, 3.5, 1.4, 0.2])"
      ]
     },
     "execution_count": 7,
     "metadata": {},
     "output_type": "execute_result"
    }
   ],
   "source": [
    "x1"
   ]
  },
  {
   "cell_type": "code",
   "execution_count": 8,
   "metadata": {
    "school_cell_uuid": "0b1ebb68f6804663b57f0850c776d979"
   },
   "outputs": [
    {
     "data": {
      "text/plain": [
       "array([5.1, 3.5, 1.4, 0.2])"
      ]
     },
     "execution_count": 8,
     "metadata": {},
     "output_type": "execute_result"
    }
   ],
   "source": [
    "x1.T"
   ]
  },
  {
   "cell_type": "markdown",
   "metadata": {
    "bootstrap": {
     "panel": {
      "class": "panel-default"
     }
    },
    "school_cell_uuid": "adedfad5e707497482b977aaafa1df9e"
   },
   "source": [
    "#### 연습 문제 5.1.3\n",
    "\n",
    "1. NumPy를 사용해서 붓꽃 데이터 $X$의 전치행렬 $X^T$을 구한다.\n",
    "2. NumPy를 사용해서 위 전치행렬을 다시 전치한 행렬 $(X^T)^T$을 구한다. 이 행렬과 원래 행렬 $X$을 비교한다."
   ]
  },
  {
   "cell_type": "markdown",
   "metadata": {
    "school_cell_uuid": "3f056e92c6594898a8f856b188491784"
   },
   "source": [
    "## 행렬의 행 표기법과 열 표기법"
   ]
  },
  {
   "cell_type": "markdown",
   "metadata": {
    "school_cell_uuid": "0d2a6bcd268841e19ab6bea346db8a3c"
   },
   "source": [
    "전치 연산과 행 벡터, 열 벡터를 이용하면 다음처럼 행렬을 복수의 열 벡터 $c_i$, 또는 복수의 행 벡터 $r_j^T$ 을 합친(concatenated) 형태로 표기할 수도 있다.\n",
    "\n",
    "$$\n",
    "X \n",
    "=\n",
    "\\begin{bmatrix}\n",
    "c_1 & c_2 & \\cdots & c_M\n",
    "\\end{bmatrix}\n",
    "=\n",
    "\\begin{bmatrix}\n",
    "r_1^T  \\\\\n",
    "r_2^T  \\\\ \n",
    "\\vdots \\\\ \n",
    "r_N^T  \\\\  \n",
    "\\end{bmatrix}\n",
    "$$\n",
    "\n",
    "위 식에서 행렬과 벡터의 크기는 다음과 같다.\n",
    "\n",
    "$$ X \\in \\mathbf{R}^{N\\times M}$$\n",
    "\n",
    "$$c_i \\in \\mathbf{R}^{N \\times 1} \\; (i=1,\\cdots,M)$$\n",
    "\n",
    "$$r_j^T \\in \\mathbf{R}^{1 \\times M} \\; (j=1,\\cdots,N) $$\n",
    "\n",
    "벡터의 모양을 직사각형으로 표시하면 다음과 같다.\n",
    "\n",
    "$$\n",
    "X = \n",
    "\\begin{bmatrix}\n",
    "\\boxed{\\,c_1\\!\\phantom{\\dfrac{\\raise 1.0em \\mathstrut}{\\lower 1.0em \\mathstrut}}} \\!\\!\\!\\!& \n",
    "\\boxed{\\,c_2\\!\\phantom{\\dfrac{\\raise 1.0em \\mathstrut}{\\lower 1.0em \\mathstrut}}} \\!\\!\\!\\!& \n",
    "\\cdots \\!\\!\\!\\!& \n",
    "\\boxed{c_M\\!\\!\\phantom{\\dfrac{\\raise 1.0em \\mathstrut}{\\lower 1.0em \\mathstrut}}} \\!\\!\\!\\!\\!\\!& \n",
    "\\end{bmatrix}\n",
    "=\n",
    "\\begin{bmatrix}\n",
    "\\boxed{\\;\\;\\;\\;\\;\\;\\;\\; r_1^T \\lower 0.3em \\mathstrut \\;\\;\\;\\;\\;\\;\\;\\;} \\\\ \n",
    "\\boxed{\\;\\;\\;\\;\\;\\;\\;\\; r_2^T \\lower 0.3em \\mathstrut \\;\\;\\;\\;\\;\\;\\;\\;} \\\\ \n",
    "\\vdots \\\\ \n",
    "\\boxed{\\;\\;\\;\\;\\;\\;\\;\\; r_N^T \\lower 0.3em \\mathstrut \\;\\;\\;\\;\\;\\;\\;\\;} \\\\ \n",
    "\\end{bmatrix}\n",
    "$$"
   ]
  },
  {
   "cell_type": "markdown",
   "metadata": {
    "school_cell_uuid": "0a5a099ea938415bbaa6db616313de16"
   },
   "source": [
    "위의 식은 다음과 같은 명제를 수식으로 표현한 것이다.\n",
    "\n",
    "> \"행렬 $X$의 각 열은 $c_1$, $c_2$, $\\ldots$, $c_M$라고 이름 붙인다.\" \n",
    "\n",
    "또는\n",
    "\n",
    "> \"행렬 $X$는 열 벡터 $c_1$, $c_2$, $\\ldots$, $c_M$으로 이루어져 있다.\"\n",
    "\n",
    "행 관점에서는 \n",
    "\n",
    "> \"행렬 $X$의 각 행은 $r_1^T$, $r_2^T$, $\\ldots$, $r_N^T$라고 이름 붙인다.\"\n",
    "\n",
    "또는 \n",
    "\n",
    "> \"행렬 $X$는 행 벡터 $r_1^T$, $r_2^T$, $\\ldots$, $r_N^T$으로 이루어져 있다.\"\n",
    "\n",
    "모든 벡터는 기본적으로 열벡터이므로 $r_i$를 전치 연산하여 $r_i^T$라고 행을 표현한 점에 주의한다."
   ]
  },
  {
   "cell_type": "markdown",
   "metadata": {
    "school_cell_uuid": "972383c2dba74b11969b77e72a9be3b9"
   },
   "source": [
    "예를 들어 행렬\n",
    "$$ \n",
    "X=\n",
    "\\begin{bmatrix}\n",
    "1 & 2 & 3 \\\\\n",
    "4 & 5 & 6\n",
    "\\end{bmatrix}\n",
    "$$\n",
    "은 열 벡터 \n",
    "$$ \n",
    "c_1=\n",
    "\\begin{bmatrix}\n",
    "1 \\\\\n",
    "4 \n",
    "\\end{bmatrix},\n",
    "\\;\n",
    "c_2=\n",
    "\\begin{bmatrix}\n",
    "2 \\\\\n",
    "5 \n",
    "\\end{bmatrix},\n",
    "\\;\n",
    "c_3=\n",
    "\\begin{bmatrix}\n",
    "3 \\\\\n",
    "6 \n",
    "\\end{bmatrix}\n",
    "$$\n",
    "이 합쳐진 것이라고 보거나\n",
    "\n",
    "또는 행 벡터\n",
    "$$ \n",
    "r_1=\n",
    "\\begin{bmatrix}\n",
    "1 & 2 & 3\n",
    "\\end{bmatrix}^T,\n",
    "\\;\n",
    "r_2=\n",
    "\\begin{bmatrix}\n",
    "4 & 5 & 6\n",
    "\\end{bmatrix}^T\n",
    "$$\n",
    "로 구성되었다고 볼 수 있다.\n"
   ]
  },
  {
   "cell_type": "markdown",
   "metadata": {
    "school_cell_uuid": "d4049e92100846ffb681eeee261fa5a5"
   },
   "source": [
    "## 특수한 벡터와 행렬"
   ]
  },
  {
   "cell_type": "markdown",
   "metadata": {
    "school_cell_uuid": "9a644edd79c94aa0a11f9a9a299e8b18"
   },
   "source": [
    "몇가지 특수한 벡터와 행렬은 별도의 기호나 이름이 붙는다. "
   ]
  },
  {
   "cell_type": "markdown",
   "metadata": {
    "school_cell_uuid": "4f1ac234afac44ffa2e84499a8f02874"
   },
   "source": [
    "### 영벡터 "
   ]
  },
  {
   "cell_type": "markdown",
   "metadata": {
    "school_cell_uuid": "4b5d14b4926f4807a7e3f69dd1c65ffe"
   },
   "source": [
    "모든 원소가 0인 $N$차원 벡터는 **영벡터(zeros-vector)**라고 하며 다음처럼 표기한다.\n",
    "\n",
    "$$ \\mathbf{0}_N = \\mathbf{0} = 0 =\n",
    "\\begin{bmatrix}\n",
    "0 \\\\\n",
    "0 \\\\\n",
    "\\vdots \\\\\n",
    "0 \\\\\n",
    "\\end{bmatrix}\n",
    "$$\n",
    "\n",
    "$$ 0 \\in \\mathbf{R}^{N \\times 1} $$\n",
    "\n",
    "문맥으로 벡터의 크기를 알 수 있을 때는 크기를 나타내는 아래 첨자 $N$을 생략할 수 있다."
   ]
  },
  {
   "cell_type": "markdown",
   "metadata": {
    "school_cell_uuid": "e732c35fc5694fd3a926e90694e58d78"
   },
   "source": [
    "### 일벡터 "
   ]
  },
  {
   "cell_type": "markdown",
   "metadata": {
    "school_cell_uuid": "4b5d14b4926f4807a7e3f69dd1c65ffe"
   },
   "source": [
    "모든 원소가 1인 $N$차원 벡터는 **일벡터(ones-vector)**라고 하며 다음처럼 표기한다.\n",
    "\n",
    "$$ \\mathbf{1}_N = \\mathbf{1}  = 1 = \n",
    "\\begin{bmatrix}\n",
    "1 \\\\\n",
    "1 \\\\\n",
    "\\vdots \\\\\n",
    "1 \\\\\n",
    "\\end{bmatrix}\n",
    "$$\n",
    "\n",
    "$$ 1 \\in \\mathbf{R}^{N \\times 1} $$\n",
    "\n",
    "마찬가지로 문맥으로 벡터의 크기를 알 수 있을 때는 크기를 나타내는 아래 첨자 $N$을 생략할 수 있다."
   ]
  },
  {
   "cell_type": "markdown",
   "metadata": {
    "school_cell_uuid": "23f8589e46cd44b98ebbeb5a53187381"
   },
   "source": [
    "### 정방행렬 "
   ]
  },
  {
   "cell_type": "markdown",
   "metadata": {
    "school_cell_uuid": "d0c9afd9eac4451fa91951cee4f99cc9"
   },
   "source": [
    "행의 개수와 열의 개수가 같은 행렬을 **정방행렬(square matrix)**이라고 한다."
   ]
  },
  {
   "cell_type": "markdown",
   "metadata": {
    "school_cell_uuid": "37005036515443fc8a00e442e150c397"
   },
   "source": [
    "### 대각행렬"
   ]
  },
  {
   "cell_type": "markdown",
   "metadata": {
    "school_cell_uuid": "b07dadfc06b54c4ab4822849e3147fe2"
   },
   "source": [
    "행렬에서 행과 열이 같은 위치를 주 대각(main diagonal) 또는 간단히 **대각(diagonal)**이라고 한다. 대각 위치에 있지 않은 것들은 **비대각(off-diagonal)**이라고 한다. 모든 비대각 요소가 0인 행렬을 **대각행렬(diagonal matrix)**이라고 한다.\n",
    "\n",
    "$$ \n",
    "D = \n",
    "\\begin{bmatrix}\n",
    "d_{1} & 0 & \\cdots & 0 \\\\\n",
    "0 & d_{2} & \\cdots & 0 \\\\\n",
    "\\vdots & \\vdots & \\ddots & \\vdots \\\\\n",
    "0 & 0 & \\cdots & d_{N} \\\\\n",
    "\\end{bmatrix}\n",
    "$$\n",
    "\n",
    "$$ D \\in \\mathbf{R}^{N \\times N} $$\n",
    "\n",
    "대각행렬이 되려면 비대각성분이 0이기만 하면 되고 대각성분은 0이든 아니든 상관없다. 또한 반드시 정방행렬일 필요도 없다. \n",
    "예를 들어 다음 행렬도 대각행렬이라고 할 수 있다.\n",
    "\n",
    "$$ \n",
    "D = \n",
    "\\begin{bmatrix}\n",
    "d_{1} & 0 & \\cdots & 0 \\\\\n",
    "0 & d_{2} & \\cdots & 0 \\\\\n",
    "\\vdots & \\vdots & \\ddots & \\vdots \\\\\n",
    "0 & 0 & \\cdots & d_{M} \\\\\n",
    "0 & 0 & \\cdots & 0 \\\\\n",
    "0 & 0 & \\cdots & 0 \\\\\n",
    "0 & 0 & \\cdots & 0 \\\\\n",
    "\\end{bmatrix}\n",
    "$$\n",
    "\n",
    "$$ D \\in \\mathbf{R}^{N \\times M} $$"
   ]
  },
  {
   "cell_type": "markdown",
   "metadata": {
    "school_cell_uuid": "403b5251781046debb031a40a5f25382"
   },
   "source": [
    "NumPy로 대각 정방행렬을 생성하려면 `diag` 명령을 사용한다."
   ]
  },
  {
   "cell_type": "code",
   "execution_count": 9,
   "metadata": {
    "school_cell_uuid": "31b719cb654a4b24ad9668cc69e61e06"
   },
   "outputs": [
    {
     "data": {
      "text/plain": [
       "array([[1, 0, 0],\n",
       "       [0, 2, 0],\n",
       "       [0, 0, 3]])"
      ]
     },
     "execution_count": 9,
     "metadata": {},
     "output_type": "execute_result"
    }
   ],
   "source": [
    "np.diag([1, 2, 3])"
   ]
  },
  {
   "cell_type": "markdown",
   "metadata": {
    "school_cell_uuid": "c3ce1dadc12f40f0bbc179b3dd937988"
   },
   "source": [
    "### 항등행렬\n"
   ]
  },
  {
   "cell_type": "markdown",
   "metadata": {
    "school_cell_uuid": "c3717fedcfe14698a05077c5c230d363"
   },
   "source": [
    "\n",
    "대각행렬 중에서도 모든 대각성분의 값이 1인 대각행렬을 **항등행렬(identity matrix)**이라고 한다. 항등행렬은 보통 알파벳 대문자 $I$로 표기한다.\n",
    "\n",
    "$$ \n",
    "I = \n",
    "\\begin{bmatrix}\n",
    "1 & 0 & \\cdots & 0 \\\\\n",
    "0 & 1 & \\cdots & 0 \\\\\n",
    "\\vdots & \\vdots & \\ddots & \\vdots \\\\\n",
    "0 & 0 & \\cdots & 1 \\\\\n",
    "\\end{bmatrix}\n",
    "$$\n",
    "\n",
    "$$ I \\in \\mathbf{R}^{N \\times N} $$"
   ]
  },
  {
   "cell_type": "markdown",
   "metadata": {
    "school_cell_uuid": "d88242b3df594c20a1d80cdc322974d0"
   },
   "source": [
    "NumPy로 항등행렬을 생성하려면 `identity` 혹은 `eye` 명령을 사용한다."
   ]
  },
  {
   "cell_type": "code",
   "execution_count": 10,
   "metadata": {
    "school_cell_uuid": "a7ccde9759da483cb0de2d00d727501e"
   },
   "outputs": [
    {
     "data": {
      "text/plain": [
       "array([[1., 0., 0.],\n",
       "       [0., 1., 0.],\n",
       "       [0., 0., 1.]])"
      ]
     },
     "execution_count": 10,
     "metadata": {},
     "output_type": "execute_result"
    }
   ],
   "source": [
    "np.identity(3)"
   ]
  },
  {
   "cell_type": "code",
   "execution_count": 11,
   "metadata": {
    "school_cell_uuid": "53ddcb3245394dc39475ebb5bb056dcd"
   },
   "outputs": [
    {
     "data": {
      "text/plain": [
       "array([[1., 0., 0., 0.],\n",
       "       [0., 1., 0., 0.],\n",
       "       [0., 0., 1., 0.],\n",
       "       [0., 0., 0., 1.]])"
      ]
     },
     "execution_count": 11,
     "metadata": {},
     "output_type": "execute_result"
    }
   ],
   "source": [
    "np.eye(4)"
   ]
  },
  {
   "cell_type": "markdown",
   "metadata": {
    "school_cell_uuid": "c474812d92c045a29665babdf157cfe7"
   },
   "source": [
    "### 대칭행렬"
   ]
  },
  {
   "cell_type": "markdown",
   "metadata": {
    "school_cell_uuid": "cd9107a517e44f70bf1b7b1c462ba68f"
   },
   "source": [
    "만약 전치연산을 통해서 얻은 전치행렬과 원래의 행렬이 같으면 **대칭행렬(symmetric matrix)**이라고 한다. 정방행렬만 대칭행렬이 될 수 있다.\n",
    "\n",
    "$$ S^{T} = S $$ \n",
    "\n",
    "$$ S \\in \\mathbf{R}^{N \\times N} $$"
   ]
  },
  {
   "cell_type": "markdown",
   "metadata": {
    "bootstrap": {
     "panel": {
      "class": "panel-default"
     }
    },
    "school_cell_uuid": "b6e0c4131497443792d931e91bee2ede"
   },
   "source": [
    "#### 연습 문제 5.1.4\n",
    "\n",
    "1. 영벡터, 일벡터, 정방행렬, 대각행렬, 항등행렬, 대칭행렬의 예를 하나씩 만들어 본다.\n",
    "2. 위의 벡터와 행렬을 NumPy로 나타내 본다."
   ]
  }
 ],
 "metadata": {
  "celltoolbar": "Edit Metadata",
  "kernelspec": {
   "display_name": "Python 3",
   "language": "python",
   "name": "python3"
  },
  "language_info": {
   "codemirror_mode": {
    "name": "ipython",
    "version": 3
   },
   "file_extension": ".py",
   "mimetype": "text/x-python",
   "name": "python",
   "nbconvert_exporter": "python",
   "pygments_lexer": "ipython3",
   "version": "3.6.6"
  },
  "latex_envs": {
   "LaTeX_envs_menu_present": true,
   "autoclose": false,
   "autocomplete": true,
   "bibliofile": "biblio.bib",
   "cite_by": "apalike",
   "current_citInitial": 1,
   "eqLabelWithNumbers": true,
   "eqNumInitial": 1,
   "hotkeys": {
    "equation": "Ctrl-E",
    "itemize": "Ctrl-I"
   },
   "labels_anchors": false,
   "latex_user_defs": false,
   "report_style_numbering": false,
   "user_envs_cfg": false
  },
  "toc": {
   "base_numbering": 1,
   "nav_menu": {},
   "number_sections": false,
   "sideBar": true,
   "skip_h1_title": false,
   "title_cell": "Table of Contents",
   "title_sidebar": "Contents",
   "toc_cell": false,
   "toc_position": {},
   "toc_section_display": true,
   "toc_window_display": false
  }
 },
 "nbformat": 4,
 "nbformat_minor": 1
}