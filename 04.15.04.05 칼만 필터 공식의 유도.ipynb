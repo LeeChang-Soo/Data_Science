{
 "cells": [
  {
   "cell_type": "markdown",
   "metadata": {
    "school_cell_uuid": "db50cb3b9b0849cb95b77b59d2824264"
   },
   "source": [
    "# 칼만 필터 공식의 유도"
   ]
  },
  {
   "cell_type": "markdown",
   "metadata": {
    "school_cell_uuid": "b63374acb3934a12bed73f18af1eeba2"
   },
   "source": [
    "## 칼만 필터 공식"
   ]
  },
  {
   "cell_type": "markdown",
   "metadata": {
    "school_cell_uuid": "d26c4d804b064101a575222a7b4579f0"
   },
   "source": [
    "### 동적 선형 모형"
   ]
  },
  {
   "cell_type": "markdown",
   "metadata": {
    "school_cell_uuid": "dc29be150e8641d99815a009eb81ccc3"
   },
   "source": [
    "$$\n",
    "\\begin{eqnarray}\n",
    "x_{t} &=& \\Phi_t x_{t-1} &+& w_t &,\\;\\;\\; & w_t \\sim \\mathcal{N}(0, W_t)\\\\\n",
    "y_{t} &=& A_t x_{t} &+& v_t &,\\;\\;\\; & v_t \\sim \\mathcal{N}(0, V_t) \\\\\n",
    "\\end{eqnarray}\n",
    "$$"
   ]
  },
  {
   "cell_type": "markdown",
   "metadata": {
    "school_cell_uuid": "e28a785b5b1d4c288b82aa9934a955af"
   },
   "source": [
    "### 초기 상태 분포"
   ]
  },
  {
   "cell_type": "markdown",
   "metadata": {
    "school_cell_uuid": "bc08e0cbda92413dbc685a698089521a"
   },
   "source": [
    "$$\n",
    "x_{t-1} \\sim \\mathcal{N}(m_{t-1}, C_{t-1})\n",
    "$$"
   ]
  },
  {
   "cell_type": "markdown",
   "metadata": {
    "school_cell_uuid": "0b2fc046869c4424a33059763b2c9e7e"
   },
   "source": [
    "### 상태 예측"
   ]
  },
  {
   "cell_type": "markdown",
   "metadata": {
    "school_cell_uuid": "478bd1b3ffc84250bf6407ce0dc97b6c"
   },
   "source": [
    "$a_t$는 $y_1, \\ldots, y_{t-1}$ 에 대한 $x_t$ 의 조건부 기댓값 (예측값)\n",
    "\n",
    "$$ a_t = \\text{E}[ x_t \\mid y_1, \\ldots, y_{t-1} ] $$\n",
    "\n",
    "$R_t$는 $y_1, \\ldots, y_{t-1}$ 에 대한 $x_t$ 의 조건부 분산 행렬\n",
    "\n",
    "$$ R_t = \\text{Var}[ x_t \\mid y_1, \\ldots, y_{t-1} ] $$"
   ]
  },
  {
   "cell_type": "markdown",
   "metadata": {
    "school_cell_uuid": "94c4d4231aa547c5bc61f0c6be0eb7d8"
   },
   "source": [
    "$$\n",
    "a_t = \\Phi_t m_{t-1}\n",
    "$$\n",
    "\n",
    "$$\n",
    "R_t = \\Phi_t C_{t-1} \\Phi_t^T m_{t-1} + W_t\n",
    "$$"
   ]
  },
  {
   "cell_type": "markdown",
   "metadata": {
    "school_cell_uuid": "e8ac0642ab334bd88eb56ae20979241a"
   },
   "source": [
    "### 출력 예측"
   ]
  },
  {
   "cell_type": "markdown",
   "metadata": {
    "school_cell_uuid": "b2ff705ba87c4d3798c1abe546e3abb0"
   },
   "source": [
    "$f_t$는 $y_1, \\ldots, y_{t-1}$ 에 대한 $y_t$ 의 조건부 기댓값 (예측값)\n",
    "\n",
    "$$ y_t = \\text{E}[ y_t \\mid y_1, \\ldots, y_{t-1} ] $$\n",
    "\n",
    "$Q_t$는 $y_1, \\ldots, y_{t-1}$ 에 대한 $y_t$ 의 조건부 분산 행렬\n",
    "\n",
    "$$ Q_t = \\text{Var}[ y_t \\mid y_1, \\ldots, y_{t-1} ] $$"
   ]
  },
  {
   "cell_type": "markdown",
   "metadata": {
    "school_cell_uuid": "c423c52b0bf14eb7b804d4b01ee826da"
   },
   "source": [
    "$$\n",
    "f_t = A_t a_{t}\n",
    "$$\n",
    "\n",
    "$$\n",
    "Q_t = A_t R_{t} A_t^T + V_t\n",
    "$$"
   ]
  },
  {
   "cell_type": "markdown",
   "metadata": {
    "school_cell_uuid": "d16e4d44810148e18454ee87a538a473"
   },
   "source": [
    "### 상태 보정"
   ]
  },
  {
   "cell_type": "markdown",
   "metadata": {
    "school_cell_uuid": "cc4478247f2a47b385351436e9141a34"
   },
   "source": [
    "$e_t$는 출력 오차 \n",
    "$$ e_t = y_t - f_t $$"
   ]
  },
  {
   "cell_type": "markdown",
   "metadata": {
    "school_cell_uuid": "17a0c6404fc14d5fa2c6b02c07dd680e"
   },
   "source": [
    "$$\n",
    "m_t = a_{t} + R_t A_t^T Q_t^{-1} e_t\n",
    "$$\n",
    "\n",
    "$$\n",
    "C_t = R_{t} - R_t A_t^T Q_t^{-1} A_t R_t \n",
    "$$"
   ]
  },
  {
   "cell_type": "markdown",
   "metadata": {
    "school_cell_uuid": "cc38a1dad4194ae4911464ee7d11e3cf"
   },
   "source": [
    "## 증명"
   ]
  },
  {
   "cell_type": "markdown",
   "metadata": {
    "school_cell_uuid": "88d9ea7de3b841469f35827713087c27"
   },
   "source": [
    "동적 선형 모형의 확률 변수 $x_0, x_1, \\ldots, x_t, Y_1, \\ldots, Y_t$ 는 다음 조건을 만족한다.\n",
    "\n",
    "1. $x_t$는 $x_{t-1}$에만 의존하며 $x_0, x_1, \\ldots, x_{t-2}$와 독립이다. \n",
    "2. $Y_t$는 $x_{t}$에만 의존하며 다른 모든 확률 변수와 $x_{t}$-조건부 독립이다.(independent conditional to $x_t$)"
   ]
  },
  {
   "cell_type": "markdown",
   "metadata": {
    "school_cell_uuid": "5c54742ab449470a93974df20611df78"
   },
   "source": [
    "### 가우시안 정규 분포 증명"
   ]
  },
  {
   "cell_type": "markdown",
   "metadata": {
    "school_cell_uuid": "4bfe697c8641412cb4b4c482ab101138"
   },
   "source": [
    "이 때 전체 확률 변수 의 결합 확률 분포는 다음과 같다.\n",
    "\n",
    "$$\n",
    "\\begin{eqnarray}\n",
    "p(x_0, x_1, \\ldots, x_t, y_1, \\ldots, y_t)\n",
    "&=& p(y_1, \\ldots, y_t \\mid x_0, x_1, \\ldots, x_t) \\; p(x_0, x_1, \\ldots, x_t) \\\\\n",
    "&=& \\left( \\prod_{j=1}^t  p(y_j \\mid x_0, x_1, \\ldots, x_t) \\right) \\; \\left( p(x_0) \\prod_{j=1}^t p(x_j \\mid x_0, \\ldots, x_{j-1}) \\right) \\\\\n",
    "&=& \\left( \\prod_{j=1}^t  p(y_j \\mid x_j ) \\right) \\; \\left( p(x_0) \\prod_{j=1}^t p(x_j \\mid x_{j-1}) \\right) \\\\\n",
    "&=& p(x_0) \\prod_{j=1}^t p(x_j \\mid x_{j-1}) \\; p(y_j \\mid x_j ) \\\\\n",
    "\\end{eqnarray}\n",
    "$$"
   ]
  },
  {
   "cell_type": "markdown",
   "metadata": {
    "school_cell_uuid": "e338d9995f4f491faa8c79a1b280dfbd"
   },
   "source": [
    "$p(x_0), p(x_j \\mid x_{j-1}), p(y_j \\mid x_j )$ 이 모두 가우시안 정규 분포이므로 곱한 결과도 가우시안 정규 분포"
   ]
  },
  {
   "cell_type": "markdown",
   "metadata": {
    "school_cell_uuid": "feab9935e39847d59a702d4484b01c0e"
   },
   "source": [
    "### 상태 예측식 증명"
   ]
  },
  {
   "cell_type": "markdown",
   "metadata": {
    "school_cell_uuid": "ae709d4ad29d4155b0ce275e17d4fc52"
   },
   "source": [
    "iterated expectation 에서\n",
    "\n",
    "$$\n",
    "\\begin{eqnarray}\n",
    "a_t \n",
    "&=& \\text{E} [ x_t \\mid y_1, \\ldots, y_{t-1} ] \\\\\n",
    "&=& \\text{E} [ \\text{E} [x_t \\mid x_{t-1}, y_1, \\ldots, y_{t-1}] \\mid y_1, \\ldots, y_{t-1} ] \\\\\n",
    "&=& \\text{E} [ \\Phi_t x_{t-1} \\mid y_1, \\ldots, y_{t-1} ] \\\\\n",
    "&=& \\Phi_t  \\text{E} [ x_{t-1} \\mid y_1, \\ldots, y_{t-1} ] \\\\\n",
    "&=& \\Phi_t m_{t-1} \\\\\n",
    "\\end{eqnarray}\n",
    "$$"
   ]
  },
  {
   "cell_type": "markdown",
   "metadata": {
    "school_cell_uuid": "0e51d6cd538e483c85f693ae1f66cc4b"
   },
   "source": [
    "law of total variance 에서\n",
    "\n",
    "$$\n",
    "\\begin{eqnarray}\n",
    "R_t \n",
    "&=& \\text{Var} [ x_t \\mid y_1, \\ldots, y_{t-1} ] \\\\\n",
    "&=& \\text{E} [ \\text{Var} [x_t \\mid x_{t-1}, y_1, \\ldots, y_{t-1}] \\mid y_1, \\ldots, y_{t-1} ] +\n",
    "    \\text{Var} [ \\text{E} [x_t \\mid x_{t-1}, y_1, \\ldots, y_{t-1}] \\mid y_1, \\ldots, y_{t-1} ] \\\\\n",
    "&=& W_t + \\Phi_t C_{t-1} \\Phi_t^T\n",
    "\\end{eqnarray}\n",
    "$$"
   ]
  },
  {
   "cell_type": "markdown",
   "metadata": {
    "school_cell_uuid": "b65d2c70942541bcbdc34bebdc0a4358"
   },
   "source": [
    "### 출력 예측식 증명"
   ]
  },
  {
   "cell_type": "markdown",
   "metadata": {
    "school_cell_uuid": "ba8056e64ebb485ca34585cbb6075127"
   },
   "source": [
    "iterated expectation 에서\n",
    "\n",
    "$$\n",
    "\\begin{eqnarray}\n",
    "f_t \n",
    "&=& \\text{E} [ y_t \\mid y_1, \\ldots, y_{t-1} ] \\\\\n",
    "&=& \\text{E} [ \\text{E} [y_t \\mid x_{t}, y_1, \\ldots, y_{t-1}] \\mid y_1, \\ldots, y_{t-1} ] \\\\\n",
    "&=& \\text{E} [ A_t x_{t} \\mid y_1, \\ldots, y_{t-1} ] \\\\\n",
    "&=& A_t  \\text{E} [ x_{t} \\mid y_1, \\ldots, y_{t-1} ] \\\\\n",
    "&=& A_t a_{t} \\\\\n",
    "\\end{eqnarray}\n",
    "$$"
   ]
  },
  {
   "cell_type": "markdown",
   "metadata": {
    "school_cell_uuid": "9724405ffbb146c792c0739542f53fcb"
   },
   "source": [
    "law of total variance 에서\n",
    "\n",
    "$$\n",
    "\\begin{eqnarray}\n",
    "Q_t \n",
    "&=& \\text{Var} [ y_t \\mid y_1, \\ldots, y_{t-1} ] \\\\\n",
    "&=& \\text{E} [ \\text{Var} [y_t \\mid x_{t}, y_1, \\ldots, y_{t-1}] \\mid y_1, \\ldots, y_{t-1} ] +\n",
    "    \\text{Var} [ \\text{E} [y_t \\mid x_{t}, y_1, \\ldots, y_{t-1}] \\mid y_1, \\ldots, y_{t-1} ] \\\\\n",
    "&=& V_t + A_t R_{t} A_t^T\n",
    "\\end{eqnarray}\n",
    "$$"
   ]
  },
  {
   "cell_type": "markdown",
   "metadata": {
    "school_cell_uuid": "0d06b9627df34a23bced6b27f5f7445d"
   },
   "source": [
    "### 출력 보정식 증명"
   ]
  },
  {
   "cell_type": "markdown",
   "metadata": {
    "school_cell_uuid": "2b72d3d3ddb34104a8f497c6fe3d0da3"
   },
   "source": [
    "출력 $y_t$가 존재하게 되었다는 것은 \n",
    "\n",
    "다음과 같은 선형 회귀 문제를 사전 분포가 $\\mathcal{N}(a_t, R_t)$라고 가정하고 베이지안 추정법으로 푸는 것과 같다.\n",
    "\n",
    "$$ y_t = A_t x_t + v_t $$ "
   ]
  },
  {
   "cell_type": "markdown",
   "metadata": {
    "school_cell_uuid": "4cc00de3355d4d43b59d43c0a5e23f4a"
   },
   "source": [
    "이 문제의 해답은 다음과 같다."
   ]
  },
  {
   "cell_type": "markdown",
   "metadata": {
    "school_cell_uuid": "3255bd61470c4f14a4b63249a9d4e241"
   },
   "source": [
    "$$\n",
    "\\begin{eqnarray}\n",
    "m_t \n",
    "&=& a_{t-1} + R_t A_t^T (A_tR_tA_t^T + V)^{-1} (y_t - A_t a_t) \\\\\n",
    "&=& a_{t-1} + R_t A_t^T Q_t^{-1} e_t \\\\\n",
    "\\end{eqnarray}\n",
    "$$"
   ]
  },
  {
   "cell_type": "markdown",
   "metadata": {
    "school_cell_uuid": "dc6d8cb4931142fd9aabf847e0aee779"
   },
   "source": [
    "$$\n",
    "\\begin{eqnarray}\n",
    "C_t \n",
    "&=& R_t + R_t A_t^T (A_tR_tA_t^T + V)^{-1} A_t R_t \\\\\n",
    "&=& R_t + R_t A_t^T Q_t^{-1} A_t R_t \\\\\n",
    "\\end{eqnarray}\n",
    "$$"
   ]
  }
 ],
 "metadata": {
  "kernelspec": {
   "display_name": "Python 2",
   "language": "python",
   "name": "python2"
  },
  "language_info": {
   "codemirror_mode": {
    "name": "ipython",
    "version": 2
   },
   "file_extension": ".py",
   "mimetype": "text/x-python",
   "name": "python",
   "nbconvert_exporter": "python",
   "pygments_lexer": "ipython2",
   "version": "2.7.11"
  }
 },
 "nbformat": 4,
 "nbformat_minor": 0
}