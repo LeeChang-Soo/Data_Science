{
 "cells": [
  {
   "cell_type": "markdown",
   "metadata": {
    "school_cell_uuid": "5f56b14c66334e0a98e274cf525a965e"
   },
   "source": [
    "# 가우시안 정규 분포와 통계량 분포의 용도"
   ]
  },
  {
   "cell_type": "markdown",
   "metadata": {
    "school_cell_uuid": "6c0b71dbf62c4a12bdcdf4a83ee93c21"
   },
   "source": [
    "## 가우시안 정규 분포의 용도"
   ]
  },
  {
   "cell_type": "markdown",
   "metadata": {
    "school_cell_uuid": "e79fc95e08174393b2c8007c98f74c48"
   },
   "source": [
    "가우시안 정규 분포는 선형회귀모형에서 잡음(disturbance)을 모형화하는데 사용된다.\n",
    "\n",
    "선형회귀모형은 입력변수 $x_1, \\ldots, x_N$이 종속변수 $y$에 선형적으로 영향을 미치는 모형이다.\n",
    "\n",
    "$$ \\hat{y} = w_1 x_1 +  \\ldots + w_N x_N \\approx y $$\n",
    "\n",
    "이 모형은 다음과 같이 표현할 수 있다.\n",
    "\n",
    "$$ y = w_1 x_1 +  \\ldots + w_N x_N + \\epsilon $$\n",
    "\n",
    "$\\epsilon$은 **잡음(disturbance)이라고 하며 우리가 값을 측정할 수 없는 입력변수**를 뜻한다.\n",
    "\n",
    "잡음은 선형회귀모형을 만들 때 하나하나의 영향력이 작거나 일일히 측정하기 힘들어서 무시하는 수많은 변수들의 영향을 하나로 합친 것이다. 즉 원래 $y$ 값은 $x_1, \\ldots, x_N, \\ldots$의 거의 무한한 갯수의 입력변수의 영향을 받는다.\n",
    "\n",
    "$$ y = w_1 x_1 +  \\ldots + w_N x_N + w_{N+1} x_{N+1} + w_{N+2} x_{N+2} + \\ldots  $$\n",
    "\n",
    "하지만 이 중에서 입력변수 $x_1, \\ldots, x_N$만이 영향력이 크거나 측정이 쉽다면 다른 변수의 영향은 하나의 확률변수라고 합쳐서 표현할 수 있다.\n",
    "\n",
    "$$ \\epsilon = w_{N+1} x_{N+1} + w_{N+2} x_{N+2} +  \\ldots  $$\n",
    "\n",
    "중심 극한 정리에 의해 임의의 확률변수의 합은 가우시안 정규 분포와 비슷한 형태가 된다. 또한 $\\epsilon$의 기댓값이 0이 아니라면 다음처럼 상수항 $w_0 = \\text{E}[\\epsilon]$을 추가하는 대신 $\\epsilon$의 기댓값이 0이라고 할 수 있기 때문에 \n",
    "\n",
    "$$ y = w_0 + w_1 x_1 +  \\ldots + w_N x_N + \\epsilon  $$\n",
    "\n",
    "**잡음 $\\epsilon$이 기댓값이 0인 가우시안 정규분포라고 가정**하는 것은 합리적이다.\n",
    "\n",
    "$$ \\epsilon \\sim \\mathcal{N}(0, \\sigma^2) $$"
   ]
  },
  {
   "cell_type": "markdown",
   "metadata": {
    "school_cell_uuid": "5f9555408b7a4dbfa95453802567299c"
   },
   "source": [
    "<img src=\"https://datascienceschool.net/upfiles/cddc84375f944de58e60dd4f9b3c91db.png\" style=\"width:100%;\">"
   ]
  },
  {
   "cell_type": "markdown",
   "metadata": {
    "school_cell_uuid": "6abf512dae2c4104b49259acd879aff6",
    "sidetitle": true
   },
   "source": [
    "그림 8.3.1 : 선형회귀모형"
   ]
  },
  {
   "cell_type": "markdown",
   "metadata": {
    "school_cell_uuid": "e9b1dbd537294c36b8f44cb69a3e3175"
   },
   "source": [
    "## 통계량 분포의 용도"
   ]
  },
  {
   "cell_type": "markdown",
   "metadata": {
    "school_cell_uuid": "d4f22f4fe0c34724bf9c010a681031db"
   },
   "source": [
    "스튜던트 t 분포, 카이 제곱 분포, F 분포는 모두 가우시안 정규 분포의 통계량 분포(statistics distribution)의 일종이다."
   ]
  },
  {
   "cell_type": "markdown",
   "metadata": {
    "school_cell_uuid": "c2def00e6b7d40c59110a33f71b1b7d5"
   },
   "source": [
    "<img src=\"https://datascienceschool.net/upfiles/adf2c80f3c8a4a0f9ec76800ffc4bb65.png\" style=\"width:100%;\">"
   ]
  },
  {
   "cell_type": "markdown",
   "metadata": {
    "school_cell_uuid": "b72bd6ee37db423bafea3bd443987d79",
    "sidetitle": true
   },
   "source": [
    "그림 8.3.2 : 가우시안 정규 분포와 통계량 분포"
   ]
  },
  {
   "cell_type": "markdown",
   "metadata": {
    "school_cell_uuid": "36196783274643b98b1225a71973b796"
   },
   "source": [
    "선형회귀분석에서 이 통계량 분포들은 각각 다음 값에 대한 확률모형으로 사용된다.\n",
    "\n",
    "* 스튜던트 t 분포: 추정된 계수 $w$에 대한 확률 분포\n",
    "* 카이 제곱 분포: 오차 제곱합(residual sum of squre)에 대한 확률 분포\n",
    "* F 분포: 비교 대상이 되는 선형모형의 오차 제곱합에 대한 비율의 확률 분포\n",
    "\n",
    "보다 자세한 내용은 선형회귀분석에 다룬다."
   ]
  }
 ],
 "metadata": {
  "kernelspec": {
   "display_name": "Python 3",
   "language": "python",
   "name": "python3"
  },
  "language_info": {
   "codemirror_mode": {
    "name": "ipython",
    "version": 3
   },
   "file_extension": ".py",
   "mimetype": "text/x-python",
   "name": "python",
   "nbconvert_exporter": "python",
   "pygments_lexer": "ipython3",
   "version": "3.6.6"
  },
  "toc": {
   "base_numbering": 1,
   "nav_menu": {},
   "number_sections": false,
   "sideBar": true,
   "skip_h1_title": false,
   "title_cell": "Table of Contents",
   "title_sidebar": "Contents",
   "toc_cell": false,
   "toc_position": {},
   "toc_section_display": true,
   "toc_window_display": false
  }
 },
 "nbformat": 4,
 "nbformat_minor": 2
}